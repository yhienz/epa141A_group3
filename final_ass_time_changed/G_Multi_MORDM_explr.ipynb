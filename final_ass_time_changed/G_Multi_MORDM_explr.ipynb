{
 "cells": [
  {
   "cell_type": "code",
   "id": "initial_id",
   "metadata": {
    "collapsed": true,
    "ExecuteTime": {
     "end_time": "2024-06-20T22:47:32.641932Z",
     "start_time": "2024-06-20T22:47:32.581580Z"
    }
   },
   "source": [
    "# Import general python packages\n",
    "import pandas as pd\n",
    "import numpy as np\n",
    "import copy\n",
    "import matplotlib.pyplot as plt\n",
    "import seaborn as sns\n",
    "\n",
    "# Import functions\n",
    "from dike_model_function import DikeNetwork  # @UnresolvedImport\n",
    "from problem_formulation import get_model_for_problem_formulation\n",
    "from problem_formulation import sum_over,time_step_0,time_step_1, time_step_2, time_step_3, time_step_4\n",
    "\n",
    "# Loading in the necessary modules for EMA workbench and functions\n",
    "from ema_workbench import (Model, MultiprocessingEvaluator, Scenario,\n",
    "                           Constraint, ScalarOutcome, TimeSeriesOutcome, ArrayOutcome)\n",
    "from ema_workbench.util import ema_logging\n",
    "from ema_workbench import save_results, load_results, Policy\n",
    "from ema_workbench.em_framework.optimization import (EpsilonProgress)\n",
    "from ema_workbench.analysis import parcoords\n",
    "\n",
    "\n",
    "\n"
   ],
   "outputs": [
    {
     "ename": "ModuleNotFoundError",
     "evalue": "No module named 'dike_model_function'",
     "output_type": "error",
     "traceback": [
      "\u001B[1;31m---------------------------------------------------------------------------\u001B[0m",
      "\u001B[1;31mModuleNotFoundError\u001B[0m                       Traceback (most recent call last)",
      "Cell \u001B[1;32mIn[26], line 9\u001B[0m\n\u001B[0;32m      6\u001B[0m \u001B[38;5;28;01mimport\u001B[39;00m \u001B[38;5;21;01mseaborn\u001B[39;00m \u001B[38;5;28;01mas\u001B[39;00m \u001B[38;5;21;01msns\u001B[39;00m\n\u001B[0;32m      8\u001B[0m \u001B[38;5;66;03m# Import functions\u001B[39;00m\n\u001B[1;32m----> 9\u001B[0m \u001B[38;5;28;01mfrom\u001B[39;00m \u001B[38;5;21;01mdike_model_function\u001B[39;00m \u001B[38;5;28;01mimport\u001B[39;00m DikeNetwork  \u001B[38;5;66;03m# @UnresolvedImport\u001B[39;00m\n\u001B[0;32m     10\u001B[0m \u001B[38;5;28;01mfrom\u001B[39;00m \u001B[38;5;21;01mproblem_formulation\u001B[39;00m \u001B[38;5;28;01mimport\u001B[39;00m get_model_for_problem_formulation\n\u001B[0;32m     11\u001B[0m \u001B[38;5;28;01mfrom\u001B[39;00m \u001B[38;5;21;01mproblem_formulation\u001B[39;00m \u001B[38;5;28;01mimport\u001B[39;00m sum_over,time_step_0,time_step_1, time_step_2, time_step_3, time_step_4\n",
      "\u001B[1;31mModuleNotFoundError\u001B[0m: No module named 'dike_model_function'"
     ]
    }
   ],
   "execution_count": 26
  },
  {
   "metadata": {
    "ExecuteTime": {
     "end_time": "2024-06-20T22:43:10.142331Z",
     "start_time": "2024-06-20T22:43:09.719483Z"
    }
   },
   "cell_type": "code",
   "source": [
    "\n",
    "def initialize_model():\n",
    "    ema_logging.log_to_stderr(ema_logging.INFO)\n",
    "    print(\"Initializing model...\")\n",
    "    dike_model, planning_steps = get_model_for_problem_formulation(7)\n",
    "    print(\"Model initialized.\")\n",
    "    return dike_model, planning_steps\n",
    "\n",
    "# Writing a function to create actor specific problem formulations\n",
    "def problem_formulation_actor(problem_formulation_actor, uncertainties, levers):\n",
    "    # Load the model:\n",
    "    function = DikeNetwork()\n",
    "    # workbench model:\n",
    "    model = Model('dikesnet', function=function)\n",
    "    # Outcomes are all costs, thus they have to minimized:\n",
    "    direction = ScalarOutcome.MINIMIZE\n",
    "\n",
    "    model.uncertainties = uncertainties\n",
    "    model.levers = levers\n",
    "\n",
    "    cost_variables = []\n",
    "    cost_variables.extend(\n",
    "    [\n",
    "        f\"{dike}_{e}\"\n",
    "        for e in [\"Expected Annual Damage\", \"Dike Investment Costs\"]\n",
    "        for dike in function.dikelist\n",
    "    ])\n",
    "    cost_variables.extend([f\"RfR Total Costs\"])\n",
    "    cost_variables.extend([f\"Expected Evacuation Costs\"])\n",
    "\n",
    "    if problem_formulation_actor == 6:  # GELDERLAND\n",
    "        model.outcomes.clear()\n",
    "        model.outcomes = [\n",
    "            ScalarOutcome(f'Total_period_Costs_0',\n",
    "                          variable_name=dike_model.outcomes['Total_period_Costs'].variable_name,\n",
    "                          function=time_step_0, kind=direction),\n",
    "            ScalarOutcome(f'Total_period_Costs_1',\n",
    "                          variable_name=dike_model.outcomes['Total_period_Costs'].variable_name,\n",
    "                          function=time_step_1, kind=direction),\n",
    "            ScalarOutcome(f'Total_period_Costs_2',\n",
    "                          variable_name=dike_model.outcomes['Total_period_Costs'].variable_name,\n",
    "                          function=time_step_2, kind=direction),\n",
    "            # ScalarOutcome(f'Total_period_Costs_3',\n",
    "            #               variable_name=dike_model.outcomes['Total_period_Costs'].variable_name,\n",
    "            #               function=time_step_3, kind=direction),\n",
    "            # ScalarOutcome(f'Total_period_Costs_4',\n",
    "            #               variable_name=dike_model.outcomes['Total_period_Costs'].variable_name,\n",
    "            #               function=time_step_4, kind=direction),\n",
    "            ScalarOutcome('Expected Annual Damage A1_', variable_name='A.1_Expected Annual Damage', function=sum_over,\n",
    "                          kind=direction),\n",
    "            ScalarOutcome('Expected Annual Damage A2_', variable_name='A.2_Expected Annual Damage', function=sum_over,\n",
    "                          kind=direction),\n",
    "            ScalarOutcome('Expected Annual Damage A3_', variable_name='A.3_Expected Annual Damage', function=sum_over,\n",
    "                          kind=direction),\n",
    "            ScalarOutcome('Total Costs', variable_name=cost_variables, function=sum_over, kind=direction),\n",
    "            ScalarOutcome(\"Expected Number of Deaths_\", variable_name=\n",
    "            [f\"{dike}_Expected Number of Deaths\" for dike in function.dikelist], function=sum_over, kind=direction)]\n",
    "\n",
    "\n",
    "    elif problem_formulation_actor == 7:  # OVERIJSSEL\n",
    "        model.outcomes.clear()\n",
    "        model.outcomes = [\n",
    "            ScalarOutcome(f'Total_period_Costs_0',\n",
    "                          variable_name=dike_model.outcomes['Total_period_Costs'].variable_name,\n",
    "                          function=time_step_0, kind=direction),\n",
    "            ScalarOutcome(f'Total_period_Costs_1',\n",
    "                          variable_name=dike_model.outcomes['Total_period_Costs'].variable_name,\n",
    "                          function=time_step_1, kind=direction),\n",
    "            ScalarOutcome(f'Total_period_Costs_2',\n",
    "                          variable_name=dike_model.outcomes['Total_period_Costs'].variable_name,\n",
    "                          function=time_step_2, kind=direction),\n",
    "            # ScalarOutcome(f'Total_period_Costs_3',\n",
    "            #               variable_name=dike_model.outcomes['Total_period_Costs'].variable_name,\n",
    "            #               function=time_step_3, kind=direction),\n",
    "            # # ScalarOutcome(f'Total_period_Costs_4',\n",
    "            #               variable_name=dike_model.outcomes['Total_period_Costs'].variable_name,\n",
    "            #               function=time_step_4, kind=direction),\n",
    "            ScalarOutcome('Expected Annual Damage A4_', variable_name='A.4_Expected Annual Damage', function=sum_over,\n",
    "                          kind=direction),\n",
    "            ScalarOutcome('Expected Annual Damage A5_', variable_name='A.5_Expected Annual Damage', function=sum_over,\n",
    "                          kind=direction),\n",
    "            ScalarOutcome('Total Costs', variable_name=cost_variables, function=sum_over, kind=direction),\n",
    "            ScalarOutcome(\"Expected Number of Deaths_\", variable_name=\n",
    "            [f\"{dike}_Expected Number of Deaths\" for dike in function.dikelist], function=sum_over, kind=direction)]\n",
    "\n",
    "    else:\n",
    "        raise TypeError('unknown identifier')\n",
    "    return model\n",
    "\n",
    "### Overijssel\n",
    "if __name__ == '__main__':\n",
    "    dike_model, planning_steps = initialize_model()\n",
    "\n",
    "    uncertainties = dike_model.uncertainties\n",
    "    levers = dike_model.levers\n",
    "    \n",
    "    model = problem_formulation_actor(7, uncertainties, levers)\n",
    "\n",
    "    # Deepcopying the uncertainties and levers\n",
    "    uncertainties = copy.deepcopy(dike_model.uncertainties)\n",
    "    levers = copy.deepcopy(dike_model.levers)\n",
    "\n",
    "    # Running the optimization for Overijssel\n",
    "    function = DikeNetwork()"
   ],
   "id": "f109eb0fb68a8387",
   "outputs": [
    {
     "name": "stdout",
     "output_type": "stream",
     "text": [
      "Initializing model...\n"
     ]
    },
    {
     "ename": "NameError",
     "evalue": "name 'get_model_for_problem_formulation' is not defined",
     "output_type": "error",
     "traceback": [
      "\u001B[1;31m---------------------------------------------------------------------------\u001B[0m",
      "\u001B[1;31mNameError\u001B[0m                                 Traceback (most recent call last)",
      "Cell \u001B[1;32mIn[19], line 91\u001B[0m\n\u001B[0;32m     89\u001B[0m \u001B[38;5;66;03m### Overijssel\u001B[39;00m\n\u001B[0;32m     90\u001B[0m \u001B[38;5;28;01mif\u001B[39;00m \u001B[38;5;18m__name__\u001B[39m \u001B[38;5;241m==\u001B[39m \u001B[38;5;124m'\u001B[39m\u001B[38;5;124m__main__\u001B[39m\u001B[38;5;124m'\u001B[39m:\n\u001B[1;32m---> 91\u001B[0m     dike_model, planning_steps \u001B[38;5;241m=\u001B[39m initialize_model()\n\u001B[0;32m     93\u001B[0m     uncertainties \u001B[38;5;241m=\u001B[39m dike_model\u001B[38;5;241m.\u001B[39muncertainties\n\u001B[0;32m     94\u001B[0m     levers \u001B[38;5;241m=\u001B[39m dike_model\u001B[38;5;241m.\u001B[39mlevers\n",
      "Cell \u001B[1;32mIn[19], line 4\u001B[0m, in \u001B[0;36minitialize_model\u001B[1;34m()\u001B[0m\n\u001B[0;32m      2\u001B[0m ema_logging\u001B[38;5;241m.\u001B[39mlog_to_stderr(ema_logging\u001B[38;5;241m.\u001B[39mINFO)\n\u001B[0;32m      3\u001B[0m \u001B[38;5;28mprint\u001B[39m(\u001B[38;5;124m\"\u001B[39m\u001B[38;5;124mInitializing model...\u001B[39m\u001B[38;5;124m\"\u001B[39m)\n\u001B[1;32m----> 4\u001B[0m dike_model, planning_steps \u001B[38;5;241m=\u001B[39m get_model_for_problem_formulation(\u001B[38;5;241m7\u001B[39m)\n\u001B[0;32m      5\u001B[0m \u001B[38;5;28mprint\u001B[39m(\u001B[38;5;124m\"\u001B[39m\u001B[38;5;124mModel initialized.\u001B[39m\u001B[38;5;124m\"\u001B[39m)\n\u001B[0;32m      6\u001B[0m \u001B[38;5;28;01mreturn\u001B[39;00m dike_model, planning_steps\n",
      "\u001B[1;31mNameError\u001B[0m: name 'get_model_for_problem_formulation' is not defined"
     ]
    }
   ],
   "execution_count": 19
  },
  {
   "metadata": {
    "ExecuteTime": {
     "end_time": "2024-06-20T22:42:39.800745Z",
     "start_time": "2024-06-20T22:42:39.141212Z"
    }
   },
   "cell_type": "code",
   "source": [
    "policy_set= pd.read_csv(\"Gelderland_Multi_MORDM_outcomes.csv\")\n",
    "\n",
    "#add column indicating under which scenario which policy was found\n",
    "policy_snip=[]\n",
    "for i in range (1, 8):\n",
    "    policy_snip.append(policy_set.iloc[:,-i].idxmin())\n",
    "    policy_snip.append(policy_set.iloc[:,-i].idxmax())\n",
    "\n",
    "policies = policy_set.loc[policy_snip]\n",
    "policies = policies.iloc[:,1:51]\n",
    "\n",
    "\n",
    "rcase_policies = []\n",
    "for i, policy in policies.iterrows():\n",
    "    rcase_policies.append(Policy(str(i), **policy.to_dict()))\n",
    "\n",
    "n_scenarios = 2000\n",
    "with MultiprocessingEvaluator(model) as evaluator:\n",
    "    reference_policies_results = evaluator.perform_experiments(n_scenarios,\n",
    "                                            rcase_policies)\n",
    "save_results(reference_policies_results, 'MultiMORDM_G.tar.gz')\n"
   ],
   "id": "72cf3b61fc3afdc9",
   "outputs": [
    {
     "ename": "NameError",
     "evalue": "name 'model' is not defined",
     "output_type": "error",
     "traceback": [
      "\u001B[1;31m---------------------------------------------------------------------------\u001B[0m",
      "\u001B[1;31mNameError\u001B[0m                                 Traceback (most recent call last)",
      "Cell \u001B[1;32mIn[18], line 18\u001B[0m\n\u001B[0;32m     15\u001B[0m     rcase_policies\u001B[38;5;241m.\u001B[39mappend(Policy(\u001B[38;5;28mstr\u001B[39m(i), \u001B[38;5;241m*\u001B[39m\u001B[38;5;241m*\u001B[39mpolicy\u001B[38;5;241m.\u001B[39mto_dict()))\n\u001B[0;32m     17\u001B[0m n_scenarios \u001B[38;5;241m=\u001B[39m \u001B[38;5;241m2000\u001B[39m\n\u001B[1;32m---> 18\u001B[0m \u001B[38;5;28;01mwith\u001B[39;00m MultiprocessingEvaluator(model) \u001B[38;5;28;01mas\u001B[39;00m evaluator:\n\u001B[0;32m     19\u001B[0m     reference_policies_results \u001B[38;5;241m=\u001B[39m evaluator\u001B[38;5;241m.\u001B[39mperform_experiments(n_scenarios,\n\u001B[0;32m     20\u001B[0m                                             rcase_policies)\n\u001B[0;32m     21\u001B[0m save_results(reference_policies_results, \u001B[38;5;124m'\u001B[39m\u001B[38;5;124mMultiMORDM_G.tar.gz\u001B[39m\u001B[38;5;124m'\u001B[39m)\n",
      "\u001B[1;31mNameError\u001B[0m: name 'model' is not defined"
     ]
    }
   ],
   "execution_count": 18
  },
  {
   "metadata": {
    "ExecuteTime": {
     "end_time": "2024-06-20T22:31:49.666928Z",
     "start_time": "2024-06-20T22:31:49.655005Z"
    }
   },
   "cell_type": "code",
   "source": "",
   "id": "1efadf66a88b245e",
   "outputs": [
    {
     "data": {
      "text/plain": [
       "0.0"
      ]
     },
     "execution_count": 10,
     "metadata": {},
     "output_type": "execute_result"
    }
   ],
   "execution_count": 10
  },
  {
   "metadata": {},
   "cell_type": "code",
   "outputs": [],
   "execution_count": null,
   "source": "",
   "id": "c4984325b3827863"
  }
 ],
 "metadata": {
  "kernelspec": {
   "display_name": "Python 3",
   "language": "python",
   "name": "python3"
  },
  "language_info": {
   "codemirror_mode": {
    "name": "ipython",
    "version": 2
   },
   "file_extension": ".py",
   "mimetype": "text/x-python",
   "name": "python",
   "nbconvert_exporter": "python",
   "pygments_lexer": "ipython2",
   "version": "2.7.6"
  }
 },
 "nbformat": 4,
 "nbformat_minor": 5
}
