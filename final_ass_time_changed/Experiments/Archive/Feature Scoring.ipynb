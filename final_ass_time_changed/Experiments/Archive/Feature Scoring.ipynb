{
 "cells": [
  {
   "cell_type": "code",
   "execution_count": null,
   "id": "initial_id",
   "metadata": {
    "collapsed": true
   },
   "outputs": [],
   "source": [
    "import numpy as np\n",
    "import scipy as sp\n",
    "import pandas as pd\n",
    "import matplotlib.pyplot as plt\n",
    "import ema_workbench\n",
    "import seaborn as sns"
   ]
  },
  {
   "metadata": {},
   "cell_type": "code",
   "outputs": [],
   "execution_count": null,
   "source": [
    "from ema_workbench import load_results\n",
    "\n",
    "experiments, outcomes = load_results ('Week22_Open_exploration_PD5_100_25.gz')"
   ],
   "id": "94b0f4b716e9a567"
  },
  {
   "metadata": {
    "ExecuteTime": {
     "end_time": "2024-05-30T12:11:52.567859Z",
     "start_time": "2024-05-30T12:11:48.521766Z"
    }
   },
   "cell_type": "code",
   "source": [
    "from ema_workbench import feature_scoring\n",
    "\n",
    "x = experiments\n",
    "y = outcomes\n",
    "\n",
    "fs= feature_scoring.get_feature_scores(x,y)\n",
    "\n",
    "fig, ax = plt.subplots(figsize=(15,15))\n",
    "sns.heatmap(fs, cmap='viridis', annot=True)\n",
    "\n",
    "plt.show()"
   ],
   "id": "130bcb7ce3969529",
   "outputs": [
    {
     "ename": "ImportError",
     "evalue": "cannot import name 'feature_scoring' from 'ema_workbench' (C:\\Users\\CLDert\\AppData\\Roaming\\Python\\Python311\\site-packages\\ema_workbench\\__init__.py)",
     "output_type": "error",
     "traceback": [
      "\u001B[1;31m---------------------------------------------------------------------------\u001B[0m",
      "\u001B[1;31mImportError\u001B[0m                               Traceback (most recent call last)",
      "Cell \u001B[1;32mIn[1], line 1\u001B[0m\n\u001B[1;32m----> 1\u001B[0m \u001B[38;5;28;01mfrom\u001B[39;00m \u001B[38;5;21;01mema_workbench\u001B[39;00m \u001B[38;5;28;01mimport\u001B[39;00m feature_scoring\n\u001B[0;32m      3\u001B[0m x \u001B[38;5;241m=\u001B[39m experiments\n\u001B[0;32m      4\u001B[0m y \u001B[38;5;241m=\u001B[39m outcomes\n",
      "\u001B[1;31mImportError\u001B[0m: cannot import name 'feature_scoring' from 'ema_workbench' (C:\\Users\\CLDert\\AppData\\Roaming\\Python\\Python311\\site-packages\\ema_workbench\\__init__.py)"
     ]
    }
   ],
   "execution_count": 1
  },
  {
   "metadata": {},
   "cell_type": "code",
   "outputs": [],
   "execution_count": null,
   "source": "",
   "id": "6f0509059b721988"
  }
 ],
 "metadata": {
  "kernelspec": {
   "display_name": "Python 3",
   "language": "python",
   "name": "python3"
  },
  "language_info": {
   "codemirror_mode": {
    "name": "ipython",
    "version": 2
   },
   "file_extension": ".py",
   "mimetype": "text/x-python",
   "name": "python",
   "nbconvert_exporter": "python",
   "pygments_lexer": "ipython2",
   "version": "2.7.6"
  }
 },
 "nbformat": 4,
 "nbformat_minor": 5
}
