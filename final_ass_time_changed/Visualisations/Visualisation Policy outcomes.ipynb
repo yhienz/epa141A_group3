{
 "cells": [
  {
   "cell_type": "code",
   "id": "initial_id",
   "metadata": {
    "collapsed": true,
    "ExecuteTime": {
     "end_time": "2024-06-10T12:09:28.520054Z",
     "start_time": "2024-06-10T12:09:28.504518Z"
    }
   },
   "source": [
    "import pandas as pd\n",
    "import matplotlib.pyplot as plt"
   ],
   "execution_count": 6,
   "outputs": []
  },
  {
   "metadata": {
    "ExecuteTime": {
     "end_time": "2024-06-10T12:09:29.066954Z",
     "start_time": "2024-06-10T12:09:29.056731Z"
    }
   },
   "cell_type": "code",
   "source": [
    "#load data\n",
    "df= pd.read_csv('data/MODRM_DF.csv')"
   ],
   "id": "a9efd7ce3615b5f0",
   "execution_count": 7,
   "outputs": []
  },
  {
   "metadata": {
    "ExecuteTime": {
     "end_time": "2024-06-10T12:09:31.742379Z",
     "start_time": "2024-06-10T12:09:29.617593Z"
    }
   },
   "cell_type": "code",
   "source": [
    "# Define the columns representing values over time\n",
    "time_columns = [\n",
    "    '0_RfR 0', '0_RfR 1', '0_RfR 2',\n",
    "    '1_RfR 0', '1_RfR 1', '1_RfR 2',\n",
    "    '2_RfR 0', '2_RfR 1', '2_RfR 2',\n",
    "    '3_RfR 0', '3_RfR 1', '3_RfR 2',\n",
    "    '4_RfR 0', '4_RfR 1', '4_RfR 2',\n",
    "    'A.1_DikeIncrease 0', 'A.1_DikeIncrease 1', 'A.1_DikeIncrease 2',\n",
    "    'A.2_DikeIncrease 0', 'A.2_DikeIncrease 1', 'A.2_DikeIncrease 2',\n",
    "    'A.3_DikeIncrease 0', 'A.3_DikeIncrease 1', 'A.3_DikeIncrease 2',\n",
    "    'A.4_DikeIncrease 0', 'A.4_DikeIncrease 1', 'A.4_DikeIncrease 2',\n",
    "    'A.5_DikeIncrease 0', 'A.5_DikeIncrease 1', 'A.5_DikeIncrease 2'\n",
    "]\n",
    "\n",
    "# Prepare time points\n",
    "time_points = [0, 1, 2]\n",
    "policies = df.index\n",
    "\n",
    "plt.figure(figsize=(15, 10))\n",
    "\n",
    "# Create subplots for each policy\n",
    "for i, policy in enumerate(policies):\n",
    "    plt.subplot(len(policies), 1, i + 1)\n",
    "    for col_base in ['0_RfR', '1_RfR', '2_RfR', '3_RfR', '4_RfR', 'A.1_DikeIncrease', 'A.2_DikeIncrease', 'A.3_DikeIncrease', 'A.4_DikeIncrease', 'A.5_DikeIncrease']:\n",
    "        plt.plot(\n",
    "            time_points,\n",
    "            [df[f'{col_base} {t}'].iloc[policy] for t in time_points],\n",
    "            marker='o',\n",
    "            label=col_base if policy == 0 else \"\"  # Only add label for the first plot to avoid redundancy\n",
    "        )\n",
    "    plt.title(f'Policy {policy}')\n",
    "    plt.xlabel('Time')\n",
    "    plt.ylabel('Values')\n",
    "    if policy == 0:\n",
    "        plt.legend(loc='upper left')\n",
    "\n",
    "plt.tight_layout()\n",
    "plt.show()\n",
    "\n",
    "# Create histogram for total costs\n",
    "plt.figure(figsize=(10, 6))\n",
    "plt.bar(df.index, df['Total Costs'], color='skyblue')\n",
    "plt.xlabel('Policy')\n",
    "plt.ylabel('Total Costs')\n",
    "plt.title('Total Costs for Different Policies')\n",
    "plt.xticks(df.index)\n",
    "plt.grid(axis='y')\n",
    "plt.show()"
   ],
   "id": "4c47eb16ac36d7c2",
   "execution_count": 8,
   "outputs": []
  },
  {
   "metadata": {},
   "cell_type": "code",
   "execution_count": null,
   "source": "",
   "id": "8eb088cfdbbabbdc",
   "outputs": []
  }
 ],
 "metadata": {
  "kernelspec": {
   "display_name": "Python 3",
   "language": "python",
   "name": "python3"
  },
  "language_info": {
   "codemirror_mode": {
    "name": "ipython",
    "version": 2
   },
   "file_extension": ".py",
   "mimetype": "text/x-python",
   "name": "python",
   "nbconvert_exporter": "python",
   "pygments_lexer": "ipython2",
   "version": "2.7.6"
  }
 },
 "nbformat": 4,
 "nbformat_minor": 5
}
