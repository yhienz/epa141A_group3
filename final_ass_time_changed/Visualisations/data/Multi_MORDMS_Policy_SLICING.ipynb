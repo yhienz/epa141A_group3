{
 "cells": [
  {
   "cell_type": "code",
   "id": "initial_id",
   "metadata": {
    "collapsed": true,
    "ExecuteTime": {
     "end_time": "2024-06-21T10:24:46.106814Z",
     "start_time": "2024-06-21T10:24:46.089847Z"
    }
   },
   "source": [
    "# Import general python packages\n",
    "import pandas as pd\n",
    "import numpy as np\n",
    "import copy\n",
    "import seaborn as sns\n",
    "\n",
    "# Import functions\n",
    "from dike_model_function import DikeNetwork  # @UnresolvedImport\n",
    "from problem_formulation import get_model_for_problem_formulation\n",
    "from problem_formulation import sum_over,time_step_0,time_step_1, time_step_2, time_step_3, time_step_4\n",
    "from sklearn.cluster import KMeans\n",
    "\n",
    "# Loading in the necessary modules for EMA workbench and functions\n",
    "from ema_workbench import (Model, MultiprocessingEvaluator, Scenario,\n",
    "                           Constraint, ScalarOutcome, TimeSeriesOutcome, ArrayOutcome)\n",
    "from ema_workbench.util import ema_logging\n",
    "from ema_workbench import save_results, load_results, Policy\n",
    "from ema_workbench.em_framework.optimization import (EpsilonProgress)\n",
    "from ema_workbench.analysis import parcoords"
   ],
   "outputs": [],
   "execution_count": 4
  },
  {
   "metadata": {
    "ExecuteTime": {
     "end_time": "2024-06-21T10:28:37.838390Z",
     "start_time": "2024-06-21T10:28:37.788391Z"
    }
   },
   "cell_type": "code",
   "source": [
    "policy_set = pd.read_csv(\"Gelderland_Multi_MORDM_outcomes.csv\")\n",
    "\n",
    "# add column indicating under which scenario which policy was found\n",
    "policy_snip = []\n",
    "for i in range(1, 8):\n",
    "    policy_snip.append(policy_set.iloc[:, -i].idxmin())\n",
    "    policy_snip.append(policy_set.iloc[:, -i].idxmax())\n",
    "\n",
    "pareto_df = policy_set\n",
    "\n",
    "# Selecteer de laatste 7 kolommen (objectieven)\n",
    "objective_columns = pareto_df.columns[-7:]\n",
    "\n",
    "# Verdeel elke doelstelling in 3 segmenten en selecteer één oplossing uit elk segment\n",
    "selected_policies = pd.DataFrame()\n",
    "\n",
    "for objective in objective_columns:\n",
    "    # Sorteer de Pareto-set op de huidige doelstelling\n",
    "    pareto_df_sorted = pareto_df.sort_values(by=objective)\n",
    "\n",
    "    # Verdeel de Pareto-set in 3 gelijke segmenten\n",
    "    indices = np.linspace(0, len(pareto_df_sorted) - 1, 4, dtype=int)\n",
    "\n",
    "    # Omzetten naar een enkele lijst van indices\n",
    "    selected_indices = (indices[:-1] + np.diff(indices) // 2).tolist()\n",
    "\n",
    "    # Selecteer de rijen met de geselecteerde indices en voeg toe aan selected_policies\n",
    "    selected_policies = pd.concat([selected_policies, pareto_df_sorted.iloc[selected_indices]])\n",
    "\n",
    "policy_snip2 = selected_policies.index.tolist()\n",
    "\n",
    "total_snip = policy_snip + policy_snip2\n",
    "    #len(total_snip)  # 35 = 14+21 dus klopt\n",
    "unique_snip = list(set(total_snip))\n",
    "\n",
    "policies = policy_set.loc[unique_snip]\n",
    "policies = policies.iloc[:,1:51]\n",
    "policies.to_csv(\"Gelderland_Multi_MORDM_SLICING_policies.csv\")"
   ],
   "id": "aad970a4a9c48f6",
   "outputs": [],
   "execution_count": 7
  },
  {
   "metadata": {
    "ExecuteTime": {
     "end_time": "2024-06-21T10:28:40.444158Z",
     "start_time": "2024-06-21T10:28:40.416117Z"
    }
   },
   "cell_type": "code",
   "source": [
    "policy_set= pd.read_csv(\"Overijssel Multi MORDM_Policies.csv\")\n",
    "\n",
    "policy_snip=[]\n",
    "for i in range (2, 8):\n",
    "    policy_snip.append(policy_set.iloc[:,-i].idxmin())\n",
    "    policy_snip.append(policy_set.iloc[:,-i].idxmax())\n",
    "    #print(policy_set.columns[-i])\n",
    "\n",
    "len(policy_snip)\n",
    "\n",
    "pareto_df= policy_set\n",
    "\n",
    "#Selecteer de kolommen met (objectieven)\n",
    "objective_columns = pareto_df.columns[-7:-1]\n",
    "\n",
    "# Verdeel elke doelstelling in 3 segmenten en selecteer één oplossing uit elk segment\n",
    "selected_policies = pd.DataFrame()\n",
    "\n",
    "for objective in objective_columns:\n",
    "    # Sorteer de Pareto-set op de huidige doelstelling\n",
    "    pareto_df_sorted = pareto_df.sort_values(by=objective)\n",
    "\n",
    "    # Verdeel de Pareto-set in 3 gelijke segmenten\n",
    "    indices = np.linspace(0, len(pareto_df_sorted) - 1, 4, dtype=int)\n",
    "\n",
    "    # Omzetten naar een enkele lijst van indices\n",
    "    selected_indices = (indices[:-1] + np.diff(indices) // 2).tolist()\n",
    "\n",
    "    # Selecteer de rijen met de geselecteerde indices en voeg toe aan selected_policies\n",
    "    selected_policies = pd.concat([selected_policies, pareto_df_sorted.iloc[selected_indices]])\n",
    "\n",
    "policy_snip2=  selected_policies.index.tolist()\n",
    "\n",
    "total_snip= policy_snip + policy_snip2\n",
    "len(total_snip) #30 = 12+18 dus klopt\n",
    "unique_snip = list(set(total_snip))\n",
    "len(unique_snip)\n",
    "\n",
    "policies = policy_set.loc[unique_snip]\n",
    "policies = policies.iloc[:,1:51]\n",
    "policies\n",
    "policies.to_csv(\"Overijssel_Multi_MORDM_SLICING_policies.csv\")"
   ],
   "id": "d9bb256c09577df",
   "outputs": [],
   "execution_count": 8
  },
  {
   "metadata": {},
   "cell_type": "code",
   "outputs": [],
   "execution_count": null,
   "source": "",
   "id": "e89414479fdecf2c"
  }
 ],
 "metadata": {
  "kernelspec": {
   "display_name": "Python 3",
   "language": "python",
   "name": "python3"
  },
  "language_info": {
   "codemirror_mode": {
    "name": "ipython",
    "version": 2
   },
   "file_extension": ".py",
   "mimetype": "text/x-python",
   "name": "python",
   "nbconvert_exporter": "python",
   "pygments_lexer": "ipython2",
   "version": "2.7.6"
  }
 },
 "nbformat": 4,
 "nbformat_minor": 5
}
