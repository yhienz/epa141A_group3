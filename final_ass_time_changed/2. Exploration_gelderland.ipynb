{
 "cells": [
  {
   "metadata": {},
   "cell_type": "markdown",
   "source": "# Exploration of the Single MORDM Gelderland",
   "id": "e8a496d3f5325c19"
  },
  {
   "metadata": {},
   "cell_type": "markdown",
   "source": [
    "This file follows the approach of the corresponding report. Within the exploration of the single MORDM Gelderland, 3 analyses will be conducted. This file has the following subchapters:\n",
    "- initializing model\n",
    "- Retrieve the policies & outcomes\n",
    "- Analysis (1): Trade-off analysis\n",
    "- Analysis (2): Open exploration\n",
    "- Analysis (3): Best-case-worst-case selection"
   ],
   "id": "e5e475136058e16c"
  },
  {
   "metadata": {
    "ExecuteTime": {
     "end_time": "2024-06-20T18:37:31.726969Z",
     "start_time": "2024-06-20T18:36:49.094445Z"
    }
   },
   "cell_type": "code",
   "source": [
    "# Import general python packages\n",
    "import pandas as pd\n",
    "import numpy as np\n",
    "import copy\n",
    "import matplotlib.pyplot as plt\n",
    "\n",
    "import seaborn as sns\n",
    "\n",
    "# Import functions\n",
    "from dike_model_function import DikeNetwork  # @UnresolvedImport\n",
    "from problem_formulation import get_model_for_problem_formulation\n",
    "from problem_formulation import sum_over,time_step_0,time_step_1\n",
    "\n",
    "# Loading in the necessary modules for EMA workbench and functions\n",
    "from ema_workbench import (Model, Scenario, Constraint, ScalarOutcome)\n",
    "from ema_workbench.util import ema_logging\n",
    "from ema_workbench import save_results, load_results\n",
    "from ema_workbench.analysis import feature_scoring\n",
    "from ema_workbench.analysis import parcoords"
   ],
   "id": "1db01f92051cf23a",
   "execution_count": 2,
   "outputs": []
  },
  {
   "metadata": {},
   "cell_type": "markdown",
   "source": "## Model initializen",
   "id": "88a7a59248e42403"
  },
  {
   "metadata": {
    "ExecuteTime": {
     "end_time": "2024-06-20T18:38:16.293928Z",
     "start_time": "2024-06-20T18:38:11.751864Z"
    }
   },
   "cell_type": "code",
   "source": [
    "\n",
    "def initialize_model():\n",
    "    ema_logging.log_to_stderr(ema_logging.INFO)\n",
    "    print(\"Initializing model...\")\n",
    "    dike_model, planning_steps = get_model_for_problem_formulation(7)\n",
    "    print(\"Model initialized.\")\n",
    "    return dike_model, planning_steps\n",
    "\n",
    "# Writing a function to create actor specific problem formulations\n",
    "def problem_formulation_actor(problem_formulation_actor, uncertainties, levers):\n",
    "    # Load the model:\n",
    "    function = DikeNetwork()\n",
    "    # workbench model:\n",
    "    model = Model('dikesnet', function=function)\n",
    "    # Outcomes are all costs, thus they have to minimized:\n",
    "    direction = ScalarOutcome.MINIMIZE\n",
    "\n",
    "    model.uncertainties = uncertainties\n",
    "    model.levers = levers\n",
    "\n",
    "    cost_variables = []\n",
    "    cost_variables.extend(\n",
    "    [\n",
    "        f\"{dike}_{e}\"\n",
    "        for e in [\"Expected Annual Damage\", \"Dike Investment Costs\"]\n",
    "        for dike in function.dikelist\n",
    "    ])\n",
    "    cost_variables.extend([f\"RfR Total Costs\"])\n",
    "    cost_variables.extend([f\"Expected Evacuation Costs\"])\n",
    "\n",
    "    if problem_formulation_actor == 6:  # GELDERLAND\n",
    "        model.outcomes.clear()\n",
    "        model.outcomes = [\n",
    "            ScalarOutcome(f'Total_period_Costs_0',\n",
    "                          variable_name=dike_model.outcomes['Total_period_Costs'].variable_name,\n",
    "                          function=time_step_0, kind=direction),\n",
    "            ScalarOutcome(f'Total_period_Costs_1',\n",
    "                          variable_name=dike_model.outcomes['Total_period_Costs'].variable_name,\n",
    "                          function=time_step_1, kind=direction),\n",
    "            # ScalarOutcome(f'Total_period_Costs_2',\n",
    "            #               variable_name=dike_model.outcomes['Total_period_Costs'].variable_name,\n",
    "            #               function=time_step_2, kind=direction),\n",
    "            # ScalarOutcome(f'Total_period_Costs_3',\n",
    "            #               variable_name=dike_model.outcomes['Total_period_Costs'].variable_name,\n",
    "            #               function=time_step_3, kind=direction),\n",
    "            # ScalarOutcome(f'Total_period_Costs_4',\n",
    "            #               variable_name=dike_model.outcomes['Total_period_Costs'].variable_name,\n",
    "            #               function=time_step_4, kind=direction),\n",
    "            ScalarOutcome('Expected Annual Damage A1_', variable_name='A.1_Expected Annual Damage', function=sum_over,\n",
    "                          kind=direction),\n",
    "            ScalarOutcome('Expected Annual Damage A2_', variable_name='A.2_Expected Annual Damage', function=sum_over,\n",
    "                          kind=direction),\n",
    "            ScalarOutcome('Expected Annual Damage A3_', variable_name='A.3_Expected Annual Damage', function=sum_over,\n",
    "                          kind=direction),\n",
    "            ScalarOutcome('Total Costs', variable_name=cost_variables, function=sum_over, kind=direction),\n",
    "            ScalarOutcome(\"Expected Number of Deaths_\", variable_name=\n",
    "            [f\"{dike}_Expected Number of Deaths\" for dike in function.dikelist], function=sum_over, kind=direction)]\n",
    "\n",
    "\n",
    "    elif problem_formulation_actor == 7:  # OVERIJSSEL\n",
    "        model.outcomes.clear()\n",
    "        model.outcomes = [\n",
    "            ScalarOutcome(f'Total_period_Costs_0',\n",
    "                          variable_name=dike_model.outcomes['Total_period_Costs'].variable_name,\n",
    "                          function=time_step_0, kind=direction),\n",
    "            ScalarOutcome(f'Total_period_Costs_1',\n",
    "                          variable_name=dike_model.outcomes['Total_period_Costs'].variable_name,\n",
    "                          function=time_step_1, kind=direction),\n",
    "            # ScalarOutcome(f'Total_period_Costs_2',\n",
    "            #               variable_name=dike_model.outcomes['Total_period_Costs'].variable_name,\n",
    "            #               function=time_step_2, kind=direction),\n",
    "            # # ScalarOutcome(f'Total_period_Costs_3',\n",
    "            #               variable_name=dike_model.outcomes['Total_period_Costs'].variable_name,\n",
    "            #               function=time_step_3, kind=direction),\n",
    "            # # ScalarOutcome(f'Total_period_Costs_4',\n",
    "            #               variable_name=dike_model.outcomes['Total_period_Costs'].variable_name,\n",
    "            #               function=time_step_4, kind=direction),\n",
    "            ScalarOutcome('Expected Annual Damage A4_', variable_name='A.4_Expected Annual Damage', function=sum_over,\n",
    "                          kind=direction),\n",
    "            ScalarOutcome('Expected Annual Damage A5_', variable_name='A.5_Expected Annual Damage', function=sum_over,\n",
    "                          kind=direction),\n",
    "            ScalarOutcome('Total Costs', variable_name=cost_variables, function=sum_over, kind=direction),\n",
    "            ScalarOutcome(\"Expected Number of Deaths_\", variable_name=\n",
    "            [f\"{dike}_Expected Number of Deaths\" for dike in function.dikelist], function=sum_over, kind=direction)]\n",
    "\n",
    "    else:\n",
    "        raise TypeError('unknown identifier')\n",
    "    return model\n",
    "\n",
    "### Overijssel\n",
    "if __name__ == '__main__':\n",
    "    dike_model, planning_steps = initialize_model()\n",
    "\n",
    "    uncertainties = dike_model.uncertainties\n",
    "    levers = dike_model.levers\n",
    "    \n",
    "    model = problem_formulation_actor(6, uncertainties, levers)\n",
    "\n",
    "    # Deepcopying the uncertainties and levers\n",
    "    uncertainties = copy.deepcopy(dike_model.uncertainties)\n",
    "    levers = copy.deepcopy(dike_model.levers)\n",
    "\n",
    "    # Running the optimization for Overijssel\n",
    "    function = DikeNetwork()"
   ],
   "id": "2fe75d708cafdba9",
   "execution_count": 7,
   "outputs": []
  },
  {
   "metadata": {},
   "cell_type": "markdown",
   "source": "## Retrieving the policies and outcomes ",
   "id": "62481a364d01732d"
  },
  {
   "metadata": {
    "ExecuteTime": {
     "end_time": "2024-06-20T18:38:19.125574Z",
     "start_time": "2024-06-20T18:38:19.085820Z"
    }
   },
   "cell_type": "code",
   "source": [
    "#read a CSV file into a DataFrame\n",
    "rf_policy_set= pd.read_csv('Gelderland_MORDM_outcomes_trade_off.csv')"
   ],
   "id": "a869a70c395e015e",
   "execution_count": 8,
   "outputs": []
  },
  {
   "metadata": {
    "ExecuteTime": {
     "end_time": "2024-06-20T18:38:20.220436Z",
     "start_time": "2024-06-20T18:38:20.191215Z"
    }
   },
   "cell_type": "code",
   "source": [
    "policy_set = rf_policy_set.loc[~rf_policy_set.iloc[:, 1:51].duplicated()]\n",
    "policies_o = policy_set.iloc[:,1:51]"
   ],
   "id": "bfedbb5f0015f469",
   "execution_count": 9,
   "outputs": []
  },
  {
   "metadata": {
    "ExecuteTime": {
     "end_time": "2024-06-20T19:06:43.688016Z",
     "start_time": "2024-06-20T19:06:43.381380Z"
    }
   },
   "cell_type": "code",
   "source": "policies_o = policy_set.iloc[1::2]",
   "id": "c922df4c897a2e49",
   "execution_count": 22,
   "outputs": []
  },
  {
   "metadata": {},
   "cell_type": "markdown",
   "source": "## Analysis (1): Trade-off Analysis\n",
   "id": "f95930de86ba42bd"
  },
  {
   "metadata": {
    "ExecuteTime": {
     "end_time": "2024-06-20T19:07:15.935818Z",
     "start_time": "2024-06-20T19:06:52.947436Z"
    }
   },
   "cell_type": "code",
   "source": [
    "# creating the variables\n",
    "df_outcomes = policies_o.loc[:, [o.name for o in model.outcomes]]\n",
    "ref_limits = parcoords.get_limits(df_outcomes)\n",
    "ref_limits.loc[0, df_outcomes.columns] = 0\n",
    "\n",
    "paraxes = parcoords.ParallelAxes(ref_limits)\n",
    "\n",
    "# Set the figure size to a larger dimension\n",
    "plt.figure(figsize=(20, 18))\n",
    "\n",
    "paraxes.plot(df_outcomes)\n",
    "plt.tight_layout()\n",
    "plt.show()"
   ],
   "id": "358a180f78050cf3",
   "execution_count": 23,
   "outputs": []
  },
  {
   "metadata": {},
   "cell_type": "markdown",
   "source": "## Analysis (2): Open Exploration analysis ",
   "id": "a9c25622244d224d"
  },
  {
   "metadata": {},
   "cell_type": "code",
   "execution_count": null,
   "source": "experiments, outcomes = load_results('Exploration_Gelderland.tar.gz')",
   "id": "961d6b301d7dd174",
   "outputs": []
  },
  {
   "metadata": {},
   "cell_type": "code",
   "execution_count": null,
   "source": [
    "data = {}\n",
    "for k,v in outcomes.items():\n",
    "    if len(v.shape)>1:\n",
    "        v=v[:,-1]\n",
    "    data[k] = v\n",
    "data = pd.DataFrame.from_dict(data)\n",
    "\n",
    "#calcualting correlations between the outcomes of interest\n",
    "correlations = data.corr()\n",
    "\n",
    "plt.figure(figsize=(10, 8))\n",
    "sns.heatmap(correlations, annot=True, cmap='coolwarm', fmt='.2f')\n",
    "plt.title('Correlation Matrix objectives ')\n",
    "plt.show()"
   ],
   "id": "3b001c9d38fba3b9",
   "outputs": []
  },
  {
   "metadata": {},
   "cell_type": "code",
   "execution_count": null,
   "source": [
    "# Feature scoring \n",
    "x = experiments.iloc[:,:21]\n",
    "y = outcomes\n",
    "\n",
    "fs = feature_scoring.get_feature_scores_all(x, y)\n",
    "\n",
    "fig, ax = plt.subplots(figsize=(15,15))         # Sample figsize in inches\n",
    "sns.heatmap(fs, cmap='viridis', annot=True)\n",
    "\n",
    "plt.show()"
   ],
   "id": "e86d78378635a15f",
   "outputs": []
  },
  {
   "metadata": {},
   "cell_type": "markdown",
   "source": "### Sobol",
   "id": "84c60ed31bc8ef92"
  },
  {
   "metadata": {
    "ExecuteTime": {
     "end_time": "2024-06-18T21:09:21.119630Z",
     "start_time": "2024-06-18T21:09:21.110362Z"
    }
   },
   "cell_type": "code",
   "source": "from SALib.analyze import sobol",
   "id": "26d612261353d9bd",
   "execution_count": 49,
   "outputs": []
  },
  {
   "metadata": {
    "ExecuteTime": {
     "end_time": "2024-06-18T21:09:21.131191Z",
     "start_time": "2024-06-18T21:09:21.119630Z"
    }
   },
   "cell_type": "code",
   "source": [
    "for outcome in outcomes_pol_set:\n",
    "    print(outcome)"
   ],
   "id": "561df5a24bfefea4",
   "execution_count": 50,
   "outputs": []
  },
  {
   "metadata": {
    "ExecuteTime": {
     "end_time": "2024-06-18T21:09:21.148867Z",
     "start_time": "2024-06-18T21:09:21.131191Z"
    }
   },
   "cell_type": "code",
   "source": [
    "xx = x.iloc[:,[1]]\n",
    "xx"
   ],
   "id": "5900e56c98a0dbbe",
   "execution_count": 51,
   "outputs": []
  },
  {
   "metadata": {
    "ExecuteTime": {
     "end_time": "2024-06-18T21:09:21.158598Z",
     "start_time": "2024-06-18T21:09:21.148867Z"
    }
   },
   "cell_type": "code",
   "source": "yy = pd.DataFrame(y)",
   "id": "c2c43ca550d23048",
   "execution_count": 52,
   "outputs": []
  },
  {
   "metadata": {
    "ExecuteTime": {
     "end_time": "2024-06-18T21:09:21.171003Z",
     "start_time": "2024-06-18T21:09:21.158598Z"
    }
   },
   "cell_type": "code",
   "source": "yy.size",
   "id": "5bddadec14f0a3b2",
   "execution_count": 53,
   "outputs": []
  },
  {
   "metadata": {
    "ExecuteTime": {
     "end_time": "2024-06-18T21:09:51.549676Z",
     "start_time": "2024-06-18T21:09:46.292432Z"
    }
   },
   "cell_type": "code",
   "source": [
    "from SALib.sample import saltelli\n",
    "problem = {\n",
    "    'num_vars': len(x.columns),\n",
    "    'names': list(x.columns),\n",
    "    'bounds': [(min(x[col]), max(x[col])) for col in x],\n",
    "    'dists': ['unif'] * len(x.columns)\n",
    "}\n",
    "\n",
    "param_values = saltelli.sample(problem, 2000, calc_second_order=True)\n",
    "\n",
    "for _ in range(len(yy.columns)):\n",
    "    print(yy.iloc[:,_])\n",
    "    Si = sobol.analyze(problem, yy.iloc[:,_], print_to_console=True)"
   ],
   "id": "65dc1d8ed6e92332",
   "execution_count": 55,
   "outputs": []
  },
  {
   "metadata": {
    "ExecuteTime": {
     "end_time": "2024-06-18T21:09:53.292467Z",
     "start_time": "2024-06-18T21:09:53.209951Z"
    }
   },
   "cell_type": "code",
   "source": [
    "import pandas as pd\n",
    "import numpy as np\n",
    "from SALib.sample import saltelli\n",
    "from SALib.analyze import sobol\n",
    "\n",
    "# Assuming 'x' is your DataFrame with 1000 samples for 71 input variables\n",
    "# And 'yy' is your DataFrame with 1000 samples for 10 outcomes\n",
    "\n",
    "# Step 1: Define the problem dictionary\n",
    "problem = {\n",
    "    'num_vars': len(xx.columns),  # Number of input variables\n",
    "    'names': list(xx.columns),  # Names of the input variables\n",
    "    'bounds': [(min(xx[col]), max(xx[col])) for col in xx],  # Bounds for each input variable\n",
    "    'dists': ['unif'] * len(xx.columns)  # Assuming uniform distribution for each variable\n",
    "}\n",
    "\n",
    "param_values = saltelli.sample(problem, 2000, calc_second_order=True)\n",
    "# Step 3: Run Sobol analysis for each outcome\n",
    "results = {}\n",
    "for outcome in yy.columns:\n",
    "    # Assuming the order of rows in `yy` corresponds to the order of rows in `x`\n",
    "    Y = yy[outcome].values  # Extract outcome values as array\n",
    "    \n",
    "    # Check the sample size consistency\n",
    "    if len(Y) != param_values.shape[0] // (len(problem['names']) + 2):\n",
    "        raise ValueError(\"Number of samples in outcomes does not match the required number of samples for Sobol analysis\")\n",
    "\n",
    "    else: # Perform Sobol sensitivity analysis\n",
    "        Si = sobol.analyze(problem, Y, print_to_console=True)\n",
    "        \n",
    "        results[outcome] = Si\n",
    "\n",
    "sobol_indices = {}\n",
    "for outcome, Si in results.items():\n",
    "    sobol_indices[outcome] = {\n",
    "        'S1': Si['S1'],\n",
    "        'ST': Si['ST'],\n",
    "        'S2': Si['S2']\n",
    "    }\n",
    "\n",
    "sobol_df = pd.DataFrame(sobol_indices)\n",
    "print(sobol_df)\n"
   ],
   "id": "194e45f07c49e54e",
   "execution_count": 56,
   "outputs": []
  },
  {
   "metadata": {},
   "cell_type": "markdown",
   "source": "# Selecting the scenarios \n",
   "id": "9d77f8340fab705b"
  },
  {
   "metadata": {
    "ExecuteTime": {
     "end_time": "2024-06-18T21:09:55.290804Z",
     "start_time": "2024-06-18T21:09:55.274145Z"
    }
   },
   "cell_type": "code",
   "source": "## Best case, Worst case",
   "id": "745d5978d4a5c829",
   "execution_count": 57,
   "outputs": []
  },
  {
   "metadata": {
    "ExecuteTime": {
     "end_time": "2024-06-18T21:10:27.320341Z",
     "start_time": "2024-06-18T21:09:56.104570Z"
    }
   },
   "cell_type": "code",
   "source": [
    "import numpy as np\n",
    "import pandas as pd\n",
    "import matplotlib.pyplot as plt\n",
    "import seaborn as sns\n",
    "\n",
    "from ema_workbench.analysis import parcoords\n",
    "\n",
    "# conditional on y\n",
    "all_data = pd.DataFrame({k:v for k,v in outcomes.items()})\n",
    "\n",
    "# let's get the unique indices for the minima and maxima across \n",
    "# all objectives\n",
    "indices = pd.concat([all_data.idxmax(), all_data.idxmin()]).unique()\n",
    "\n",
    "limits = parcoords.get_limits(all_data)\n",
    "axes = parcoords.ParallelAxes(limits)\n",
    "\n",
    "\n",
    "axes.plot(all_data, color='lightgrey', lw=0.5, alpha=0.5)\n",
    "axes.plot(all_data.iloc[indices, :], color=sns.color_palette()[0], lw=1)\n",
    "\n",
    "fig = plt.gcf()\n",
    "fig.set_size_inches((8, 4))\n",
    "\n",
    "plt.show()"
   ],
   "id": "6753dbee703d83dd",
   "execution_count": 58,
   "outputs": []
  },
  {
   "metadata": {
    "ExecuteTime": {
     "end_time": "2024-06-18T21:10:35.124573Z",
     "start_time": "2024-06-18T21:10:35.105241Z"
    }
   },
   "cell_type": "code",
   "source": [
    "print(all_data.idxmax())\n",
    "\n"
   ],
   "id": "e12d536065096015",
   "execution_count": 59,
   "outputs": []
  },
  {
   "metadata": {
    "ExecuteTime": {
     "end_time": "2024-06-18T21:10:38.621272Z",
     "start_time": "2024-06-18T21:10:38.612802Z"
    }
   },
   "cell_type": "code",
   "source": "print(all_data.idxmin())",
   "id": "8a657042f48835f",
   "execution_count": 60,
   "outputs": []
  },
  {
   "metadata": {
    "ExecuteTime": {
     "end_time": "2024-06-18T21:10:44.427166Z",
     "start_time": "2024-06-18T21:10:44.383911Z"
    }
   },
   "cell_type": "code",
   "source": "experiments_pol_set",
   "id": "5a64fd048df00199",
   "execution_count": 61,
   "outputs": []
  },
  {
   "metadata": {
    "ExecuteTime": {
     "end_time": "2024-06-18T21:25:17.612031Z",
     "start_time": "2024-06-18T21:25:17.571590Z"
    }
   },
   "cell_type": "code",
   "source": [
    "# also all we need are the uncertainty columns\n",
    "selected = experiments_pol_set.loc[[1, 0, 6310, 6891, 3589, 1095, 1225, 1760], ['A.0_ID flood wave shape', 'A.1_Bmax', 'A.1_Brate', 'A.1_pfail', 'A.2_Bmax', 'A.2_Brate', 'A.2_pfail', 'A.3_Bmax', 'A.3_Brate', 'A.3_pfail', 'A.4_Bmax', 'A.4_Brate', 'A.4_pfail', 'A.5_Bmax', 'A.5_Brate', 'A.5_pfail', 'discount rate 0', 'discount rate 1','discount rate 2']]\n",
    "selected"
   ],
   "id": "4e02e5947d221d51",
   "execution_count": 65,
   "outputs": []
  },
  {
   "metadata": {
    "ExecuteTime": {
     "end_time": "2024-06-18T21:36:21.021696Z",
     "start_time": "2024-06-18T21:36:21.011150Z"
    }
   },
   "cell_type": "code",
   "source": "# for multi scenario MORDM: take scenario 2 (GOOD + more reasonable/realistic scenarios when looking at p_fails(very low for 1) + we care more about lives than money(within the constraints)), reference scenario and scenarios 1225,  6891 (BAD + deaths in A5 (Deventer city), damages to farm lands of A4 and again we care less about costs)",
   "id": "24bf46eb2794cfed",
   "execution_count": 66,
   "outputs": []
  },
  {
   "metadata": {},
   "cell_type": "code",
   "execution_count": null,
   "source": "",
   "id": "ad1356d551f1a7a9",
   "outputs": []
  }
 ],
 "metadata": {
  "kernelspec": {
   "display_name": "Python 3",
   "language": "python",
   "name": "python3"
  },
  "language_info": {
   "codemirror_mode": {
    "name": "ipython",
    "version": 2
   },
   "file_extension": ".py",
   "mimetype": "text/x-python",
   "name": "python",
   "nbconvert_exporter": "python",
   "pygments_lexer": "ipython2",
   "version": "2.7.6"
  }
 },
 "nbformat": 4,
 "nbformat_minor": 5
}
