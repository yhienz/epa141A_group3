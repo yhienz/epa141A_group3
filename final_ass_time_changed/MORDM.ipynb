{
 "cells": [
  {
   "metadata": {},
   "cell_type": "markdown",
   "source": "# MORDM",
   "id": "b9f48a3d3a0555c4"
  },
  {
   "cell_type": "code",
   "id": "initial_id",
   "metadata": {
    "tags": [],
    "ExecuteTime": {
     "end_time": "2024-06-11T05:54:48.728593Z",
     "start_time": "2024-06-11T05:54:41.362582Z"
    }
   },
   "source": [
    "# Import general python packages\n",
    "import pandas as pd\n",
    "import numpy as np\n",
    "import seaborn as sns\n",
    "import copy\n",
    "\n",
    "# Import functions\n",
    "from dike_model_function import DikeNetwork  # @UnresolvedImport\n",
    "from problem_formulation import get_model_for_problem_formulation\n",
    "from problem_formulation import sum_over, sum_over_time\n",
    "\n",
    "# Loading in the necessary modules for EMA workbench and functions\n",
    "from ema_workbench import (Model, MultiprocessingEvaluator, Scenario,\n",
    "                           Constraint, ScalarOutcome)\n",
    "from ema_workbench.util import ema_logging\n",
    "from ema_workbench import save_results, load_results\n",
    "from ema_workbench.em_framework.optimization import (EpsilonProgress)"
   ],
   "execution_count": 1,
   "outputs": []
  },
  {
   "metadata": {
    "ExecuteTime": {
     "end_time": "2024-06-11T05:54:50.128269Z",
     "start_time": "2024-06-11T05:54:48.730592Z"
    }
   },
   "cell_type": "code",
   "source": [
    "# Loading in all the 17 objectives via predefined problem formulation 3\n",
    "if __name__ == '__main__':\n",
    "    ema_logging.log_to_stderr(ema_logging.INFO)\n",
    "    dike_model, planning_steps = get_model_for_problem_formulation(6)"
   ],
   "id": "24f4013befc6d19a",
   "execution_count": 2,
   "outputs": []
  },
  {
   "metadata": {
    "ExecuteTime": {
     "end_time": "2024-06-11T05:54:50.147031Z",
     "start_time": "2024-06-11T05:54:50.130270Z"
    }
   },
   "cell_type": "code",
   "source": "print(planning_steps)",
   "id": "53f3bf3ef5cb4b02",
   "execution_count": 3,
   "outputs": []
  },
  {
   "cell_type": "code",
   "id": "b6b301ac7683c5ee",
   "metadata": {
    "tags": [],
    "ExecuteTime": {
     "end_time": "2024-06-11T05:54:52.393099Z",
     "start_time": "2024-06-11T05:54:52.384393Z"
    }
   },
   "source": [
    "# Replicate the objectives\n",
    "for outcome in dike_model.outcomes:\n",
    "    print(repr(outcome))\n",
    "    "
   ],
   "execution_count": 4,
   "outputs": []
  },
  {
   "cell_type": "code",
   "id": "277a36e0-e5d8-4d34-9f17-3118ef97a1e3",
   "metadata": {
    "tags": [],
    "ExecuteTime": {
     "end_time": "2024-06-11T05:54:52.765844Z",
     "start_time": "2024-06-11T05:54:52.738238Z"
    }
   },
   "source": [
    "# Writing a function to create actor specific problem formulations\n",
    "def problem_formulation_actor(problem_formulation_actor):\n",
    "   \n",
    "    # Load the model:\n",
    "    function = DikeNetwork()\n",
    "    # workbench model:\n",
    "    model = Model('dikesnet', function=function)\n",
    "    # Outcomes are all costs, thus they have to minimized:\n",
    "    direction = ScalarOutcome.MINIMIZE\n",
    "    \n",
    "    model.uncertainties = uncertainties\n",
    "    model.levers = levers\n",
    "    \n",
    "    cost_variables = []\n",
    "    cost_variables.extend(\n",
    "    [\n",
    "        f\"{dike}_{e}\"\n",
    "        for e in [\"Expected Annual Damage\", \"Dike Investment Costs\"]\n",
    "        for dike in function.dikelist\n",
    "    ])\n",
    "    cost_variables.extend([f\"RfR Total Costs\"])\n",
    "    cost_variables.extend([f\"Expected Evacuation Costs\"])\n",
    "\n",
    "\n",
    "    if problem_formulation_actor == 4: #RWS\n",
    "        model.outcomes.clear()\n",
    "        model.outcomes = [\n",
    "            ScalarOutcome('Expected Annual Damage',\n",
    "                            variable_name=['{}_Expected Annual Damage'.format(dike)\n",
    "                                                for dike in function.dikelist],\n",
    "                            function=sum_over, kind=direction),\n",
    "\n",
    "            ScalarOutcome('Total Investment Costs',\n",
    "                            variable_name=['{}_Dike Investment Costs'.format(dike)\n",
    "                                                for dike in function.dikelist] + ['RfR Total Costs'\n",
    "                                                                                ] + ['Expected Evacuation Costs'],\n",
    "                            function=sum_over, kind=direction),\n",
    "\n",
    "            ScalarOutcome('Expected Number of Deaths',\n",
    "                            variable_name=['{}_Expected Number of Deaths'.format(dike)\n",
    "                                                for dike in function.dikelist],\n",
    "                            function=sum_over, kind=direction)] \n",
    "    \n",
    "    elif problem_formulation_actor == 5: # GELDERLAND\n",
    "        model.outcomes.clear()\n",
    "        model.outcomes = [\n",
    "            ScalarOutcome('Expected Annual Damage A1', variable_name='A.1_Expected Annual Damage', function = sum_over, kind=direction),\n",
    "            ScalarOutcome('Expected Annual Damage A2', variable_name='A.2_Expected Annual Damage', function = sum_over, kind=direction),\n",
    "            ScalarOutcome('Expected Annual Damage A3', variable_name='A.3_Expected Annual Damage', function = sum_over, kind=direction),\n",
    "            ScalarOutcome('Expected Number of Deaths in A1', variable_name='A.1_Expected Number of Deaths',function = sum_over, kind=direction),\n",
    "            ScalarOutcome('Expected Number of Deaths in A2', variable_name='A.2_Expected Number of Deaths',function = sum_over, kind=direction),\n",
    "            ScalarOutcome('Expected Number of Deaths in A3', variable_name='A.3_Expected Number of Deaths',function = sum_over, kind=direction),\n",
    "            ScalarOutcome('Total Costs', variable_name=cost_variables, function = sum_over, kind=direction),\n",
    "            ScalarOutcome('Aggregated Expected Number of Deaths A4-A5', variable_name = \n",
    "            ['A.4_Expected Number of Deaths', 'A.5_Expected Number of Deaths'], function = sum_over, kind=direction)]\n",
    "    \n",
    "    elif problem_formulation_actor == 6: # OVERIJSSEL\n",
    "        model.outcomes.clear()\n",
    "        model.outcomes = [\n",
    "            ScalarOutcome('Expected Annual Damage A4', variable_name='A.4_Expected Annual Damage', function = sum_over, kind=direction),\n",
    "            ScalarOutcome('Expected Annual Damage A5', variable_name='A.5_Expected Annual Damage', function = sum_over, kind=direction),            \n",
    "            ScalarOutcome('Expected Number of Deaths in A4', variable_name='A.4_Expected Number of Deaths',function = sum_over, kind=direction),\n",
    "            ScalarOutcome('Expected Number of Deaths in A5', variable_name='A.5_Expected Number of Deaths',function = sum_over, kind=direction),\n",
    "            ScalarOutcome('Total Costs', variable_name=cost_variables, function = sum_over, kind=direction),\n",
    "            ScalarOutcome('Aggregated Expected Number of Deaths A1-A3', variable_name =\n",
    "            ['A.1_Expected Number of Deaths', 'A.2_Expected Number of Deaths', \n",
    "             'A.3_Expected Number of Deaths'], function = sum_over, kind=direction)]\n",
    "    \n",
    "    else:\n",
    "        raise TypeError('unknown identifier')\n",
    "    return model"
   ],
   "execution_count": 5,
   "outputs": []
  },
  {
   "cell_type": "code",
   "id": "1bfd2ae6-5f22-4449-a17a-d82042a02813",
   "metadata": {
    "tags": [],
    "ExecuteTime": {
     "end_time": "2024-06-11T05:54:53.643384Z",
     "start_time": "2024-06-11T05:54:53.618557Z"
    }
   },
   "source": [
    "# Replicate the uncertainties\n",
    "uncertainties = dike_model.uncertainties\n",
    "uncertainties = copy.deepcopy(dike_model.uncertainties)"
   ],
   "execution_count": 6,
   "outputs": []
  },
  {
   "cell_type": "code",
   "id": "d2c96536-35ba-4172-b925-62abbc885eaa",
   "metadata": {
    "tags": [],
    "ExecuteTime": {
     "end_time": "2024-06-11T05:54:54.064532Z",
     "start_time": "2024-06-11T05:54:54.018963Z"
    }
   },
   "source": [
    "levers = dike_model.levers \n",
    "levers = copy.deepcopy(dike_model.levers)"
   ],
   "execution_count": 7,
   "outputs": []
  },
  {
   "cell_type": "code",
   "id": "a91639a2468a9adc",
   "metadata": {
    "tags": [],
    "ExecuteTime": {
     "end_time": "2024-06-11T05:54:55.123120Z",
     "start_time": "2024-06-11T05:54:54.365975Z"
    }
   },
   "source": [
    "model = problem_formulation_actor(6)\n",
    "for outcome in model.outcomes:\n",
    "    print(repr((outcome)))"
   ],
   "execution_count": 8,
   "outputs": []
  },
  {
   "cell_type": "markdown",
   "id": "adac028e40648723",
   "metadata": {},
   "source": []
  },
  {
   "cell_type": "code",
   "id": "8dc875ff-0e3b-4e4c-81bf-050b8ee99b44",
   "metadata": {
    "tags": [],
    "ExecuteTime": {
     "end_time": "2024-06-11T05:55:01.974545Z",
     "start_time": "2024-06-11T05:55:01.966059Z"
    }
   },
   "source": [
    "print(len(model.outcomes))"
   ],
   "execution_count": 9,
   "outputs": []
  },
  {
   "cell_type": "code",
   "id": "c33cfae19ab29a95",
   "metadata": {
    "tags": [],
    "ExecuteTime": {
     "end_time": "2024-06-11T05:55:02.217521Z",
     "start_time": "2024-06-11T05:55:02.211019Z"
    }
   },
   "source": [
    "for outcome in dike_model.outcomes:\n",
    "    print(repr(outcome))"
   ],
   "execution_count": 10,
   "outputs": []
  },
  {
   "cell_type": "code",
   "id": "3b5e260bcd0a1bc3",
   "metadata": {
    "tags": [],
    "ExecuteTime": {
     "end_time": "2024-06-11T05:55:02.548395Z",
     "start_time": "2024-06-11T05:55:02.538684Z"
    }
   },
   "source": [
    "reference_values = {\n",
    "    \"Bmax\": 175,\n",
    "    \"Brate\": 1.5,\n",
    "    \"pfail\": 0.5,\n",
    "    \"ID flood wave shape\": 4,\n",
    "    \"planning steps\": 2,\n",
    "}\n",
    "reference_values.update({f\"discount rate {n}\": 3.5 for n in planning_steps})\n",
    "refcase_scen = {}\n",
    "\n",
    "for key in dike_model.uncertainties:\n",
    "    name_split = key.name.split('_')\n",
    "    if len(name_split) == 1:\n",
    "\n",
    "        refcase_scen.update({key.name: reference_values[key.name]})\n",
    "    else:\n",
    "        refcase_scen.update({key.name: reference_values[name_split[1]]})\n",
    "            \n",
    "ref_scenario = Scenario('reference', **refcase_scen)"
   ],
   "execution_count": 11,
   "outputs": []
  },
  {
   "cell_type": "code",
   "id": "51aeba8593a9ed87",
   "metadata": {
    "tags": [],
    "ExecuteTime": {
     "end_time": "2024-06-10T20:55:18.849703Z",
     "start_time": "2024-06-10T20:52:50.724615Z"
    }
   },
   "source": [
    "convergence_metrics = {EpsilonProgress()}\n",
    "constraint = [Constraint(\"Total Costs\", outcome_names=\"Total Costs\", function=lambda x: max(0, x - 700000000))]\n",
    "\n",
    "results_df = pd.DataFrame()\n",
    "with MultiprocessingEvaluator(model) as evaluator:\n",
    "    for _ in range(2):\n",
    "       results = evaluator.optimize(nfe=2, searchover='levers',\n",
    "                                     convergence=convergence_metrics,\n",
    "                                     epsilons=[1]*len(model.outcomes), reference=ref_scenario,\n",
    "                                     constraints=constraint)\n",
    "        \n",
    "        \n",
    "save_results(results, 'Week23_MORDM_Reference_1000_PD6.tar.gz')\n"
   ],
   "execution_count": 136,
   "outputs": []
  },
  {
   "metadata": {
    "ExecuteTime": {
     "end_time": "2024-06-10T20:12:46.670115Z",
     "start_time": "2024-06-10T20:12:46.524829Z"
    }
   },
   "cell_type": "code",
   "source": [
    "from ema_workbench.em_framework.optimization import epsilon_nondominated, to_problem\n",
    "\n",
    "problem = to_problem(model, searchover=\"levers\")\n",
    "epsilons = [0.05] * len(model.outcomes)\n",
    "merged_archives = epsilon_nondominated(results_df, epsilons, problem)"
   ],
   "id": "93829dd7a2715d3a",
   "execution_count": 130,
   "outputs": []
  },
  {
   "cell_type": "code",
   "id": "27ba29de-d899-4ebf-8874-02558697fab7",
   "metadata": {
    "tags": [],
    "ExecuteTime": {
     "end_time": "2024-06-10T20:01:00.123980Z",
     "start_time": "2024-06-10T20:01:00.116790Z"
    }
   },
   "source": "(y1,t1) , (y2,t2) = results",
   "execution_count": 121,
   "outputs": []
  },
  {
   "metadata": {
    "ExecuteTime": {
     "end_time": "2024-06-10T20:03:01.303137Z",
     "start_time": "2024-06-10T20:03:01.281714Z"
    }
   },
   "cell_type": "code",
   "source": "t2",
   "id": "2511e086bbddd695",
   "execution_count": 127,
   "outputs": []
  },
  {
   "metadata": {
    "ExecuteTime": {
     "end_time": "2024-06-10T20:01:10.723485Z",
     "start_time": "2024-06-10T20:01:10.675343Z"
    }
   },
   "cell_type": "code",
   "source": [
    "y = y1+y2\n",
    "y"
   ],
   "id": "9dc0e263c5b34ee3",
   "execution_count": 123,
   "outputs": []
  },
  {
   "metadata": {},
   "cell_type": "markdown",
   "source": "# Gelderland\n",
   "id": "f104ee039321b72"
  },
  {
   "metadata": {
    "ExecuteTime": {
     "end_time": "2024-06-11T05:48:38.864386Z",
     "start_time": "2024-06-11T05:48:38.558731Z"
    }
   },
   "cell_type": "code",
   "source": [
    "model = problem_formulation_actor(5)\n",
    "for outcome in model.outcomes:\n",
    "    print(repr((outcome)))"
   ],
   "id": "2286227eebd36278",
   "execution_count": 139,
   "outputs": []
  },
  {
   "metadata": {},
   "cell_type": "code",
   "execution_count": null,
   "source": [
    "convergence_metrics = {EpsilonProgress()}\n",
    "constraint = [Constraint(\"Total Costs\", outcome_names=\"Total Costs\", function=lambda x: max(0, x - 700000000))]\n",
    "\n",
    "results_df = pd.DataFrame()\n",
    "with MultiprocessingEvaluator(model) as evaluator:\n",
    "    for _ in range(2):\n",
    "       results = evaluator.optimize(nfe=2, searchover='levers',\n",
    "                                     convergence=convergence_metrics,\n",
    "                                     epsilons=[1]*len(model.outcomes), reference=ref_scenario,\n",
    "                                     constraints=constraint)\n",
    "        \n",
    "        \n",
    "save_results(results, 'Week23_MORDM_Reference_1000_PD6.tar.gz')\n"
   ],
   "id": "b6b9fdf3b1c5eac6",
   "outputs": []
  }
 ],
 "metadata": {
  "kernelspec": {
   "display_name": "Python 3 (ipykernel)",
   "language": "python",
   "name": "python3"
  },
  "language_info": {
   "codemirror_mode": {
    "name": "ipython",
    "version": 3
   },
   "file_extension": ".py",
   "mimetype": "text/x-python",
   "name": "python",
   "nbconvert_exporter": "python",
   "pygments_lexer": "ipython3",
   "version": "3.11.4"
  }
 },
 "nbformat": 4,
 "nbformat_minor": 5
}
