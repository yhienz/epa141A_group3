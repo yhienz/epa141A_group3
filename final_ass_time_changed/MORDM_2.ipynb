{
 "cells": [
  {
   "cell_type": "markdown",
   "id": "b9f48a3d3a0555c4",
   "metadata": {},
   "source": [
    "# MORDM"
   ]
  },
  {
   "cell_type": "code",
   "id": "initial_id",
   "metadata": {
    "tags": [],
    "ExecuteTime": {
     "end_time": "2024-06-15T11:44:58.426673Z",
     "start_time": "2024-06-15T11:44:54.639184Z"
    }
   },
   "source": [
    "# Import general python packages\n",
    "import pandas as pd\n",
    "import numpy as np\n",
    "import copy\n",
    "\n",
    "# Import functions\n",
    "from dike_model_function import DikeNetwork  # @UnresolvedImport\n",
    "from problem_formulation import get_model_for_problem_formulation\n",
    "from problem_formulation import sum_over, sum_over_time, pick_over_time, stick_over_time, slick_over_time, sick_over_time, lick_over_time, kick_over_time\n",
    "\n",
    "# Loading in the necessary modules for EMA workbench and functions\n",
    "from ema_workbench import (Model, MultiprocessingEvaluator, Scenario,\n",
    "                           Constraint, ScalarOutcome, TimeSeriesOutcome, ArrayOutcome)\n",
    "from ema_workbench.util import ema_logging\n",
    "from ema_workbench import save_results, load_results\n",
    "from ema_workbench.em_framework.optimization import (EpsilonProgress)"
   ],
   "outputs": [],
   "execution_count": 1
  },
  {
   "cell_type": "code",
   "id": "24f4013befc6d19a",
   "metadata": {
    "tags": [],
    "ExecuteTime": {
     "end_time": "2024-06-15T11:45:27.515584Z",
     "start_time": "2024-06-15T11:45:26.584730Z"
    }
   },
   "source": [
    "# Loading in all the 17 objectives via predefined problem formulation 3\n",
    "if __name__ == '__main__':\n",
    "    ema_logging.log_to_stderr(ema_logging.INFO)\n",
    "    dike_model, planning_steps = get_model_for_problem_formulation(7)"
   ],
   "outputs": [],
   "execution_count": 2
  },
  {
   "cell_type": "code",
   "id": "20bc5e59b451ab6b",
   "metadata": {
    "tags": [],
    "ExecuteTime": {
     "end_time": "2024-06-15T11:45:28.701790Z",
     "start_time": "2024-06-15T11:45:28.692323Z"
    }
   },
   "source": [
    "# Replicate the objectives\n",
    "for outcome in dike_model.outcomes:\n",
    "    print(outcome)\n",
    "    "
   ],
   "outputs": [
    {
     "name": "stdout",
     "output_type": "stream",
     "text": [
      "ArrayOutcome('Expected Number of Deaths', variable_name=('A.1_Expected Number of Deaths', 'A.2_Expected Number of Deaths', 'A.3_Expected Number of Deaths', 'A.4_Expected Number of Deaths', 'A.5_Expected Number of Deaths'), function=<function sum_over_time at 0x0000020BE8D04720>)\n",
      "ArrayOutcome('A.1_Expected Annual Damage')\n",
      "ArrayOutcome('A.2_Expected Annual Damage')\n",
      "ArrayOutcome('A.3_Expected Annual Damage')\n",
      "ArrayOutcome('A.4_Expected Annual Damage')\n",
      "ArrayOutcome('A.5_Expected Annual Damage')\n",
      "ArrayOutcome('Total_period_Costs', variable_name=('A.1_Dike Investment Costs', 'A.2_Dike Investment Costs', 'A.3_Dike Investment Costs', 'A.4_Dike Investment Costs', 'A.5_Dike Investment Costs', 'RfR Total Costs', 'Expected Evacuation Costs', 'A.1_Expected Annual Damage', 'A.2_Expected Annual Damage', 'A.3_Expected Annual Damage', 'A.4_Expected Annual Damage', 'A.5_Expected Annual Damage'), function=<function sum_over_time at 0x0000020BE8D04720>)\n"
     ]
    }
   ],
   "execution_count": 3
  },
  {
   "metadata": {
    "ExecuteTime": {
     "end_time": "2024-06-15T11:45:32.100669Z",
     "start_time": "2024-06-15T11:45:32.091175Z"
    }
   },
   "cell_type": "code",
   "source": [
    "values = dike_model.outcomes['Total_period_Costs'].variable_name\n",
    "print(len(values))  # This will show you the number of elements"
   ],
   "id": "3c6fb09acae3d623",
   "outputs": [
    {
     "name": "stdout",
     "output_type": "stream",
     "text": [
      "12\n"
     ]
    }
   ],
   "execution_count": 4
  },
  {
   "metadata": {
    "ExecuteTime": {
     "end_time": "2024-06-15T08:47:25.444582Z",
     "start_time": "2024-06-15T08:47:25.439384Z"
    }
   },
   "cell_type": "code",
   "source": [
    "# with MultiprocessingEvaluator(dike_model) as evaluator:\n",
    "#     results = evaluator.perform_experiments(scenarios= 1, policies=1)"
   ],
   "id": "4cbf019e4bfe89bd",
   "execution_count": 11,
   "outputs": []
  },
  {
   "metadata": {
    "ExecuteTime": {
     "end_time": "2024-06-15T08:47:25.809497Z",
     "start_time": "2024-06-15T08:47:25.803613Z"
    }
   },
   "cell_type": "code",
   "source": [
    "# Replicate the objectives\n",
    "for outcome in dike_model.outcomes:\n",
    "    print(outcome.shape)"
   ],
   "id": "c1ed72223059733",
   "execution_count": 12,
   "outputs": []
  },
  {
   "cell_type": "code",
   "id": "277a36e0-e5d8-4d34-9f17-3118ef97a1e3",
   "metadata": {
    "tags": [],
    "ExecuteTime": {
     "end_time": "2024-06-15T08:48:27.978829Z",
     "start_time": "2024-06-15T08:48:27.947873Z"
    }
   },
   "source": [
    "# Writing a function to create actor specific problem formulations\n",
    "def problem_formulation_actor(problem_formulation_actor):\n",
    "   \n",
    "    # Load the model:\n",
    "    function = DikeNetwork()\n",
    "    # workbench model:\n",
    "    model = Model('dikesnet', function=function)\n",
    "    # Outcomes are all costs, thus they have to minimized:\n",
    "    direction = ScalarOutcome.MINIMIZE\n",
    "    \n",
    "    model.uncertainties = uncertainties\n",
    "    model.levers = levers\n",
    "    \n",
    "    cost_variables = []\n",
    "    # cost_variables.extend(\n",
    "    # [\n",
    "    #     f\"{dike}_{e}\"\n",
    "    #     for e in [\"Expected Annual Damage\", \"Dike Investment Costs\"]\n",
    "    #     for dike in function.dikelist\n",
    "    # ])\n",
    "    # cost_variables.extend([f\"RfR Total Costs\"])\n",
    "    # cost_variables.extend([f\"Expected Evacuation Costs\"])\n",
    "\n",
    "\n",
    "    if problem_formulation_actor == 4: #RWS\n",
    "        model.outcomes.clear()\n",
    "        model.outcomes = [\n",
    "            ScalarOutcome('Expected Annual Damage',\n",
    "                            variable_name=['{}_Expected Annual Damage'.format(dike)\n",
    "                                                for dike in function.dikelist],\n",
    "                            function=sum_over, kind=direction),\n",
    "\n",
    "            ScalarOutcome('Total Investment Costs',\n",
    "                            variable_name=['{}_Dike Investment Costs'.format(dike)\n",
    "                                                for dike in function.dikelist] + ['RfR Total Costs'] + ['Expected Evacuation Costs'],\n",
    "                            function=sum_over, kind=direction),\n",
    "\n",
    "            ScalarOutcome('Expected Number of Deaths',\n",
    "                            variable_name=['{}_Expected Number of Deaths'.format(dike)\n",
    "                                                for dike in function.dikelist],\n",
    "                            function=sum_over, kind=direction)]\n",
    "    \n",
    "    elif problem_formulation_actor == 5: # GELDERLAND\n",
    "        model.outcomes.clear()\n",
    "        model.outcomes = [\n",
    "            ScalarOutcome('Expected Annual Damage A1', variable_name='A.1_Expected Annual Damage', function = sum_over, kind=direction),\n",
    "            ScalarOutcome('Expected Annual Damage A2', variable_name='A.2_Expected Annual Damage', function = sum_over, kind=direction),\n",
    "            ScalarOutcome('Expected Annual Damage A3', variable_name='A.3_Expected Annual Damage', function = sum_over, kind=direction),\n",
    "            ScalarOutcome('Expected Number of Deaths in A1', variable_name='A.1_Expected Number of Deaths',function = sum_over, kind=direction),\n",
    "            ScalarOutcome('Expected Number of Deaths in A2', variable_name='A.2_Expected Number of Deaths',function = sum_over, kind=direction),\n",
    "            ScalarOutcome('Expected Number of Deaths in A3', variable_name='A.3_Expected Number of Deaths',function = sum_over, kind=direction),\n",
    "            ScalarOutcome('Total Costs', variable_name=cost_variables, function = sum_over, kind=direction),\n",
    "            ScalarOutcome('Aggregated Expected Number of Deaths A4-A5', variable_name = \n",
    "            ['A.4_Expected Number of Deaths', 'A.5_Expected Number of Deaths'], function = sum_over, kind=direction),\n",
    "            ]\n",
    "\n",
    "    \n",
    "    elif problem_formulation_actor == 6: #OVERIJSSEL\n",
    "        model.outcomes.clear()\n",
    "        \n",
    "        model.outcomes = [\n",
    "            ScalarOutcome(f'Total_period_Costs_0', variable_name= dike_model.outcomes['Total_period_Costs'].variable_name, function = stick_over_time, kind=direction),\n",
    "            ScalarOutcome(f'Total_period_Costs_1', variable_name= dike_model.outcomes['Total_period_Costs'].variable_name, function = slick_over_time, kind=direction),\n",
    "            ScalarOutcome(f'Total_period_Costs_2', variable_name= dike_model.outcomes['Total_period_Costs'].variable_name, function = sick_over_time, kind=direction),\n",
    "            ScalarOutcome(f'Total_period_Costs_3', variable_name= dike_model.outcomes['Total_period_Costs'].variable_name, function = lick_over_time, kind=direction),\n",
    "            ScalarOutcome(f'Total_period_Costs_4', variable_name= dike_model.outcomes['Total_period_Costs'].variable_name, function = kick_over_time, kind=direction),\n",
    "            ScalarOutcome(\"Expected Number of Deaths\", variable_name =\n",
    "            [f\"{dike}_Expected Number of Deaths\" for dike in function.dikelist], function = sum_over, kind=direction),\n",
    "            ScalarOutcome('Expected Annual Damage A4', variable_name='A.1_Expected Annual Damage', function = sum_over, kind=direction),\n",
    "            ScalarOutcome('Expected Annual Damage A5', variable_name='A.1_Expected Annual Damage', function = sum_over, kind=direction)\n",
    "        ]\n",
    "        \n",
    "    else:\n",
    "        raise TypeError('unknown identifier')\n",
    "        \n",
    "    return model"
   ],
   "execution_count": 18,
   "outputs": []
  },
  {
   "cell_type": "code",
   "id": "1bfd2ae6-5f22-4449-a17a-d82042a02813",
   "metadata": {
    "tags": [],
    "ExecuteTime": {
     "end_time": "2024-06-15T08:48:28.826497Z",
     "start_time": "2024-06-15T08:48:28.791079Z"
    }
   },
   "source": [
    "# Replicate the uncertainties\n",
    "uncertainties = dike_model.uncertainties\n",
    "uncertainties = copy.deepcopy(dike_model.uncertainties)"
   ],
   "execution_count": 19,
   "outputs": []
  },
  {
   "cell_type": "code",
   "id": "d2c96536-35ba-4172-b925-62abbc885eaa",
   "metadata": {
    "tags": [],
    "ExecuteTime": {
     "end_time": "2024-06-15T08:48:29.915606Z",
     "start_time": "2024-06-15T08:48:29.850466Z"
    }
   },
   "source": [
    "levers = dike_model.levers \n",
    "levers = copy.deepcopy(dike_model.levers)"
   ],
   "execution_count": 20,
   "outputs": []
  },
  {
   "cell_type": "code",
   "id": "a91639a2468a9adc",
   "metadata": {
    "tags": [],
    "ExecuteTime": {
     "end_time": "2024-06-15T08:48:31.802674Z",
     "start_time": "2024-06-15T08:48:30.611147Z"
    }
   },
   "source": "model = problem_formulation_actor(6)\n",
   "execution_count": 21,
   "outputs": []
  },
  {
   "metadata": {
    "ExecuteTime": {
     "end_time": "2024-06-15T08:48:33.186159Z",
     "start_time": "2024-06-15T08:48:33.178674Z"
    }
   },
   "cell_type": "code",
   "source": [
    "for tr in model.outcomes:\n",
    "    print(tr)"
   ],
   "id": "6c9f2d3df577e9eb",
   "execution_count": 22,
   "outputs": []
  },
  {
   "cell_type": "code",
   "id": "3b5e260bcd0a1bc3",
   "metadata": {
    "tags": [],
    "ExecuteTime": {
     "end_time": "2024-06-15T08:48:34.914505Z",
     "start_time": "2024-06-15T08:48:34.902437Z"
    }
   },
   "source": [
    "reference_values = {\n",
    "    \"Bmax\": 175,\n",
    "    \"Brate\": 1.5,\n",
    "    \"pfail\": 0.5,\n",
    "    \"ID flood wave shape\": 4,\n",
    "    \"planning steps\": 2,\n",
    "}\n",
    "reference_values.update({f\"discount rate {n}\": 3.5 for n in planning_steps})\n",
    "refcase_scen = {}\n",
    "\n",
    "for key in dike_model.uncertainties:\n",
    "    name_split = key.name.split('_')\n",
    "    if len(name_split) == 1:\n",
    "\n",
    "        refcase_scen.update({key.name: reference_values[key.name]})\n",
    "    else:\n",
    "        refcase_scen.update({key.name: reference_values[name_split[1]]})\n",
    "            \n",
    "ref_scenario = Scenario('reference', **refcase_scen)"
   ],
   "execution_count": 23,
   "outputs": []
  },
  {
   "cell_type": "code",
   "id": "51aeba8593a9ed87",
   "metadata": {
    "tags": [],
    "ExecuteTime": {
     "end_time": "2024-06-15T08:50:08.566453Z",
     "start_time": "2024-06-15T08:48:38.316761Z"
    }
   },
   "source": [
    "convergence_metrics = {EpsilonProgress()}\n",
    "#constraint = [Constraint(\"Total Costs\", outcome_names=\"Total Costs\", function=lambda x: max(0, x - 700000000))]\n",
    "\n",
    "results_df = pd.DataFrame()\n",
    "with MultiprocessingEvaluator(model) as evaluator:\n",
    "    for _ in range(1):\n",
    "       results = evaluator.optimize(nfe=2, searchover='levers',\n",
    "                                     convergence=convergence_metrics,\n",
    "                                     epsilons=[1]*len(model.outcomes), reference=ref_scenario)\n",
    "        \n",
    "        \n",
    "save_results(results, 'Week23_MORDM_Reference_1000_PD6.tar.gz')\n"
   ],
   "execution_count": 24,
   "outputs": []
  },
  {
   "cell_type": "code",
   "id": "34bd8ab53b26c62f",
   "metadata": {
    "tags": [],
    "ExecuteTime": {
     "end_time": "2024-06-15T08:50:20.539800Z",
     "start_time": "2024-06-15T08:50:20.533422Z"
    }
   },
   "source": [
    "y,t=results"
   ],
   "execution_count": 25,
   "outputs": []
  },
  {
   "cell_type": "code",
   "id": "3c1d9c4f1c6565ca",
   "metadata": {
    "tags": [],
    "ExecuteTime": {
     "end_time": "2024-06-15T08:50:21.458882Z",
     "start_time": "2024-06-15T08:50:21.392504Z"
    }
   },
   "source": [
    "y"
   ],
   "execution_count": 26,
   "outputs": []
  },
  {
   "cell_type": "code",
   "id": "d7f70ad7093be073",
   "metadata": {},
   "source": [
    "convergence_metrics = {EpsilonProgress()}\n",
    "constraint = [Constraint(\"Total_costs_0\", outcome_names=\"Total_costs_0\", function=lambda x: max(0, x - 1000))]\n",
    "\n",
    "results_df = pd.DataFrame()\n",
    "with MultiprocessingEvaluator(model) as evaluator:\n",
    "    for _ in range(1):\n",
    "       yui = evaluator.optimize(nfe=3, searchover='levers',\n",
    "                                     convergence=convergence_metrics,\n",
    "                                     epsilons=[1]*len(model.outcomes), reference=ref_scenario)\n",
    "        \n",
    "        \n",
    "\n"
   ],
   "execution_count": null,
   "outputs": []
  },
  {
   "cell_type": "code",
   "id": "93829dd7a2715d3a",
   "metadata": {},
   "source": [
    "from ema_workbench.em_framework.optimization import epsilon_nondominated, to_problem\n",
    "\n",
    "problem = to_problem(model, searchover=\"levers\")\n",
    "epsilons = [0.05] * len(model.outcomes)\n",
    "merged_archives = epsilon_nondominated(results_df, epsilons, problem)"
   ],
   "execution_count": null,
   "outputs": []
  },
  {
   "cell_type": "code",
   "id": "27ba29de-d899-4ebf-8874-02558697fab7",
   "metadata": {
    "tags": []
   },
   "source": [
    "(y1,t1) , (y2,t2) = results"
   ],
   "execution_count": null,
   "outputs": []
  },
  {
   "cell_type": "code",
   "id": "2511e086bbddd695",
   "metadata": {},
   "source": [
    "t2"
   ],
   "execution_count": null,
   "outputs": []
  },
  {
   "cell_type": "code",
   "id": "9dc0e263c5b34ee3",
   "metadata": {},
   "source": [
    "y = y1+y2\n",
    "y"
   ],
   "execution_count": null,
   "outputs": []
  },
  {
   "cell_type": "markdown",
   "id": "f104ee039321b72",
   "metadata": {},
   "source": [
    "# Gelderland\n"
   ]
  },
  {
   "cell_type": "code",
   "id": "2286227eebd36278",
   "metadata": {},
   "source": [
    "model = problem_formulation_actor(5)\n",
    "for outcome in model.outcomes:\n",
    "    print(repr((outcome)))"
   ],
   "execution_count": null,
   "outputs": []
  },
  {
   "cell_type": "code",
   "id": "b6b9fdf3b1c5eac6",
   "metadata": {},
   "source": [
    "convergence_metrics = {EpsilonProgress()}\n",
    "constraint = [Constraint(\"Total Costs\", outcome_names=\"Total Costs\", function=lambda x: max(0, x - 700000000))]\n",
    "\n",
    "results_df = pd.DataFrame()\n",
    "with MultiprocessingEvaluator(model) as evaluator:\n",
    "    for _ in range(2):\n",
    "       results = evaluator.optimize(nfe=2, searchover='levers',\n",
    "                                     convergence=convergence_metrics,\n",
    "                                     epsilons=[1]*len(model.outcomes), reference=ref_scenario,\n",
    "                                     constraints=constraint)\n",
    "        \n",
    "        \n",
    "save_results(results, 'Week23_MORDM_Reference_1000_PD6.tar.gz')\n"
   ],
   "execution_count": null,
   "outputs": []
  }
 ],
 "metadata": {
  "kernelspec": {
   "display_name": "Python 3 (ipykernel)",
   "language": "python",
   "name": "python3"
  },
  "language_info": {
   "codemirror_mode": {
    "name": "ipython",
    "version": 3
   },
   "file_extension": ".py",
   "mimetype": "text/x-python",
   "name": "python",
   "nbconvert_exporter": "python",
   "pygments_lexer": "ipython3",
   "version": "3.11.4"
  }
 },
 "nbformat": 4,
 "nbformat_minor": 5
}
