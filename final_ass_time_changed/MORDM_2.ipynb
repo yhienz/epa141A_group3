{
 "cells": [
  {
   "cell_type": "markdown",
   "id": "b9f48a3d3a0555c4",
   "metadata": {},
   "source": [
    "# MORDM"
   ]
  },
  {
   "cell_type": "code",
   "id": "initial_id",
   "metadata": {
    "tags": [],
    "ExecuteTime": {
     "end_time": "2024-06-15T08:47:18.511973Z",
     "start_time": "2024-06-15T08:47:18.497825Z"
    }
   },
   "source": [
    "# Import general python packages\n",
    "import pandas as pd\n",
    "import numpy as np\n",
    "import copy\n",
    "\n",
    "# Import functions\n",
    "from dike_model_function import DikeNetwork  # @UnresolvedImport\n",
    "from problem_formulation import get_model_for_problem_formulation\n",
    "from problem_formulation import sum_over, sum_over_time, pick_over_time, stick_over_time, slick_over_time\n",
    "\n",
    "# Loading in the necessary modules for EMA workbench and functions\n",
    "from ema_workbench import (Model, MultiprocessingEvaluator, Scenario,\n",
    "                           Constraint, ScalarOutcome, TimeSeriesOutcome, ArrayOutcome)\n",
    "from ema_workbench.util import ema_logging\n",
    "from ema_workbench import save_results, load_results\n",
    "from ema_workbench.em_framework.optimization import (EpsilonProgress)"
   ],
   "outputs": [],
   "execution_count": 7
  },
  {
   "cell_type": "code",
   "id": "24f4013befc6d19a",
   "metadata": {
    "tags": [],
    "ExecuteTime": {
     "end_time": "2024-06-15T08:47:21.125802Z",
     "start_time": "2024-06-15T08:47:20.016161Z"
    }
   },
   "source": [
    "# Loading in all the 17 objectives via predefined problem formulation 3\n",
    "if __name__ == '__main__':\n",
    "    ema_logging.log_to_stderr(ema_logging.INFO)\n",
    "    dike_model, planning_steps = get_model_for_problem_formulation(7)"
   ],
   "outputs": [],
   "execution_count": 8
  },
  {
   "cell_type": "code",
   "id": "20bc5e59b451ab6b",
   "metadata": {
    "tags": [],
    "ExecuteTime": {
     "end_time": "2024-06-15T08:47:21.992455Z",
     "start_time": "2024-06-15T08:47:21.982155Z"
    }
   },
   "source": [
    "# Replicate the objectives\n",
    "for outcome in dike_model.outcomes:\n",
    "    print(outcome)\n",
    "    "
   ],
   "outputs": [
    {
     "name": "stdout",
     "output_type": "stream",
     "text": [
      "ArrayOutcome('Expected Number of Deaths', variable_name=('A.1_Expected Number of Deaths', 'A.2_Expected Number of Deaths', 'A.3_Expected Number of Deaths', 'A.4_Expected Number of Deaths', 'A.5_Expected Number of Deaths'), function=<function sum_over_time at 0x000001A89CB73920>)\n",
      "ArrayOutcome('A.1_Expected Annual Damage')\n",
      "ArrayOutcome('A.2_Expected Annual Damage')\n",
      "ArrayOutcome('A.3_Expected Annual Damage')\n",
      "ArrayOutcome('A.4_Expected Annual Damage')\n",
      "ArrayOutcome('A.5_Expected Annual Damage')\n",
      "ArrayOutcome('Total_period_Costs', variable_name=('A.1_Dike Investment Costs', 'A.2_Dike Investment Costs', 'A.3_Dike Investment Costs', 'A.4_Dike Investment Costs', 'A.5_Dike Investment Costs', 'RfR Total Costs', 'Expected Evacuation Costs'), function=<function sum_over_time at 0x000001A89CB73920>)\n"
     ]
    }
   ],
   "execution_count": 9
  },
  {
   "metadata": {
    "ExecuteTime": {
     "end_time": "2024-06-15T08:47:23.880978Z",
     "start_time": "2024-06-15T08:47:23.873097Z"
    }
   },
   "cell_type": "code",
   "source": [
    "values = dike_model.outcomes['Total_period_Costs'].variable_name\n",
    "print(len(values))  # This will show you the number of elements"
   ],
   "id": "3c6fb09acae3d623",
   "outputs": [
    {
     "name": "stdout",
     "output_type": "stream",
     "text": [
      "7\n"
     ]
    }
   ],
   "execution_count": 10
  },
  {
   "metadata": {
    "ExecuteTime": {
     "end_time": "2024-06-15T08:47:25.444582Z",
     "start_time": "2024-06-15T08:47:25.439384Z"
    }
   },
   "cell_type": "code",
   "source": [
    "# with MultiprocessingEvaluator(dike_model) as evaluator:\n",
    "#     results = evaluator.perform_experiments(scenarios= 1, policies=1)"
   ],
   "id": "4cbf019e4bfe89bd",
   "outputs": [],
   "execution_count": 11
  },
  {
   "metadata": {
    "ExecuteTime": {
     "end_time": "2024-06-15T08:47:25.809497Z",
     "start_time": "2024-06-15T08:47:25.803613Z"
    }
   },
   "cell_type": "code",
   "source": [
    "# Replicate the objectives\n",
    "for outcome in dike_model.outcomes:\n",
    "    print(outcome.shape)"
   ],
   "id": "c1ed72223059733",
   "outputs": [
    {
     "name": "stdout",
     "output_type": "stream",
     "text": [
      "None\n",
      "None\n",
      "None\n",
      "None\n",
      "None\n",
      "None\n",
      "None\n"
     ]
    }
   ],
   "execution_count": 12
  },
  {
   "cell_type": "code",
   "id": "277a36e0-e5d8-4d34-9f17-3118ef97a1e3",
   "metadata": {
    "tags": [],
    "ExecuteTime": {
     "end_time": "2024-06-15T08:48:27.978829Z",
     "start_time": "2024-06-15T08:48:27.947873Z"
    }
   },
   "source": [
    "# Writing a function to create actor specific problem formulations\n",
    "def problem_formulation_actor(problem_formulation_actor):\n",
    "   \n",
    "    # Load the model:\n",
    "    function = DikeNetwork()\n",
    "    # workbench model:\n",
    "    model = Model('dikesnet', function=function)\n",
    "    # Outcomes are all costs, thus they have to minimized:\n",
    "    direction = ScalarOutcome.MINIMIZE\n",
    "    \n",
    "    model.uncertainties = uncertainties\n",
    "    model.levers = levers\n",
    "    \n",
    "    cost_variables = []\n",
    "    # cost_variables.extend(\n",
    "    # [\n",
    "    #     f\"{dike}_{e}\"\n",
    "    #     for e in [\"Expected Annual Damage\", \"Dike Investment Costs\"]\n",
    "    #     for dike in function.dikelist\n",
    "    # ])\n",
    "    # cost_variables.extend([f\"RfR Total Costs\"])\n",
    "    # cost_variables.extend([f\"Expected Evacuation Costs\"])\n",
    "\n",
    "\n",
    "    if problem_formulation_actor == 4: #RWS\n",
    "        model.outcomes.clear()\n",
    "        model.outcomes = [\n",
    "            ScalarOutcome('Expected Annual Damage',\n",
    "                            variable_name=['{}_Expected Annual Damage'.format(dike)\n",
    "                                                for dike in function.dikelist],\n",
    "                            function=sum_over, kind=direction),\n",
    "\n",
    "            ScalarOutcome('Total Investment Costs',\n",
    "                            variable_name=['{}_Dike Investment Costs'.format(dike)\n",
    "                                                for dike in function.dikelist] + ['RfR Total Costs'\n",
    "                                                                                ] + ['Expected Evacuation Costs'],\n",
    "                            function=sum_over, kind=direction),\n",
    "\n",
    "            ScalarOutcome('Expected Number of Deaths',\n",
    "                            variable_name=['{}_Expected Number of Deaths'.format(dike)\n",
    "                                                for dike in function.dikelist],\n",
    "                            function=sum_over, kind=direction)] \n",
    "    \n",
    "    elif problem_formulation_actor == 5: # GELDERLAND\n",
    "        model.outcomes.clear()\n",
    "        model.outcomes = [\n",
    "            ScalarOutcome('Expected Annual Damage A1', variable_name='A.1_Expected Annual Damage', function = sum_over, kind=direction),\n",
    "            ScalarOutcome('Expected Annual Damage A2', variable_name='A.2_Expected Annual Damage', function = sum_over, kind=direction),\n",
    "            ScalarOutcome('Expected Annual Damage A3', variable_name='A.3_Expected Annual Damage', function = sum_over, kind=direction),\n",
    "            ScalarOutcome('Expected Number of Deaths in A1', variable_name='A.1_Expected Number of Deaths',function = sum_over, kind=direction),\n",
    "            ScalarOutcome('Expected Number of Deaths in A2', variable_name='A.2_Expected Number of Deaths',function = sum_over, kind=direction),\n",
    "            ScalarOutcome('Expected Number of Deaths in A3', variable_name='A.3_Expected Number of Deaths',function = sum_over, kind=direction),\n",
    "            ScalarOutcome('Total Costs', variable_name=cost_variables, function = sum_over, kind=direction),\n",
    "            ScalarOutcome('Aggregated Expected Number of Deaths A4-A5', variable_name = \n",
    "            ['A.4_Expected Number of Deaths', 'A.5_Expected Number of Deaths'], function = sum_over, kind=direction)]\n",
    "    \n",
    "    elif problem_formulation_actor == 6: #OVERIJSSEL\n",
    "        model.outcomes.clear()\n",
    "        \n",
    "        model.outcomes = [\n",
    "            ScalarOutcome(f'Total_period_Costs_0', variable_name= dike_model.outcomes['Total_period_Costs'].variable_name, function = stick_over_time, kind=direction),\n",
    "            ScalarOutcome(f'Total_period_Costs_1', variable_name= dike_model.outcomes['Total_period_Costs'].variable_name, function = slick_over_time, kind=direction)\n",
    "        ]\n",
    "        \n",
    "    else:\n",
    "        raise TypeError('unknown identifier')\n",
    "        \n",
    "    return model"
   ],
   "outputs": [],
   "execution_count": 18
  },
  {
   "cell_type": "code",
   "id": "1bfd2ae6-5f22-4449-a17a-d82042a02813",
   "metadata": {
    "tags": [],
    "ExecuteTime": {
     "end_time": "2024-06-15T08:48:28.826497Z",
     "start_time": "2024-06-15T08:48:28.791079Z"
    }
   },
   "source": [
    "# Replicate the uncertainties\n",
    "uncertainties = dike_model.uncertainties\n",
    "uncertainties = copy.deepcopy(dike_model.uncertainties)"
   ],
   "outputs": [],
   "execution_count": 19
  },
  {
   "cell_type": "code",
   "id": "d2c96536-35ba-4172-b925-62abbc885eaa",
   "metadata": {
    "tags": [],
    "ExecuteTime": {
     "end_time": "2024-06-15T08:48:29.915606Z",
     "start_time": "2024-06-15T08:48:29.850466Z"
    }
   },
   "source": [
    "levers = dike_model.levers \n",
    "levers = copy.deepcopy(dike_model.levers)"
   ],
   "outputs": [],
   "execution_count": 20
  },
  {
   "cell_type": "code",
   "id": "a91639a2468a9adc",
   "metadata": {
    "tags": [],
    "ExecuteTime": {
     "end_time": "2024-06-15T08:48:31.802674Z",
     "start_time": "2024-06-15T08:48:30.611147Z"
    }
   },
   "source": "model = problem_formulation_actor(6)\n",
   "outputs": [],
   "execution_count": 21
  },
  {
   "metadata": {
    "ExecuteTime": {
     "end_time": "2024-06-15T08:48:33.186159Z",
     "start_time": "2024-06-15T08:48:33.178674Z"
    }
   },
   "cell_type": "code",
   "source": [
    "for tr in model.outcomes:\n",
    "    print(tr)"
   ],
   "id": "6c9f2d3df577e9eb",
   "outputs": [
    {
     "name": "stdout",
     "output_type": "stream",
     "text": [
      "ScalarOutcome('Total_period_Costs_0', variable_name=('A.1_Dike Investment Costs', 'A.2_Dike Investment Costs', 'A.3_Dike Investment Costs', 'A.4_Dike Investment Costs', 'A.5_Dike Investment Costs', 'RfR Total Costs', 'Expected Evacuation Costs'), function=<function stick_over_time at 0x000001A89CB88040>)\n",
      "ScalarOutcome('Total_period_Costs_1', variable_name=('A.1_Dike Investment Costs', 'A.2_Dike Investment Costs', 'A.3_Dike Investment Costs', 'A.4_Dike Investment Costs', 'A.5_Dike Investment Costs', 'RfR Total Costs', 'Expected Evacuation Costs'), function=<function slick_over_time at 0x000001A89CB880E0>)\n"
     ]
    }
   ],
   "execution_count": 22
  },
  {
   "cell_type": "code",
   "id": "3b5e260bcd0a1bc3",
   "metadata": {
    "tags": [],
    "ExecuteTime": {
     "end_time": "2024-06-15T08:48:34.914505Z",
     "start_time": "2024-06-15T08:48:34.902437Z"
    }
   },
   "source": [
    "reference_values = {\n",
    "    \"Bmax\": 175,\n",
    "    \"Brate\": 1.5,\n",
    "    \"pfail\": 0.5,\n",
    "    \"ID flood wave shape\": 4,\n",
    "    \"planning steps\": 2,\n",
    "}\n",
    "reference_values.update({f\"discount rate {n}\": 3.5 for n in planning_steps})\n",
    "refcase_scen = {}\n",
    "\n",
    "for key in dike_model.uncertainties:\n",
    "    name_split = key.name.split('_')\n",
    "    if len(name_split) == 1:\n",
    "\n",
    "        refcase_scen.update({key.name: reference_values[key.name]})\n",
    "    else:\n",
    "        refcase_scen.update({key.name: reference_values[name_split[1]]})\n",
    "            \n",
    "ref_scenario = Scenario('reference', **refcase_scen)"
   ],
   "outputs": [],
   "execution_count": 23
  },
  {
   "cell_type": "code",
   "id": "51aeba8593a9ed87",
   "metadata": {
    "tags": [],
    "ExecuteTime": {
     "end_time": "2024-06-15T08:50:08.566453Z",
     "start_time": "2024-06-15T08:48:38.316761Z"
    }
   },
   "source": [
    "convergence_metrics = {EpsilonProgress()}\n",
    "#constraint = [Constraint(\"Total Costs\", outcome_names=\"Total Costs\", function=lambda x: max(0, x - 700000000))]\n",
    "\n",
    "results_df = pd.DataFrame()\n",
    "with MultiprocessingEvaluator(model) as evaluator:\n",
    "    for _ in range(1):\n",
    "       results = evaluator.optimize(nfe=2, searchover='levers',\n",
    "                                     convergence=convergence_metrics,\n",
    "                                     epsilons=[1]*len(model.outcomes), reference=ref_scenario)\n",
    "        \n",
    "        \n",
    "save_results(results, 'Week23_MORDM_Reference_1000_PD6.tar.gz')\n"
   ],
   "outputs": [
    {
     "name": "stderr",
     "output_type": "stream",
     "text": [
      "[MainProcess/INFO] pool started with 4 workers\n",
      "100it [00:51,  1.95it/s]                                                       \n",
      "[MainProcess/INFO] optimization completed, found 7 solutions\n",
      "[MainProcess/INFO] terminating pool\n"
     ]
    },
    {
     "ename": "KeyError",
     "evalue": "'epsilon_progress'",
     "output_type": "error",
     "traceback": [
      "\u001B[1;31m---------------------------------------------------------------------------\u001B[0m",
      "\u001B[1;31mKeyError\u001B[0m                                  Traceback (most recent call last)",
      "Cell \u001B[1;32mIn[24], line 12\u001B[0m\n\u001B[0;32m      6\u001B[0m     \u001B[38;5;28;01mfor\u001B[39;00m _ \u001B[38;5;129;01min\u001B[39;00m \u001B[38;5;28mrange\u001B[39m(\u001B[38;5;241m1\u001B[39m):\n\u001B[0;32m      7\u001B[0m        results \u001B[38;5;241m=\u001B[39m evaluator\u001B[38;5;241m.\u001B[39moptimize(nfe\u001B[38;5;241m=\u001B[39m\u001B[38;5;241m2\u001B[39m, searchover\u001B[38;5;241m=\u001B[39m\u001B[38;5;124m'\u001B[39m\u001B[38;5;124mlevers\u001B[39m\u001B[38;5;124m'\u001B[39m,\n\u001B[0;32m      8\u001B[0m                                      convergence\u001B[38;5;241m=\u001B[39mconvergence_metrics,\n\u001B[0;32m      9\u001B[0m                                      epsilons\u001B[38;5;241m=\u001B[39m[\u001B[38;5;241m1\u001B[39m]\u001B[38;5;241m*\u001B[39m\u001B[38;5;28mlen\u001B[39m(model\u001B[38;5;241m.\u001B[39moutcomes), reference\u001B[38;5;241m=\u001B[39mref_scenario)\n\u001B[1;32m---> 12\u001B[0m save_results(results, \u001B[38;5;124m'\u001B[39m\u001B[38;5;124mWeek23_MORDM_Reference_1000_PD6.tar.gz\u001B[39m\u001B[38;5;124m'\u001B[39m)\n",
      "File \u001B[1;32m~\\anaconda3\\Lib\\site-packages\\ema_workbench\\util\\utilities.py:222\u001B[0m, in \u001B[0;36msave_results\u001B[1;34m(results, file_name)\u001B[0m\n\u001B[0;32m    220\u001B[0m outcomes_metadata \u001B[38;5;241m=\u001B[39m []\n\u001B[0;32m    221\u001B[0m \u001B[38;5;28;01mfor\u001B[39;00m key, value \u001B[38;5;129;01min\u001B[39;00m outcomes\u001B[38;5;241m.\u001B[39mitems():\n\u001B[1;32m--> 222\u001B[0m     klass \u001B[38;5;241m=\u001B[39m register\u001B[38;5;241m.\u001B[39moutcomes[key]\n\u001B[0;32m    223\u001B[0m     stream, filename \u001B[38;5;241m=\u001B[39m register\u001B[38;5;241m.\u001B[39mserialize(key, value)\n\u001B[0;32m    224\u001B[0m     add_file(z, stream, filename)\n",
      "\u001B[1;31mKeyError\u001B[0m: 'epsilon_progress'"
     ]
    }
   ],
   "execution_count": 24
  },
  {
   "cell_type": "code",
   "id": "34bd8ab53b26c62f",
   "metadata": {
    "tags": [],
    "ExecuteTime": {
     "end_time": "2024-06-15T08:50:20.539800Z",
     "start_time": "2024-06-15T08:50:20.533422Z"
    }
   },
   "source": [
    "y,t=results"
   ],
   "outputs": [],
   "execution_count": 25
  },
  {
   "cell_type": "code",
   "id": "3c1d9c4f1c6565ca",
   "metadata": {
    "tags": [],
    "ExecuteTime": {
     "end_time": "2024-06-15T08:50:21.458882Z",
     "start_time": "2024-06-15T08:50:21.392504Z"
    }
   },
   "source": [
    "y"
   ],
   "outputs": [
    {
     "data": {
      "text/plain": [
       "   0_RfR 0  0_RfR 1  0_RfR 2  0_RfR 3  0_RfR 4  1_RfR 0  1_RfR 1  1_RfR 2  \\\n",
       "0        0        0        0        1        1        0        0        1   \n",
       "1        0        0        0        1        0        1        0        1   \n",
       "2        0        1        1        0        0        0        0        1   \n",
       "3        1        0        0        1        0        1        0        0   \n",
       "4        0        1        1        1        0        0        1        1   \n",
       "5        1        0        0        0        1        0        0        0   \n",
       "6        0        0        1        1        0        0        0        1   \n",
       "\n",
       "   1_RfR 3  1_RfR 4  ...  A.4_DikeIncrease 2  A.4_DikeIncrease 3  \\\n",
       "0        0        1  ...                   6                   9   \n",
       "1        0        0  ...                   0                   2   \n",
       "2        1        1  ...                   5                   1   \n",
       "3        0        0  ...                   8                   0   \n",
       "4        1        1  ...                   9                   0   \n",
       "5        1        0  ...                  10                   1   \n",
       "6        0        1  ...                   2                  10   \n",
       "\n",
       "   A.4_DikeIncrease 4  A.5_DikeIncrease 0  A.5_DikeIncrease 1  \\\n",
       "0                   9                   0                   5   \n",
       "1                   0                  10                   2   \n",
       "2                   9                   1                   5   \n",
       "3                   2                   4                   0   \n",
       "4                   8                   0                   9   \n",
       "5                   4                  10                   6   \n",
       "6                   0                   0                   0   \n",
       "\n",
       "   A.5_DikeIncrease 2  A.5_DikeIncrease 3  A.5_DikeIncrease 4  \\\n",
       "0                  10                  10                   4   \n",
       "1                   0                   5                   1   \n",
       "2                   8                   7                   8   \n",
       "3                   1                   2                   1   \n",
       "4                   6                   7                   9   \n",
       "5                   0                   2                   7   \n",
       "6                   6                   6                   9   \n",
       "\n",
       "   Total_period_Costs_0  Total_period_Costs_1  \n",
       "0          1.978081e+08          3.420187e+08  \n",
       "1          5.406807e+08          2.342095e+08  \n",
       "2          1.733730e+08          4.166836e+08  \n",
       "3          7.595939e+08          1.992417e+08  \n",
       "4          1.457690e+08          5.502322e+08  \n",
       "5          7.025938e+08          2.228848e+08  \n",
       "6          2.788141e+08          2.455040e+08  \n",
       "\n",
       "[7 rows x 53 columns]"
      ],
      "text/html": [
       "<div>\n",
       "<style scoped>\n",
       "    .dataframe tbody tr th:only-of-type {\n",
       "        vertical-align: middle;\n",
       "    }\n",
       "\n",
       "    .dataframe tbody tr th {\n",
       "        vertical-align: top;\n",
       "    }\n",
       "\n",
       "    .dataframe thead th {\n",
       "        text-align: right;\n",
       "    }\n",
       "</style>\n",
       "<table border=\"1\" class=\"dataframe\">\n",
       "  <thead>\n",
       "    <tr style=\"text-align: right;\">\n",
       "      <th></th>\n",
       "      <th>0_RfR 0</th>\n",
       "      <th>0_RfR 1</th>\n",
       "      <th>0_RfR 2</th>\n",
       "      <th>0_RfR 3</th>\n",
       "      <th>0_RfR 4</th>\n",
       "      <th>1_RfR 0</th>\n",
       "      <th>1_RfR 1</th>\n",
       "      <th>1_RfR 2</th>\n",
       "      <th>1_RfR 3</th>\n",
       "      <th>1_RfR 4</th>\n",
       "      <th>...</th>\n",
       "      <th>A.4_DikeIncrease 2</th>\n",
       "      <th>A.4_DikeIncrease 3</th>\n",
       "      <th>A.4_DikeIncrease 4</th>\n",
       "      <th>A.5_DikeIncrease 0</th>\n",
       "      <th>A.5_DikeIncrease 1</th>\n",
       "      <th>A.5_DikeIncrease 2</th>\n",
       "      <th>A.5_DikeIncrease 3</th>\n",
       "      <th>A.5_DikeIncrease 4</th>\n",
       "      <th>Total_period_Costs_0</th>\n",
       "      <th>Total_period_Costs_1</th>\n",
       "    </tr>\n",
       "  </thead>\n",
       "  <tbody>\n",
       "    <tr>\n",
       "      <th>0</th>\n",
       "      <td>0</td>\n",
       "      <td>0</td>\n",
       "      <td>0</td>\n",
       "      <td>1</td>\n",
       "      <td>1</td>\n",
       "      <td>0</td>\n",
       "      <td>0</td>\n",
       "      <td>1</td>\n",
       "      <td>0</td>\n",
       "      <td>1</td>\n",
       "      <td>...</td>\n",
       "      <td>6</td>\n",
       "      <td>9</td>\n",
       "      <td>9</td>\n",
       "      <td>0</td>\n",
       "      <td>5</td>\n",
       "      <td>10</td>\n",
       "      <td>10</td>\n",
       "      <td>4</td>\n",
       "      <td>1.978081e+08</td>\n",
       "      <td>3.420187e+08</td>\n",
       "    </tr>\n",
       "    <tr>\n",
       "      <th>1</th>\n",
       "      <td>0</td>\n",
       "      <td>0</td>\n",
       "      <td>0</td>\n",
       "      <td>1</td>\n",
       "      <td>0</td>\n",
       "      <td>1</td>\n",
       "      <td>0</td>\n",
       "      <td>1</td>\n",
       "      <td>0</td>\n",
       "      <td>0</td>\n",
       "      <td>...</td>\n",
       "      <td>0</td>\n",
       "      <td>2</td>\n",
       "      <td>0</td>\n",
       "      <td>10</td>\n",
       "      <td>2</td>\n",
       "      <td>0</td>\n",
       "      <td>5</td>\n",
       "      <td>1</td>\n",
       "      <td>5.406807e+08</td>\n",
       "      <td>2.342095e+08</td>\n",
       "    </tr>\n",
       "    <tr>\n",
       "      <th>2</th>\n",
       "      <td>0</td>\n",
       "      <td>1</td>\n",
       "      <td>1</td>\n",
       "      <td>0</td>\n",
       "      <td>0</td>\n",
       "      <td>0</td>\n",
       "      <td>0</td>\n",
       "      <td>1</td>\n",
       "      <td>1</td>\n",
       "      <td>1</td>\n",
       "      <td>...</td>\n",
       "      <td>5</td>\n",
       "      <td>1</td>\n",
       "      <td>9</td>\n",
       "      <td>1</td>\n",
       "      <td>5</td>\n",
       "      <td>8</td>\n",
       "      <td>7</td>\n",
       "      <td>8</td>\n",
       "      <td>1.733730e+08</td>\n",
       "      <td>4.166836e+08</td>\n",
       "    </tr>\n",
       "    <tr>\n",
       "      <th>3</th>\n",
       "      <td>1</td>\n",
       "      <td>0</td>\n",
       "      <td>0</td>\n",
       "      <td>1</td>\n",
       "      <td>0</td>\n",
       "      <td>1</td>\n",
       "      <td>0</td>\n",
       "      <td>0</td>\n",
       "      <td>0</td>\n",
       "      <td>0</td>\n",
       "      <td>...</td>\n",
       "      <td>8</td>\n",
       "      <td>0</td>\n",
       "      <td>2</td>\n",
       "      <td>4</td>\n",
       "      <td>0</td>\n",
       "      <td>1</td>\n",
       "      <td>2</td>\n",
       "      <td>1</td>\n",
       "      <td>7.595939e+08</td>\n",
       "      <td>1.992417e+08</td>\n",
       "    </tr>\n",
       "    <tr>\n",
       "      <th>4</th>\n",
       "      <td>0</td>\n",
       "      <td>1</td>\n",
       "      <td>1</td>\n",
       "      <td>1</td>\n",
       "      <td>0</td>\n",
       "      <td>0</td>\n",
       "      <td>1</td>\n",
       "      <td>1</td>\n",
       "      <td>1</td>\n",
       "      <td>1</td>\n",
       "      <td>...</td>\n",
       "      <td>9</td>\n",
       "      <td>0</td>\n",
       "      <td>8</td>\n",
       "      <td>0</td>\n",
       "      <td>9</td>\n",
       "      <td>6</td>\n",
       "      <td>7</td>\n",
       "      <td>9</td>\n",
       "      <td>1.457690e+08</td>\n",
       "      <td>5.502322e+08</td>\n",
       "    </tr>\n",
       "    <tr>\n",
       "      <th>5</th>\n",
       "      <td>1</td>\n",
       "      <td>0</td>\n",
       "      <td>0</td>\n",
       "      <td>0</td>\n",
       "      <td>1</td>\n",
       "      <td>0</td>\n",
       "      <td>0</td>\n",
       "      <td>0</td>\n",
       "      <td>1</td>\n",
       "      <td>0</td>\n",
       "      <td>...</td>\n",
       "      <td>10</td>\n",
       "      <td>1</td>\n",
       "      <td>4</td>\n",
       "      <td>10</td>\n",
       "      <td>6</td>\n",
       "      <td>0</td>\n",
       "      <td>2</td>\n",
       "      <td>7</td>\n",
       "      <td>7.025938e+08</td>\n",
       "      <td>2.228848e+08</td>\n",
       "    </tr>\n",
       "    <tr>\n",
       "      <th>6</th>\n",
       "      <td>0</td>\n",
       "      <td>0</td>\n",
       "      <td>1</td>\n",
       "      <td>1</td>\n",
       "      <td>0</td>\n",
       "      <td>0</td>\n",
       "      <td>0</td>\n",
       "      <td>1</td>\n",
       "      <td>0</td>\n",
       "      <td>1</td>\n",
       "      <td>...</td>\n",
       "      <td>2</td>\n",
       "      <td>10</td>\n",
       "      <td>0</td>\n",
       "      <td>0</td>\n",
       "      <td>0</td>\n",
       "      <td>6</td>\n",
       "      <td>6</td>\n",
       "      <td>9</td>\n",
       "      <td>2.788141e+08</td>\n",
       "      <td>2.455040e+08</td>\n",
       "    </tr>\n",
       "  </tbody>\n",
       "</table>\n",
       "<p>7 rows × 53 columns</p>\n",
       "</div>"
      ]
     },
     "execution_count": 26,
     "metadata": {},
     "output_type": "execute_result"
    }
   ],
   "execution_count": 26
  },
  {
   "cell_type": "code",
   "id": "d7f70ad7093be073",
   "metadata": {},
   "source": [
    "convergence_metrics = {EpsilonProgress()}\n",
    "constraint = [Constraint(\"Total_costs_0\", outcome_names=\"Total_costs_0\", function=lambda x: max(0, x - 1000))]\n",
    "\n",
    "results_df = pd.DataFrame()\n",
    "with MultiprocessingEvaluator(model) as evaluator:\n",
    "    for _ in range(1):\n",
    "       yui = evaluator.optimize(nfe=3, searchover='levers',\n",
    "                                     convergence=convergence_metrics,\n",
    "                                     epsilons=[1]*len(model.outcomes), reference=ref_scenario)\n",
    "        \n",
    "        \n",
    "\n"
   ],
   "outputs": [],
   "execution_count": null
  },
  {
   "cell_type": "code",
   "id": "93829dd7a2715d3a",
   "metadata": {},
   "source": [
    "from ema_workbench.em_framework.optimization import epsilon_nondominated, to_problem\n",
    "\n",
    "problem = to_problem(model, searchover=\"levers\")\n",
    "epsilons = [0.05] * len(model.outcomes)\n",
    "merged_archives = epsilon_nondominated(results_df, epsilons, problem)"
   ],
   "outputs": [],
   "execution_count": null
  },
  {
   "cell_type": "code",
   "id": "27ba29de-d899-4ebf-8874-02558697fab7",
   "metadata": {
    "tags": []
   },
   "source": [
    "(y1,t1) , (y2,t2) = results"
   ],
   "outputs": [],
   "execution_count": null
  },
  {
   "cell_type": "code",
   "id": "2511e086bbddd695",
   "metadata": {},
   "source": [
    "t2"
   ],
   "outputs": [],
   "execution_count": null
  },
  {
   "cell_type": "code",
   "id": "9dc0e263c5b34ee3",
   "metadata": {},
   "source": [
    "y = y1+y2\n",
    "y"
   ],
   "outputs": [],
   "execution_count": null
  },
  {
   "cell_type": "markdown",
   "id": "f104ee039321b72",
   "metadata": {},
   "source": [
    "# Gelderland\n"
   ]
  },
  {
   "cell_type": "code",
   "id": "2286227eebd36278",
   "metadata": {},
   "source": [
    "model = problem_formulation_actor(5)\n",
    "for outcome in model.outcomes:\n",
    "    print(repr((outcome)))"
   ],
   "outputs": [],
   "execution_count": null
  },
  {
   "cell_type": "code",
   "id": "b6b9fdf3b1c5eac6",
   "metadata": {},
   "source": [
    "convergence_metrics = {EpsilonProgress()}\n",
    "constraint = [Constraint(\"Total Costs\", outcome_names=\"Total Costs\", function=lambda x: max(0, x - 700000000))]\n",
    "\n",
    "results_df = pd.DataFrame()\n",
    "with MultiprocessingEvaluator(model) as evaluator:\n",
    "    for _ in range(2):\n",
    "       results = evaluator.optimize(nfe=2, searchover='levers',\n",
    "                                     convergence=convergence_metrics,\n",
    "                                     epsilons=[1]*len(model.outcomes), reference=ref_scenario,\n",
    "                                     constraints=constraint)\n",
    "        \n",
    "        \n",
    "save_results(results, 'Week23_MORDM_Reference_1000_PD6.tar.gz')\n"
   ],
   "outputs": [],
   "execution_count": null
  }
 ],
 "metadata": {
  "kernelspec": {
   "display_name": "Python 3 (ipykernel)",
   "language": "python",
   "name": "python3"
  },
  "language_info": {
   "codemirror_mode": {
    "name": "ipython",
    "version": 3
   },
   "file_extension": ".py",
   "mimetype": "text/x-python",
   "name": "python",
   "nbconvert_exporter": "python",
   "pygments_lexer": "ipython3",
   "version": "3.11.4"
  }
 },
 "nbformat": 4,
 "nbformat_minor": 5
}
