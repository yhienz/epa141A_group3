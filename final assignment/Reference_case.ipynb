{
 "cells": [
  {
   "cell_type": "code",
   "execution_count": 20,
   "id": "d461b0ee-63ce-4fa7-95cc-f8916b56fb1a",
   "metadata": {
    "ExecuteTime": {
     "end_time": "2024-06-04T16:38:53.585960Z",
     "start_time": "2024-06-04T16:38:40.328401Z"
    },
    "tags": []
   },
   "outputs": [],
   "source": [
    "import pandas as pd"
   ]
  },
  {
   "cell_type": "code",
   "execution_count": 4,
   "id": "initial_id",
   "metadata": {
    "jupyter": {
     "is_executing": true
    },
    "tags": []
   },
   "outputs": [],
   "source": [
    "from dike_model_function import DikeNetwork  # @UnresolvedImport\n",
    "# Loading in the necessary modules for EMA workbench and functions\n",
    "from ema_workbench import (Model, MultiprocessingEvaluator, Policy, Scenario, ScalarOutcome)\n",
    "\n",
    "from ema_workbench.em_framework.evaluators import perform_experiments\n",
    "from ema_workbench.em_framework.samplers import sample_uncertainties\n",
    "from ema_workbench.util import ema_logging\n",
    "import time\n",
    "from problem_formulation import get_model_for_problem_formulation\n",
    "from problem_formulation import sum_over, sum_over_time\n",
    "from ema_workbench import save_results\n",
    "import copy\n",
    "\n",
    "# Loading in all the 17 objectives via predefined problem formulation 3\n",
    "if __name__ == '__main__':\n",
    "    ema_logging.log_to_stderr(ema_logging.INFO)\n",
    "\n",
    "    dike_model, planning_steps = get_model_for_problem_formulation(3)"
   ]
  },
  {
   "cell_type": "code",
   "execution_count": 5,
   "id": "b6b301ac7683c5ee",
   "metadata": {
    "ExecuteTime": {
     "end_time": "2024-06-04T16:39:07.959113Z",
     "start_time": "2024-06-04T16:39:07.918594Z"
    },
    "tags": []
   },
   "outputs": [
    {
     "name": "stdout",
     "output_type": "stream",
     "text": [
      "<class 'ema_workbench.em_framework.outcomes.ScalarOutcome'>\n",
      "<class 'ema_workbench.em_framework.outcomes.ScalarOutcome'>\n",
      "<class 'ema_workbench.em_framework.outcomes.ScalarOutcome'>\n",
      "<class 'ema_workbench.em_framework.outcomes.ScalarOutcome'>\n",
      "<class 'ema_workbench.em_framework.outcomes.ScalarOutcome'>\n",
      "<class 'ema_workbench.em_framework.outcomes.ScalarOutcome'>\n",
      "<class 'ema_workbench.em_framework.outcomes.ScalarOutcome'>\n",
      "<class 'ema_workbench.em_framework.outcomes.ScalarOutcome'>\n",
      "<class 'ema_workbench.em_framework.outcomes.ScalarOutcome'>\n",
      "<class 'ema_workbench.em_framework.outcomes.ScalarOutcome'>\n",
      "<class 'ema_workbench.em_framework.outcomes.ScalarOutcome'>\n",
      "<class 'ema_workbench.em_framework.outcomes.ScalarOutcome'>\n"
     ]
    }
   ],
   "source": [
    "# Replicate the objectives\n",
    "for outcome in dike_model.outcomes:\n",
    "    print(repr(type(outcome)))\n",
    "    "
   ]
  },
  {
   "cell_type": "code",
   "execution_count": 6,
   "id": "277a36e0-e5d8-4d34-9f17-3118ef97a1e3",
   "metadata": {
    "ExecuteTime": {
     "end_time": "2024-06-04T16:39:08.322746Z",
     "start_time": "2024-06-04T16:39:08.005704Z"
    },
    "tags": []
   },
   "outputs": [],
   "source": [
    "# Writing a function to create actor specific problem formulations\n",
    "def problem_formulation_actor(problem_formulation_actor):\n",
    "   \n",
    "    # Load the model:\n",
    "    function = DikeNetwork()\n",
    "    # workbench model:\n",
    "    model = Model('dikesnet', function=function)\n",
    "    # Outcomes are all costs, thus they have to minimized:\n",
    "    direction = ScalarOutcome.MINIMIZE\n",
    "    \n",
    "    model.uncertainties = uncertainties\n",
    "    model.levers = levers\n",
    "    \n",
    "    cost_variables = []\n",
    "    cost_variables.extend(\n",
    "    [\n",
    "        f\"{dike}_{e}\"\n",
    "        for e in [\"Expected Annual Damage\", \"Dike Investment Costs\"]\n",
    "        for dike in function.dikelist\n",
    "    ])\n",
    "    cost_variables.extend([f\"RfR Total Costs\"])\n",
    "    cost_variables.extend([f\"Expected Evacuation Costs\"])\n",
    "\n",
    "\n",
    "    if problem_formulation_actor == 4: #RWS\n",
    "        model.outcomes.clear()\n",
    "        model.outcomes = [\n",
    "            ScalarOutcome('Expected Annual Damage',\n",
    "                            variable_name=['{}_Expected Annual Damage'.format(dike)\n",
    "                                                for dike in function.dikelist],\n",
    "                            function=sum_over, kind=direction),\n",
    "\n",
    "            ScalarOutcome('Total Investment Costs',\n",
    "                            variable_name=['{}_Dike Investment Costs'.format(dike)\n",
    "                                                for dike in function.dikelist] + ['RfR Total Costs'\n",
    "                                                                                ] + ['Expected Evacuation Costs'],\n",
    "                            function=sum_over, kind=direction),\n",
    "\n",
    "            ScalarOutcome('Expected Number of Deaths',\n",
    "                            variable_name=['{}_Expected Number of Deaths'.format(dike)\n",
    "                                                for dike in function.dikelist],\n",
    "                            function=sum_over, kind=direction)] \n",
    "    \n",
    "    elif problem_formulation_actor == 5: # GELDERLAND\n",
    "        model.outcomes.clear()\n",
    "        model.outcomes = [\n",
    "            ScalarOutcome('Expected Annual Damage A1-4',\n",
    "                            variable_name=['A.1_Expected Annual Damage' ,'A.2_Expected Annual Damage', 'A.3_Expected Annual Damage', 'A.4_Expected Annual Damage'], function=sum_over, kind=direction),\n",
    "\n",
    "            ScalarOutcome('Investment Costs A1-4',\n",
    "                            variable_name=['A.1_Dike Investment Costs', 'A.2_Dike Investment Costs', 'A.3_Dike Investment Costs', 'A.4_Dike Investment Costs'], function=sum_over, kind=direction),\n",
    "\n",
    "            ScalarOutcome('Expected Number of Deaths in A1-4',\n",
    "                            variable_name=['A.1_Expected Number of Deaths', 'A.2_Expected Number of Deaths', 'A.3_Expected Number of Deaths', 'A.4_Expected Number of Deaths'], function=sum_over, kind=direction)]\n",
    "    \n",
    "    elif problem_formulation_actor == 6: # OVERIJSSEL\n",
    "        model.outcomes.clear()\n",
    "        model.outcomes = [\n",
    "            ScalarOutcome('Expected Annual Damage A4', variable_name='A.4_Expected Annual Damage', function = sum_over, kind=direction),\n",
    "            ScalarOutcome('Expected Annual Damage A5', variable_name='A.5_Expected Annual Damage', function = sum_over, kind=direction),            \n",
    "            ScalarOutcome('Expected Number of Deaths in A4', variable_name='A.4_Expected Number of Deaths',function = sum_over, kind=direction),\n",
    "            ScalarOutcome('Expected Number of Deaths in A5', variable_name='A.5_Expected Number of Deaths',function = sum_over, kind=direction),\n",
    "            ScalarOutcome('Total Costs', variable_name=cost_variables, function = sum_over, kind=direction)]\n",
    "    \n",
    "    else:\n",
    "        raise TypeError('unknown identifier')\n",
    "    return model"
   ]
  },
  {
   "cell_type": "code",
   "execution_count": 7,
   "id": "1bfd2ae6-5f22-4449-a17a-d82042a02813",
   "metadata": {
    "ExecuteTime": {
     "end_time": "2024-06-04T16:39:08.558348Z",
     "start_time": "2024-06-04T16:39:08.332809Z"
    },
    "tags": []
   },
   "outputs": [],
   "source": [
    "# Replicate the uncertainties\n",
    "uncertainties = dike_model.uncertainties\n",
    "uncertainties = copy.deepcopy(dike_model.uncertainties)"
   ]
  },
  {
   "cell_type": "code",
   "execution_count": 8,
   "id": "d2c96536-35ba-4172-b925-62abbc885eaa",
   "metadata": {
    "ExecuteTime": {
     "end_time": "2024-06-04T16:39:08.762876Z",
     "start_time": "2024-06-04T16:39:08.566695Z"
    },
    "tags": []
   },
   "outputs": [],
   "source": [
    "levers = dike_model.levers \n",
    "levers = copy.deepcopy(dike_model.levers)"
   ]
  },
  {
   "cell_type": "code",
   "execution_count": 9,
   "id": "a91639a2468a9adc",
   "metadata": {
    "ExecuteTime": {
     "end_time": "2024-06-04T16:39:12.130290Z",
     "start_time": "2024-06-04T16:39:10.571017Z"
    },
    "tags": []
   },
   "outputs": [
    {
     "name": "stdout",
     "output_type": "stream",
     "text": [
      "<class 'ema_workbench.em_framework.outcomes.ScalarOutcome'>\n",
      "<class 'ema_workbench.em_framework.outcomes.ScalarOutcome'>\n",
      "<class 'ema_workbench.em_framework.outcomes.ScalarOutcome'>\n",
      "<class 'ema_workbench.em_framework.outcomes.ScalarOutcome'>\n",
      "<class 'ema_workbench.em_framework.outcomes.ScalarOutcome'>\n"
     ]
    }
   ],
   "source": [
    "model = problem_formulation_actor(6)\n",
    "for outcome in model.outcomes:\n",
    "    print(repr(type(outcome)))"
   ]
  },
  {
   "cell_type": "markdown",
   "id": "adac028e40648723",
   "metadata": {},
   "source": []
  },
  {
   "cell_type": "code",
   "execution_count": 10,
   "id": "8dc875ff-0e3b-4e4c-81bf-050b8ee99b44",
   "metadata": {
    "ExecuteTime": {
     "end_time": "2024-06-04T16:39:12.146680Z",
     "start_time": "2024-06-04T16:39:12.135662Z"
    },
    "tags": []
   },
   "outputs": [
    {
     "name": "stdout",
     "output_type": "stream",
     "text": [
      "5\n"
     ]
    }
   ],
   "source": [
    "print(len(model.outcomes))"
   ]
  },
  {
   "cell_type": "code",
   "execution_count": 11,
   "id": "3347b377161d722f",
   "metadata": {
    "ExecuteTime": {
     "end_time": "2024-06-04T16:39:12.220600Z",
     "start_time": "2024-06-04T16:39:12.152432Z"
    },
    "tags": []
   },
   "outputs": [
    {
     "name": "stdout",
     "output_type": "stream",
     "text": [
      "0.9\n"
     ]
    }
   ],
   "source": [
    "print(sum_over_time(0.0, 0.0, 0.9))  # Expected output: 0.0"
   ]
  },
  {
   "cell_type": "code",
   "execution_count": 12,
   "id": "9f39c8db-6f38-4efa-868e-004bd149c4ef",
   "metadata": {
    "ExecuteTime": {
     "end_time": "2024-06-04T16:39:13.106376Z",
     "start_time": "2024-06-04T16:39:13.096476Z"
    },
    "tags": []
   },
   "outputs": [
    {
     "name": "stdout",
     "output_type": "stream",
     "text": [
      "ScalarOutcome('Expected Annual Damage A4', variable_name=('A.4_Expected Annual Damage',), function=<function sum_over at 0x0000020C3C612020>)\n",
      "ScalarOutcome('Expected Annual Damage A5', variable_name=('A.5_Expected Annual Damage',), function=<function sum_over at 0x0000020C3C612020>)\n",
      "ScalarOutcome('Expected Number of Deaths in A4', variable_name=('A.4_Expected Number of Deaths',), function=<function sum_over at 0x0000020C3C612020>)\n",
      "ScalarOutcome('Expected Number of Deaths in A5', variable_name=('A.5_Expected Number of Deaths',), function=<function sum_over at 0x0000020C3C612020>)\n",
      "ScalarOutcome('Total Costs', variable_name=('A.1_Expected Annual Damage', 'A.2_Expected Annual Damage', 'A.3_Expected Annual Damage', 'A.4_Expected Annual Damage', 'A.5_Expected Annual Damage', 'A.1_Dike Investment Costs', 'A.2_Dike Investment Costs', 'A.3_Dike Investment Costs', 'A.4_Dike Investment Costs', 'A.5_Dike Investment Costs', 'RfR Total Costs', 'Expected Evacuation Costs'), function=<function sum_over at 0x0000020C3C612020>)\n"
     ]
    }
   ],
   "source": [
    "for outcome in model.outcomes:\n",
    "    print(repr(outcome))"
   ]
  },
  {
   "cell_type": "code",
   "execution_count": 13,
   "id": "c33cfae19ab29a95",
   "metadata": {
    "ExecuteTime": {
     "end_time": "2024-06-04T16:39:14.726799Z",
     "start_time": "2024-06-04T16:39:14.718190Z"
    },
    "tags": []
   },
   "outputs": [
    {
     "name": "stdout",
     "output_type": "stream",
     "text": [
      "ScalarOutcome('A.1 Total Costs', variable_name=('A.1_Expected Annual Damage', 'A.1_Dike Investment Costs'), function=<function sum_over at 0x0000020C3C612020>)\n",
      "ScalarOutcome('A.1_Expected Number of Deaths', variable_name=('A.1_Expected Number of Deaths',), function=<function sum_over at 0x0000020C3C612020>)\n",
      "ScalarOutcome('A.2 Total Costs', variable_name=('A.2_Expected Annual Damage', 'A.2_Dike Investment Costs'), function=<function sum_over at 0x0000020C3C612020>)\n",
      "ScalarOutcome('A.2_Expected Number of Deaths', variable_name=('A.2_Expected Number of Deaths',), function=<function sum_over at 0x0000020C3C612020>)\n",
      "ScalarOutcome('A.3 Total Costs', variable_name=('A.3_Expected Annual Damage', 'A.3_Dike Investment Costs'), function=<function sum_over at 0x0000020C3C612020>)\n",
      "ScalarOutcome('A.3_Expected Number of Deaths', variable_name=('A.3_Expected Number of Deaths',), function=<function sum_over at 0x0000020C3C612020>)\n",
      "ScalarOutcome('A.4 Total Costs', variable_name=('A.4_Expected Annual Damage', 'A.4_Dike Investment Costs'), function=<function sum_over at 0x0000020C3C612020>)\n",
      "ScalarOutcome('A.4_Expected Number of Deaths', variable_name=('A.4_Expected Number of Deaths',), function=<function sum_over at 0x0000020C3C612020>)\n",
      "ScalarOutcome('A.5 Total Costs', variable_name=('A.5_Expected Annual Damage', 'A.5_Dike Investment Costs'), function=<function sum_over at 0x0000020C3C612020>)\n",
      "ScalarOutcome('A.5_Expected Number of Deaths', variable_name=('A.5_Expected Number of Deaths',), function=<function sum_over at 0x0000020C3C612020>)\n",
      "ScalarOutcome('RfR Total Costs', variable_name=('RfR Total Costs',), function=<function sum_over at 0x0000020C3C612020>)\n",
      "ScalarOutcome('Expected Evacuation Costs', variable_name=('Expected Evacuation Costs',), function=<function sum_over at 0x0000020C3C612020>)\n"
     ]
    }
   ],
   "source": [
    "for outcome in dike_model.outcomes:\n",
    "    print(repr(outcome))"
   ]
  },
  {
   "cell_type": "code",
   "execution_count": 14,
   "id": "3b5e260bcd0a1bc3",
   "metadata": {
    "ExecuteTime": {
     "end_time": "2024-06-04T16:39:16.091674Z",
     "start_time": "2024-06-04T16:39:16.076765Z"
    },
    "tags": []
   },
   "outputs": [],
   "source": [
    "reference_values = {\n",
    "    \"Bmax\": 175,\n",
    "    \"Brate\": 1.5,\n",
    "    \"pfail\": 0.5,\n",
    "    \"ID flood wave shape\": 4,\n",
    "    \"planning steps\": 2,\n",
    "}\n",
    "reference_values.update({f\"discount rate {n}\": 3.5 for n in planning_steps})\n",
    "refcase_scen = {}\n",
    "\n",
    "for key in dike_model.uncertainties:\n",
    "    name_split = key.name.split('_')\n",
    "    if len(name_split) == 1:\n",
    "\n",
    "        refcase_scen.update({key.name: reference_values[key.name]})\n",
    "    else:\n",
    "        refcase_scen.update({key.name: reference_values[name_split[1]]})\n",
    "            \n",
    "ref_scenario = Scenario('reference', **refcase_scen)"
   ]
  },
  {
   "cell_type": "code",
   "execution_count": 15,
   "id": "599901d1-250d-4153-afdb-481704103558",
   "metadata": {
    "ExecuteTime": {
     "end_time": "2024-06-04T16:39:17.078601Z",
     "start_time": "2024-06-04T16:39:17.062275Z"
    },
    "tags": []
   },
   "outputs": [],
   "source": [
    "# Loading in the right packages for running the optimization\n",
    "from ema_workbench.em_framework.optimization import (EpsilonProgress)"
   ]
  },
  {
   "cell_type": "code",
   "execution_count": 14,
   "id": "51aeba8593a9ed87",
   "metadata": {
    "ExecuteTime": {
     "start_time": "2024-06-04T16:39:20.495278Z"
    },
    "jupyter": {
     "is_executing": true
    },
    "tags": []
   },
   "outputs": [
    {
     "name": "stderr",
     "output_type": "stream",
     "text": [
      "[MainProcess/INFO] pool started with 3 workers\n",
      "5075it [30:16,  2.79it/s]                                                      \n",
      "[MainProcess/INFO] optimization completed, found 6 solutions\n",
      "[MainProcess/INFO] terminating pool\n"
     ]
    }
   ],
   "source": [
    "#convergence_metrics = {EpsilonProgress()}\n",
    "\n",
    "#with MultiprocessingEvaluator(model,n_processes=-1) as evaluator:\n",
    " #   results2 = evaluator.optimize(nfe=5000, searchover='levers',\n",
    "                                 #convergence=convergence_metrics,\n",
    "                                 #epsilons=[0.01]*len(model.outcomes), reference=ref_scenario)\n",
    "\n",
    "#save_results(results2, 'Experiments/Week23_MORDM_Reference_1000_PD6.tar.gz')\n"
   ]
  },
  {
   "cell_type": "code",
   "execution_count": 16,
   "id": "c0607a53-4224-462e-b88c-b188a3f129db",
   "metadata": {
    "tags": []
   },
   "outputs": [
    {
     "ename": "NameError",
     "evalue": "name 'results2' is not defined",
     "output_type": "error",
     "traceback": [
      "\u001b[1;31m---------------------------------------------------------------------------\u001b[0m",
      "\u001b[1;31mNameError\u001b[0m                                 Traceback (most recent call last)",
      "Cell \u001b[1;32mIn[16], line 1\u001b[0m\n\u001b[1;32m----> 1\u001b[0m y,t \u001b[38;5;241m=\u001b[39m results2\n",
      "\u001b[1;31mNameError\u001b[0m: name 'results2' is not defined"
     ]
    }
   ],
   "source": [
    "\n",
    "y,t = results2"
   ]
  },
  {
   "cell_type": "code",
   "execution_count": 18,
   "id": "27ba29de-d899-4ebf-8874-02558697fab7",
   "metadata": {
    "tags": []
   },
   "outputs": [
    {
     "data": {
      "text/html": [
       "<div>\n",
       "<style scoped>\n",
       "    .dataframe tbody tr th:only-of-type {\n",
       "        vertical-align: middle;\n",
       "    }\n",
       "\n",
       "    .dataframe tbody tr th {\n",
       "        vertical-align: top;\n",
       "    }\n",
       "\n",
       "    .dataframe thead th {\n",
       "        text-align: right;\n",
       "    }\n",
       "</style>\n",
       "<table border=\"1\" class=\"dataframe\">\n",
       "  <thead>\n",
       "    <tr style=\"text-align: right;\">\n",
       "      <th></th>\n",
       "      <th>0_RfR 0</th>\n",
       "      <th>0_RfR 1</th>\n",
       "      <th>0_RfR 2</th>\n",
       "      <th>1_RfR 0</th>\n",
       "      <th>1_RfR 1</th>\n",
       "      <th>1_RfR 2</th>\n",
       "      <th>2_RfR 0</th>\n",
       "      <th>2_RfR 1</th>\n",
       "      <th>2_RfR 2</th>\n",
       "      <th>3_RfR 0</th>\n",
       "      <th>...</th>\n",
       "      <th>A.4_DikeIncrease 1</th>\n",
       "      <th>A.4_DikeIncrease 2</th>\n",
       "      <th>A.5_DikeIncrease 0</th>\n",
       "      <th>A.5_DikeIncrease 1</th>\n",
       "      <th>A.5_DikeIncrease 2</th>\n",
       "      <th>Expected Annual Damage A4</th>\n",
       "      <th>Expected Annual Damage A5</th>\n",
       "      <th>Expected Number of Deaths in A4</th>\n",
       "      <th>Expected Number of Deaths in A5</th>\n",
       "      <th>Total Costs</th>\n",
       "    </tr>\n",
       "  </thead>\n",
       "  <tbody>\n",
       "    <tr>\n",
       "      <th>0</th>\n",
       "      <td>0</td>\n",
       "      <td>0</td>\n",
       "      <td>0</td>\n",
       "      <td>0</td>\n",
       "      <td>0</td>\n",
       "      <td>0</td>\n",
       "      <td>0</td>\n",
       "      <td>0</td>\n",
       "      <td>0</td>\n",
       "      <td>0</td>\n",
       "      <td>...</td>\n",
       "      <td>0</td>\n",
       "      <td>0</td>\n",
       "      <td>1</td>\n",
       "      <td>0</td>\n",
       "      <td>0</td>\n",
       "      <td>0.000000e+00</td>\n",
       "      <td>0.000000e+00</td>\n",
       "      <td>0.000000</td>\n",
       "      <td>0.000000</td>\n",
       "      <td>1.448132e+08</td>\n",
       "    </tr>\n",
       "    <tr>\n",
       "      <th>1</th>\n",
       "      <td>0</td>\n",
       "      <td>0</td>\n",
       "      <td>0</td>\n",
       "      <td>0</td>\n",
       "      <td>0</td>\n",
       "      <td>0</td>\n",
       "      <td>0</td>\n",
       "      <td>0</td>\n",
       "      <td>0</td>\n",
       "      <td>0</td>\n",
       "      <td>...</td>\n",
       "      <td>0</td>\n",
       "      <td>0</td>\n",
       "      <td>0</td>\n",
       "      <td>0</td>\n",
       "      <td>0</td>\n",
       "      <td>0.000000e+00</td>\n",
       "      <td>1.314588e+07</td>\n",
       "      <td>0.000000</td>\n",
       "      <td>0.005199</td>\n",
       "      <td>1.329241e+08</td>\n",
       "    </tr>\n",
       "    <tr>\n",
       "      <th>2</th>\n",
       "      <td>0</td>\n",
       "      <td>0</td>\n",
       "      <td>0</td>\n",
       "      <td>0</td>\n",
       "      <td>0</td>\n",
       "      <td>0</td>\n",
       "      <td>0</td>\n",
       "      <td>0</td>\n",
       "      <td>0</td>\n",
       "      <td>0</td>\n",
       "      <td>...</td>\n",
       "      <td>0</td>\n",
       "      <td>0</td>\n",
       "      <td>0</td>\n",
       "      <td>0</td>\n",
       "      <td>0</td>\n",
       "      <td>0.000000e+00</td>\n",
       "      <td>1.314588e+07</td>\n",
       "      <td>0.000000</td>\n",
       "      <td>0.014442</td>\n",
       "      <td>1.329219e+08</td>\n",
       "    </tr>\n",
       "    <tr>\n",
       "      <th>3</th>\n",
       "      <td>0</td>\n",
       "      <td>0</td>\n",
       "      <td>0</td>\n",
       "      <td>0</td>\n",
       "      <td>0</td>\n",
       "      <td>0</td>\n",
       "      <td>0</td>\n",
       "      <td>0</td>\n",
       "      <td>0</td>\n",
       "      <td>0</td>\n",
       "      <td>...</td>\n",
       "      <td>0</td>\n",
       "      <td>0</td>\n",
       "      <td>0</td>\n",
       "      <td>0</td>\n",
       "      <td>0</td>\n",
       "      <td>4.739687e+06</td>\n",
       "      <td>1.314588e+07</td>\n",
       "      <td>0.002763</td>\n",
       "      <td>0.014442</td>\n",
       "      <td>1.313407e+08</td>\n",
       "    </tr>\n",
       "    <tr>\n",
       "      <th>4</th>\n",
       "      <td>0</td>\n",
       "      <td>0</td>\n",
       "      <td>0</td>\n",
       "      <td>0</td>\n",
       "      <td>0</td>\n",
       "      <td>0</td>\n",
       "      <td>0</td>\n",
       "      <td>0</td>\n",
       "      <td>0</td>\n",
       "      <td>0</td>\n",
       "      <td>...</td>\n",
       "      <td>0</td>\n",
       "      <td>0</td>\n",
       "      <td>1</td>\n",
       "      <td>0</td>\n",
       "      <td>0</td>\n",
       "      <td>4.739687e+06</td>\n",
       "      <td>0.000000e+00</td>\n",
       "      <td>0.002763</td>\n",
       "      <td>0.000000</td>\n",
       "      <td>1.432321e+08</td>\n",
       "    </tr>\n",
       "    <tr>\n",
       "      <th>5</th>\n",
       "      <td>0</td>\n",
       "      <td>0</td>\n",
       "      <td>0</td>\n",
       "      <td>0</td>\n",
       "      <td>0</td>\n",
       "      <td>0</td>\n",
       "      <td>0</td>\n",
       "      <td>0</td>\n",
       "      <td>0</td>\n",
       "      <td>0</td>\n",
       "      <td>...</td>\n",
       "      <td>0</td>\n",
       "      <td>0</td>\n",
       "      <td>0</td>\n",
       "      <td>0</td>\n",
       "      <td>0</td>\n",
       "      <td>4.739687e+06</td>\n",
       "      <td>1.314588e+07</td>\n",
       "      <td>0.000995</td>\n",
       "      <td>0.005199</td>\n",
       "      <td>1.313432e+08</td>\n",
       "    </tr>\n",
       "  </tbody>\n",
       "</table>\n",
       "<p>6 rows × 36 columns</p>\n",
       "</div>"
      ],
      "text/plain": [
       "   0_RfR 0  0_RfR 1  0_RfR 2  1_RfR 0  1_RfR 1  1_RfR 2  2_RfR 0  2_RfR 1  \\\n",
       "0        0        0        0        0        0        0        0        0   \n",
       "1        0        0        0        0        0        0        0        0   \n",
       "2        0        0        0        0        0        0        0        0   \n",
       "3        0        0        0        0        0        0        0        0   \n",
       "4        0        0        0        0        0        0        0        0   \n",
       "5        0        0        0        0        0        0        0        0   \n",
       "\n",
       "   2_RfR 2  3_RfR 0  ...  A.4_DikeIncrease 1  A.4_DikeIncrease 2  \\\n",
       "0        0        0  ...                   0                   0   \n",
       "1        0        0  ...                   0                   0   \n",
       "2        0        0  ...                   0                   0   \n",
       "3        0        0  ...                   0                   0   \n",
       "4        0        0  ...                   0                   0   \n",
       "5        0        0  ...                   0                   0   \n",
       "\n",
       "   A.5_DikeIncrease 0  A.5_DikeIncrease 1  A.5_DikeIncrease 2  \\\n",
       "0                   1                   0                   0   \n",
       "1                   0                   0                   0   \n",
       "2                   0                   0                   0   \n",
       "3                   0                   0                   0   \n",
       "4                   1                   0                   0   \n",
       "5                   0                   0                   0   \n",
       "\n",
       "   Expected Annual Damage A4  Expected Annual Damage A5  \\\n",
       "0               0.000000e+00               0.000000e+00   \n",
       "1               0.000000e+00               1.314588e+07   \n",
       "2               0.000000e+00               1.314588e+07   \n",
       "3               4.739687e+06               1.314588e+07   \n",
       "4               4.739687e+06               0.000000e+00   \n",
       "5               4.739687e+06               1.314588e+07   \n",
       "\n",
       "   Expected Number of Deaths in A4  Expected Number of Deaths in A5  \\\n",
       "0                         0.000000                         0.000000   \n",
       "1                         0.000000                         0.005199   \n",
       "2                         0.000000                         0.014442   \n",
       "3                         0.002763                         0.014442   \n",
       "4                         0.002763                         0.000000   \n",
       "5                         0.000995                         0.005199   \n",
       "\n",
       "    Total Costs  \n",
       "0  1.448132e+08  \n",
       "1  1.329241e+08  \n",
       "2  1.329219e+08  \n",
       "3  1.313407e+08  \n",
       "4  1.432321e+08  \n",
       "5  1.313432e+08  \n",
       "\n",
       "[6 rows x 36 columns]"
      ]
     },
     "execution_count": 18,
     "metadata": {},
     "output_type": "execute_result"
    }
   ],
   "source": [
    "y"
   ]
  },
  {
   "cell_type": "code",
   "execution_count": 17,
   "id": "68b4f600-46c4-472f-8dfe-ad6b09967ac4",
   "metadata": {
    "tags": []
   },
   "outputs": [
    {
     "ename": "NameError",
     "evalue": "name 'y' is not defined",
     "output_type": "error",
     "traceback": [
      "\u001b[1;31m---------------------------------------------------------------------------\u001b[0m",
      "\u001b[1;31mNameError\u001b[0m                                 Traceback (most recent call last)",
      "Cell \u001b[1;32mIn[17], line 1\u001b[0m\n\u001b[1;32m----> 1\u001b[0m y\u001b[38;5;241m.\u001b[39mto_csv(\u001b[38;5;124m'\u001b[39m\u001b[38;5;124mMODRM_DF.csv\u001b[39m\u001b[38;5;124m'\u001b[39m)\n",
      "\u001b[1;31mNameError\u001b[0m: name 'y' is not defined"
     ]
    }
   ],
   "source": [
    "y.to_csv('MODRM_DF.csv')"
   ]
  },
  {
   "cell_type": "markdown",
   "id": "b8152c46-e1d4-4eac-84be-cb06bdeb7e22",
   "metadata": {},
   "source": [
    "### Worst Case"
   ]
  },
  {
   "cell_type": "code",
   "execution_count": 18,
   "id": "a02d93cb-e5c4-4858-a172-1262f4a5eea3",
   "metadata": {
    "tags": []
   },
   "outputs": [],
   "source": [
    "# Worst case specification\n",
    "worstcase_values ={\n",
    "    \"Bmax\": 175,\n",
    "    \"Brate\": 1.5,\n",
    "    \"pfail\": 0.9,\n",
    "    \"ID flood wave shape\": 4,\n",
    "    \"planning steps\": 2,\n",
    "}\n",
    "worstcase_values.update({f\"discount rate {n}\": 3.5 for n in planning_steps})\n",
    "\n",
    "worstcase_scen = {}\n",
    "\n",
    "for key in dike_model.uncertainties:\n",
    "    name_split = key.name.split('_')\n",
    "    if len(name_split) == 1:\n",
    "\n",
    "        worstcase_scen.update({key.name: worstcase_values[key.name]})\n",
    "    else:\n",
    "        worstcase_scen.update({key.name: worstcase_values[name_split[1]]})\n",
    "            \n",
    "worst_scenario = Scenario('reference', **worstcase_scen)"
   ]
  },
  {
   "cell_type": "code",
   "execution_count": 21,
   "id": "3eee8846-13bc-45bf-8f70-0afd4d6a12db",
   "metadata": {
    "tags": []
   },
   "outputs": [
    {
     "name": "stderr",
     "output_type": "stream",
     "text": [
      "[MainProcess/INFO] pool started with 3 workers\n",
      "\n",
      "  0%|                                                 | 0/4000 [00:00<?, ?it/s]\u001b[A\n",
      "  0%|                                                 | 0/4000 [00:00<?, ?it/s]\u001b[A\n",
      "  2%|▉                                      | 100/4000 [01:01<39:41,  1.64it/s]\u001b[A\n",
      "  5%|█▉                                     | 200/4000 [02:01<38:14,  1.66it/s]\u001b[A\n",
      "  8%|██▉                                    | 300/4000 [03:00<37:01,  1.67it/s]\u001b[A\n",
      " 10%|███▉                                   | 400/4000 [03:51<33:55,  1.77it/s]\u001b[A\n",
      " 12%|████▉                                  | 500/4000 [04:34<30:09,  1.93it/s]\u001b[A\n",
      " 15%|█████▊                                 | 600/4000 [05:16<27:20,  2.07it/s]\u001b[A\n",
      " 18%|██████▊                                | 700/4000 [05:54<24:38,  2.23it/s]\u001b[A\n",
      " 20%|███████▊                               | 800/4000 [07:06<28:35,  1.87it/s]\u001b[A\n",
      " 22%|████████▊                              | 900/4000 [07:58<27:19,  1.89it/s]\u001b[A\n",
      " 25%|█████████▌                            | 1000/4000 [08:46<25:45,  1.94it/s]\u001b[A\n",
      " 28%|██████████▍                           | 1100/4000 [09:33<24:16,  1.99it/s]\u001b[A\n",
      " 30%|███████████▍                          | 1200/4000 [10:16<22:22,  2.09it/s]\u001b[A\n",
      " 32%|████████████▎                         | 1300/4000 [11:01<21:10,  2.13it/s]\u001b[A\n",
      " 35%|█████████████▎                        | 1399/4000 [11:43<19:45,  2.19it/s]\u001b[A\n",
      " 37%|██████████████▏                       | 1499/4000 [12:30<19:12,  2.17it/s]\u001b[A\n",
      " 40%|███████████████▏                      | 1599/4000 [13:18<18:39,  2.15it/s]\u001b[A\n",
      " 42%|████████████████▏                     | 1699/4000 [14:28<20:39,  1.86it/s]\u001b[A\n",
      " 45%|█████████████████                     | 1799/4000 [15:23<19:52,  1.85it/s]\u001b[A\n",
      " 47%|██████████████████                    | 1898/4000 [16:25<19:50,  1.77it/s]\u001b[A\n",
      " 50%|██████████████████▉                   | 1998/4000 [17:27<19:26,  1.72it/s]\u001b[A\n",
      " 52%|███████████████████▉                  | 2098/4000 [18:11<17:05,  1.85it/s]\u001b[A\n",
      " 55%|████████████████████▉                 | 2198/4000 [19:16<17:08,  1.75it/s]\u001b[A\n",
      " 57%|█████████████████████▊                | 2298/4000 [20:09<15:54,  1.78it/s]\u001b[A\n",
      " 65%|███████████████████████▌            | 3267/5000 [1:02:42<33:15,  1.15s/it]\u001b[A\n",
      "\n",
      " 62%|███████████████████████▋              | 2495/4000 [22:13<14:56,  1.68it/s]\u001b[A\n",
      " 65%|████████████████████████▋             | 2593/4000 [23:21<14:42,  1.59it/s]\u001b[A\n",
      " 67%|█████████████████████████▌            | 2691/4000 [24:04<12:25,  1.76it/s]\u001b[A\n",
      " 70%|██████████████████████████▍           | 2789/4000 [24:41<10:21,  1.95it/s]\u001b[A\n",
      " 72%|███████████████████████████▍          | 2886/4000 [25:15<08:35,  2.16it/s]\u001b[A\n",
      " 75%|████████████████████████████▎         | 2985/4000 [25:50<07:18,  2.32it/s]\u001b[A\n",
      " 77%|█████████████████████████████▎        | 3084/4000 [26:26<06:16,  2.43it/s]\u001b[A\n",
      " 80%|██████████████████████████████▏       | 3183/4000 [27:04<05:28,  2.49it/s]\u001b[A\n",
      " 82%|███████████████████████████████▏      | 3281/4000 [27:46<04:55,  2.44it/s]\u001b[A\n",
      " 84%|████████████████████████████████      | 3380/4000 [28:29<04:19,  2.39it/s]\u001b[A\n",
      " 87%|█████████████████████████████████     | 3478/4000 [29:08<03:35,  2.42it/s]\u001b[A\n",
      " 89%|█████████████████████████████████▉    | 3573/4000 [29:49<02:57,  2.41it/s]\u001b[A\n",
      " 92%|██████████████████████████████████▊   | 3671/4000 [30:27<02:14,  2.45it/s]\u001b[A\n",
      " 94%|███████████████████████████████████▋  | 3759/4000 [31:09<01:43,  2.34it/s]\u001b[A\n",
      " 96%|████████████████████████████████████▌ | 3851/4000 [31:46<01:02,  2.38it/s]\u001b[A\n",
      " 99%|█████████████████████████████████████▍| 3944/4000 [32:23<00:23,  2.41it/s]\u001b[A\n",
      "4033it [33:11,  2.03it/s]                                                      \u001b[A\n",
      "[MainProcess/INFO] optimization completed, found 4 solutions\n",
      "[MainProcess/INFO] terminating pool\n"
     ]
    }
   ],
   "source": [
    "#convergence_metrics = {EpsilonProgress()}\n",
    "\n",
    "#with MultiprocessingEvaluator(model,n_processes=-1) as evaluator:\n",
    "  #  results3 = evaluator.optimize(nfe=4000, searchover='levers',\n",
    "     #                            convergence=convergence_metrics,\n",
    "      #                           epsilons=[0.01]*len(model.outcomes), reference=worst_scenario)\n",
    "\n",
    "#save_results(results2, 'Experiments/Week23_MORDM_Reference_1000_PD6.tar.gz')\n"
   ]
  },
  {
   "cell_type": "code",
   "execution_count": 22,
   "id": "06a1dbe0-c5bd-451b-86d5-e0c2b68074e8",
   "metadata": {
    "tags": []
   },
   "outputs": [],
   "source": [
    "worst_case, ui = results3"
   ]
  },
  {
   "cell_type": "code",
   "execution_count": 23,
   "id": "9392a969-675b-4798-aaae-2c20e9dabdf8",
   "metadata": {
    "tags": []
   },
   "outputs": [],
   "source": [
    "worst_case.to_csv('MODRM_WC.csv')"
   ]
  },
  {
   "cell_type": "code",
   "execution_count": 21,
   "id": "92d586f5-b3bd-4634-93ae-21f2f2264e9e",
   "metadata": {
    "tags": []
   },
   "outputs": [],
   "source": [
    "import_worst_case = pd.read_csv('MODRM_WC.csv')"
   ]
  },
  {
   "cell_type": "code",
   "execution_count": 22,
   "id": "7ac27e4f-3a71-4f33-aba7-bfe8c980bf6b",
   "metadata": {
    "tags": []
   },
   "outputs": [],
   "source": [
    "# Selecting the policies that are proposed as solutions for further robustness tests\n",
    "from ema_workbench import Policy\n",
    "\n",
    "worstcase_policies_to_evaluate = []\n",
    "\n",
    "for i, policy in import_worst_case.iterrows():\n",
    "    worstcase_policies_to_evaluate.append(Policy(str(i), **policy.to_dict()))"
   ]
  },
  {
   "cell_type": "code",
   "execution_count": 23,
   "id": "3065333a-f7f9-4489-8910-65ce256bec4a",
   "metadata": {
    "tags": []
   },
   "outputs": [
    {
     "name": "stderr",
     "output_type": "stream",
     "text": [
      "[MainProcess/INFO] pool started with 4 workers\n",
      "[MainProcess/INFO] performing 2000 scenarios * 4 policies * 1 model(s) = 8000 experiments\n",
      "100%|██████████████████████████████████████| 8000/8000 [46:07<00:00,  2.89it/s]\n",
      "[MainProcess/INFO] experiments finished\n",
      "[MainProcess/INFO] terminating pool\n"
     ]
    }
   ],
   "source": [
    "n_scenarios = 2000\n",
    "with MultiprocessingEvaluator(model) as evaluator:\n",
    "    worst_results = evaluator.perform_experiments(n_scenarios,\n",
    "                                            worstcase_policies_to_evaluate)"
   ]
  },
  {
   "cell_type": "code",
   "execution_count": 24,
   "id": "238143e8-e9fe-4eb2-a9f4-6c6352a31829",
   "metadata": {
    "tags": []
   },
   "outputs": [
    {
     "name": "stderr",
     "output_type": "stream",
     "text": [
      "[MainProcess/INFO] results saved successfully to C:\\Users\\Gebruiker\\OneDrive - Delft University of Technology\\EPA\\Q4 Model based decision making\\epa141A_open\\final assignment\\Week23_worst_case_2000_4.tar.gz\n"
     ]
    }
   ],
   "source": [
    "save_results(worst_results, 'Week23_worst_case_2000_4.tar.gz')"
   ]
  },
  {
   "cell_type": "markdown",
   "id": "dccaaf26-6045-404a-bcf5-2de52622cca5",
   "metadata": {},
   "source": [
    "### reference case"
   ]
  },
  {
   "cell_type": "code",
   "execution_count": 25,
   "id": "79f610a9-0759-4267-988f-6b6efcd7f219",
   "metadata": {
    "tags": []
   },
   "outputs": [],
   "source": [
    "reference_case_re = pd.read_csv('MODRM_DF.csv')"
   ]
  },
  {
   "cell_type": "code",
   "execution_count": 26,
   "id": "cc27b2e1-3694-4e30-8a98-f5be13968a7b",
   "metadata": {
    "tags": []
   },
   "outputs": [],
   "source": [
    "# Selecting the policies that are proposed as solutions for further robustness tests\n",
    "from ema_workbench import Policy\n",
    "\n",
    "refercase_policies_to_evaluate = []\n",
    "\n",
    "for i, policy in reference_case_re.iterrows():\n",
    "    refercase_policies_to_evaluate.append(Policy(str(i), **policy.to_dict()))"
   ]
  },
  {
   "cell_type": "code",
   "execution_count": 27,
   "id": "2c5d3fdb-a091-40c8-9fb1-57027005e6e6",
   "metadata": {
    "tags": []
   },
   "outputs": [
    {
     "name": "stderr",
     "output_type": "stream",
     "text": [
      "[MainProcess/INFO] pool started with 4 workers\n",
      "[MainProcess/INFO] performing 2000 scenarios * 6 policies * 1 model(s) = 12000 experiments\n",
      "100%|██████████████████████████████████| 12000/12000 [1:32:16<00:00,  2.17it/s]\n",
      "[MainProcess/INFO] experiments finished\n",
      "[MainProcess/INFO] terminating pool\n"
     ]
    }
   ],
   "source": [
    "n_scenarios = 2000\n",
    "with MultiprocessingEvaluator(model) as evaluator:\n",
    "    reference_policies_results = evaluator.perform_experiments(n_scenarios,\n",
    "                                            refercase_policies_to_evaluate)"
   ]
  },
  {
   "cell_type": "code",
   "execution_count": null,
   "id": "fd8b8755-6ff4-4cfc-bb55-b39b518f2efe",
   "metadata": {},
   "outputs": [],
   "source": []
  }
 ],
 "metadata": {
  "kernelspec": {
   "display_name": "Python 3 (ipykernel)",
   "language": "python",
   "name": "python3"
  },
  "language_info": {
   "codemirror_mode": {
    "name": "ipython",
    "version": 3
   },
   "file_extension": ".py",
   "mimetype": "text/x-python",
   "name": "python",
   "nbconvert_exporter": "python",
   "pygments_lexer": "ipython3",
   "version": "3.11.4"
  }
 },
 "nbformat": 4,
 "nbformat_minor": 5
}
