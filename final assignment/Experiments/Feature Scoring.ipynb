{
 "cells": [
  {
   "cell_type": "code",
   "id": "initial_id",
   "metadata": {
    "collapsed": true,
    "ExecuteTime": {
     "end_time": "2024-05-30T13:22:11.198569Z",
     "start_time": "2024-05-30T13:22:11.187141Z"
    }
   },
   "source": [
    "import numpy as np\n",
    "import scipy as sp\n",
    "import pandas as pd\n",
    "import matplotlib.pyplot as plt\n",
    "import ema_workbench\n",
    "import seaborn as sns"
   ],
   "outputs": [],
   "execution_count": 2
  },
  {
   "metadata": {
    "ExecuteTime": {
     "end_time": "2024-05-30T13:22:12.039300Z",
     "start_time": "2024-05-30T13:22:11.940921Z"
    }
   },
   "cell_type": "code",
   "source": [
    "from ema_workbench import load_results\n",
    "\n",
    "experiments, outcomes = load_results ('Week22_Open_exploration_PD5_100_25.gz')"
   ],
   "id": "94b0f4b716e9a567",
   "outputs": [],
   "execution_count": 3
  },
  {
   "metadata": {
    "ExecuteTime": {
     "end_time": "2024-05-30T13:22:26.916312Z",
     "start_time": "2024-05-30T13:22:21.485808Z"
    }
   },
   "cell_type": "code",
   "source": [
    "from ema_workbench.analysis import feature_scoring\n",
    "\n",
    "x = experiments\n",
    "y = outcomes\n",
    "\n",
    "fs= feature_scoring.get_feature_scores(x,y)\n",
    "\n",
    "fig, ax = plt.subplots(figsize=(15,15))\n",
    "sns.heatmap(fs, cmap='viridis', annot=True)\n",
    "\n",
    "plt.show()"
   ],
   "id": "130bcb7ce3969529",
   "outputs": [
    {
     "ename": "AttributeError",
     "evalue": "module 'ema_workbench.analysis.feature_scoring' has no attribute 'get_feature_scores'",
     "output_type": "error",
     "traceback": [
      "\u001B[1;31m---------------------------------------------------------------------------\u001B[0m",
      "\u001B[1;31mAttributeError\u001B[0m                            Traceback (most recent call last)",
      "Cell \u001B[1;32mIn[5], line 6\u001B[0m\n\u001B[0;32m      3\u001B[0m x \u001B[38;5;241m=\u001B[39m experiments\n\u001B[0;32m      4\u001B[0m y \u001B[38;5;241m=\u001B[39m outcomes\n\u001B[1;32m----> 6\u001B[0m fs\u001B[38;5;241m=\u001B[39m feature_scoring\u001B[38;5;241m.\u001B[39mget_feature_scores(x,y)\n\u001B[0;32m      8\u001B[0m fig, ax \u001B[38;5;241m=\u001B[39m plt\u001B[38;5;241m.\u001B[39msubplots(figsize\u001B[38;5;241m=\u001B[39m(\u001B[38;5;241m15\u001B[39m,\u001B[38;5;241m15\u001B[39m))\n\u001B[0;32m      9\u001B[0m sns\u001B[38;5;241m.\u001B[39mheatmap(fs, cmap\u001B[38;5;241m=\u001B[39m\u001B[38;5;124m'\u001B[39m\u001B[38;5;124mviridis\u001B[39m\u001B[38;5;124m'\u001B[39m, annot\u001B[38;5;241m=\u001B[39m\u001B[38;5;28;01mTrue\u001B[39;00m)\n",
      "\u001B[1;31mAttributeError\u001B[0m: module 'ema_workbench.analysis.feature_scoring' has no attribute 'get_feature_scores'"
     ]
    }
   ],
   "execution_count": 5
  },
  {
   "metadata": {},
   "cell_type": "code",
   "outputs": [],
   "execution_count": null,
   "source": "",
   "id": "6f0509059b721988"
  }
 ],
 "metadata": {
  "kernelspec": {
   "display_name": "Python 3",
   "language": "python",
   "name": "python3"
  },
  "language_info": {
   "codemirror_mode": {
    "name": "ipython",
    "version": 2
   },
   "file_extension": ".py",
   "mimetype": "text/x-python",
   "name": "python",
   "nbconvert_exporter": "python",
   "pygments_lexer": "ipython2",
   "version": "2.7.6"
  }
 },
 "nbformat": 4,
 "nbformat_minor": 5
}
