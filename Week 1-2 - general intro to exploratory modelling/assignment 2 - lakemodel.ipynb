{
 "cells": [
  {
   "cell_type": "markdown",
   "source": [
    "## 2. Lake model: Exploring the behavior of a decision-making system\n",
    "\n",
    "Explore the lake problem, connect it to the workbench, investigate system behavior, analyze trade-offs, and learn about parallelization.\n",
    "\n",
    "See also [this general introduction to the workbench](https://waterprogramming.wordpress.com/2017/11/01/using-the-exploratory-modelling-workbench/) as a source of inspiration for completing the assignment below\n",
    "\n",
    "### Overview of this notebook\n",
    "- Learn about the Lake Problem, a decision-making example about pollution management\n",
    "  - Connect the Python implementation of the lake model to the EMA workbench\n",
    "  - Define and explore uncertainties and decision levers in the model\n",
    "- Investigate the behavior of the system under various scenarios and policies\n",
    "  - Visualize and analyze trade-offs between outcomes\n",
    "- Experiment with parallelization techniques to improve computational efficiency"
   ],
   "metadata": {
    "collapsed": false
   }
  },
  {
   "cell_type": "markdown",
   "metadata": {},
   "source": [
    "### The Lake model\n",
    "The exploratory modeling workbench includes an [examples folder](https://github.com/quaquel/EMAworkbench/tree/master/ema_workbench/examples). This folder contains a variety of examples that demonstrate the functionality of the workbench. Many of these examples have been drawn from published cases. Here, we use the Lake Problem as an example for demonstrating some of the key functionality of the workbench.\n",
    "\n",
    "We demonstrate some of the key capabilities of the exploratory modeling workbench using the Lake problem. The lake problem is a stylized and hypothetical decision problem where the population of a city has to decide on the amount of annual pollution it will put into a lake. It the pollution in the lake passes a threshold, it will suffer irreversible eutrophication (nutrient overenrichment).\n",
    "\n",
    "#### Model\n",
    "This can be modeled as a system of ordinary differential equations (ODEs) as follows:\n",
    "\n",
    "\\begin{equation}\n",
    "    X_{(t+1)}=X_t+a_t+\\frac{(X_t^q)}{(1+X_t^q )}- bX_t+\\epsilon_t\n",
    "\\end{equation}\n",
    "\n",
    "where\n",
    " - $X_t$ is the pollution at time $t$\n",
    " - $a_t$ is the rate of anthropogenic pollution at time $t$\n",
    " - $b$ is the lake’s natural removal rate\n",
    " - $q$ is the lake's natural recycling rate\n",
    " - $\\epsilon_t$ is the rate of natural pollution at time $t$.\n",
    "\n",
    "The rate of anthropogenic pollution $a_t$ is the decision variable and is somewhere between 0, and 0.1. So $a_t \\in [0,0.1]$. The natural pollution $\\epsilon_t$ is modeled, following Singh et al. (2015), as a log normal distribution with mean $\\mu$ and standard deviation $\\sigma$.\n",
    "\n",
    "\n",
    "#### Outcomes\n",
    "There are four outcomes of interest.\n",
    " 1. The first is the average concentration of phosphor in the lake.\n",
    "\n",
    "\\begin{equation}\n",
    "    f_{phosphorus}=  \\frac{1}{\\left\\vert{T}\\right\\vert} \\sum\\limits_{t\\in{T}} X_t \n",
    "\\end{equation}\n",
    "\n",
    "   where $\\left\\vert{T}\\right\\vert$ is the cardinality of the set of points in time.\n",
    "\n",
    " 2. The second objective is the economic benefit derived from polluting the lake. Following Singh et al. (2015), this is defined as the discounted benefit of pollution mines the costs of having a polluted lake\n",
    "\n",
    "\\begin{equation}\n",
    "    f_{economic} = \\sum\\limits_{t \\in {T}}\\alpha a_t \\delta^t \n",
    "\\end{equation}\n",
    "\n",
    "   where $\\alpha$ is the utility derived from polluting and $\\delta$ is the discount rate. By default, $\\alpha$ is 0.04.\n",
    "\n",
    "  3. The third objective is related to the year-over-year change in the anthropogenic pollution rate.\n",
    "\n",
    "\\begin{equation}\n",
    "    f_{inertia} =\\frac{1}{\\left\\vert{T}\\right\\vert-1} \\sum\\limits_{t=1}^{\\left\\vert{T}\\right\\vert} I(|a_{t}-a_{t-1} |>\\tau)   \n",
    "\\end{equation}\n",
    "\n",
    "   where $I$ is an indicator function that is 0 if the statement is false, and 1 if the statement is true, $\\tau$ is the threshold that is deemed undesirable, and is for illustrative purposes et to 0.2. Effectively, f_{inertia} is the fraction of years when the absolute value of the change in anthropogenic pollution is larger then $\\tau$.\n",
    "\n",
    " 4. The fourth objective is the fraction of years when the pollution in the lake is below the critical threshold.\n",
    "\n",
    "\\begin{equation}\n",
    "    f_{reliability} =  \\frac{1}{\\left\\vert{T}\\right\\vert} \\sum\\limits_{t \\in T}I(X_{t}<X_{crit} ) \n",
    "\\end{equation}\n",
    "\n",
    "   where $I$ is an indicator function that is 0 if the statement is false, and 1 if the statement is true, $X_{crit}$ is the critical threshold of pollution and is a function of both $b$ and $q$.\n",
    "\n",
    "#### Uncertainty\n",
    "The lake problem is characterized by both stochastic uncertainty and deep uncertainty.\n",
    " - The stochastic uncertainty arises from the natural inflow. To reduce this stochastic uncertainty, multiple replications are performed and the average over the replications is taken.\n",
    " - Deep uncertainty is presented by uncertainty about the mean $\\mu$ and standard deviation $\\sigma$ of the lognormal distribution characterizing the natural inflow, the natural removal rate of the lake $\\beta$, the natural recycling rate of the lake $q$, and the discount rate $\\delta$. The table below specifies the ranges for the deeply uncertain factors, as well as their best estimate or default values."
   ]
  },
  {
   "cell_type": "markdown",
   "source": [
    "### Assignment\n",
    "_If you at any moment get stuck on this assignment, the [General Introduction](https://emaworkbench.readthedocs.io/en/latest/indepth_tutorial/general-introduction.html) of the EMAworkbench is a good source of inspiration._\n",
    "\n",
    "1. Given the Python implementation of the lake problem in [`lakemodel_function.py`](lakemodel_function.py), adapt this code and connect it to the workbench.\n",
    "\n",
    "For the uncertainties, use the following table\n",
    "\n",
    "|Parameter\t|Range\t        |Default value|\n",
    "|-----------|--------------:|------------:|\n",
    "|$\\mu$    \t|0.01 – 0.05\t|0.02         |\n",
    "|$\\sigma$\t|0.001 – 0.005 \t|0.0017       |\n",
    "|$b$      \t|0.1 – 0.45\t    |0.42         |\n",
    "|$q$\t    |2 – 4.5\t    |2            |\n",
    "|$\\delta$\t|0.93 – 0.99\t|0.98         |\n",
    "\n",
    "For now, assume that for each year a release decision is made. The release is between 0 and 0.1. Carefully look at line 24 in `lakemodel_function.py` to identify the name to use for each lever."
   ],
   "metadata": {
    "collapsed": false
   }
  },
  {
   "cell_type": "code",
   "metadata": {
    "ExecuteTime": {
     "end_time": "2024-05-06T13:08:56.842071Z",
     "start_time": "2024-05-06T13:08:50.199701Z"
    }
   },
   "source": [
    "from lakemodel_function import lake_problem\n",
    "from ema_workbench import Model, RealParameter, ScalarOutcome\n",
    "\n",
    "# Instantiate the model\n",
    "\n",
    "model = Model('lake', function=lake_problem)\n",
    "# Specify uncertainties\n",
    "model.uncertainties = [RealParameter('mean', 0.01, 0.05),\n",
    "                       RealParameter('stdev', 0.001, 0.005),\n",
    "                       RealParameter('b', 0.1, 0.45),\n",
    "                       RealParameter('delta', 0.93, 0.99),\n",
    "                       RealParameter('q', 2.0, 4.5)\n",
    "                       ]\n",
    "\n",
    "# Set levers, one for each time step\n",
    "decisions  = ['l{i}' for i in range(100)]\n",
    "for i in decisions:\n",
    "    model.levers = [\n",
    "        RealParameter(i, 0, 0.1)\n",
    "        ]\n",
    "\n",
    "# Specify outcomes\n",
    "model.outcomes = [ScalarOutcome('max_P'),\n",
    "                  ScalarOutcome('utility'),\n",
    "                  ScalarOutcome('inertia'),\n",
    "                  ScalarOutcome('reliability')\n",
    "                  ]\n",
    "\n"
   ],
   "outputs": [],
   "execution_count": 1
  },
  {
   "cell_type": "markdown",
   "metadata": {},
   "source": [
    "2. Explore the behavior of the system in the absence of any release using 1000 scenarios, and the default sampling approach.\n",
    "    * visualize the outcomes of interest, are there any apparent trade-offs?\n",
    "    * can you visually identify the uncertainties that drive system behavior?\n"
   ]
  },
  {
   "cell_type": "code",
   "metadata": {
    "ExecuteTime": {
     "end_time": "2024-05-06T13:09:09.369882Z",
     "start_time": "2024-05-06T13:08:56.850507Z"
    }
   },
   "source": [
    "# Hint: A great moment to take another look at the examples!\n",
    "from ema_workbench import SequentialEvaluator\n",
    "\n",
    "with SequentialEvaluator(model) as evaluator:\n",
    "    experiments, outcomes = evaluator.perform_experiments(scenarios=1000)\n"
   ],
   "outputs": [
    {
     "name": "stderr",
     "output_type": "stream",
     "text": [
      "100%|██████████████████████████████████████| 1000/1000 [00:12<00:00, 80.94it/s]\n"
     ]
    }
   ],
   "execution_count": 2
  },
  {
   "cell_type": "markdown",
   "metadata": {},
   "source": [
    "3. Explore the behavior of the system over 1000 scenarios for 4 randomly sampled candidate strategies.\n",
    "    * visualize the outcomes of interest\n",
    "    * what can you say about how the release decision influences the system?"
   ]
  },
  {
   "cell_type": "code",
   "metadata": {
    "ExecuteTime": {
     "end_time": "2024-05-06T13:09:09.490794Z",
     "start_time": "2024-05-06T13:09:09.377836Z"
    }
   },
   "source": "experiments",
   "outputs": [
    {
     "data": {
      "text/plain": [
       "            b     delta      mean         q     stdev scenario policy model\n",
       "0    0.313976  0.971584  0.011728  2.809143  0.002141        0   None  lake\n",
       "1    0.179775  0.942733  0.048939  3.918820  0.002972        1   None  lake\n",
       "2    0.269375  0.951854  0.028855  4.365601  0.004556        2   None  lake\n",
       "3    0.191324  0.956321  0.018438  3.757116  0.004910        3   None  lake\n",
       "4    0.310569  0.965410  0.023589  3.796311  0.004523        4   None  lake\n",
       "..        ...       ...       ...       ...       ...      ...    ...   ...\n",
       "995  0.333441  0.963031  0.044761  3.665375  0.002761      995   None  lake\n",
       "996  0.106109  0.943359  0.018337  4.184702  0.002012      996   None  lake\n",
       "997  0.115793  0.943208  0.038070  3.103588  0.004756      997   None  lake\n",
       "998  0.208391  0.961869  0.043259  3.746851  0.003386      998   None  lake\n",
       "999  0.189979  0.989254  0.043537  3.707997  0.001321      999   None  lake\n",
       "\n",
       "[1000 rows x 8 columns]"
      ],
      "text/html": [
       "<div>\n",
       "<style scoped>\n",
       "    .dataframe tbody tr th:only-of-type {\n",
       "        vertical-align: middle;\n",
       "    }\n",
       "\n",
       "    .dataframe tbody tr th {\n",
       "        vertical-align: top;\n",
       "    }\n",
       "\n",
       "    .dataframe thead th {\n",
       "        text-align: right;\n",
       "    }\n",
       "</style>\n",
       "<table border=\"1\" class=\"dataframe\">\n",
       "  <thead>\n",
       "    <tr style=\"text-align: right;\">\n",
       "      <th></th>\n",
       "      <th>b</th>\n",
       "      <th>delta</th>\n",
       "      <th>mean</th>\n",
       "      <th>q</th>\n",
       "      <th>stdev</th>\n",
       "      <th>scenario</th>\n",
       "      <th>policy</th>\n",
       "      <th>model</th>\n",
       "    </tr>\n",
       "  </thead>\n",
       "  <tbody>\n",
       "    <tr>\n",
       "      <th>0</th>\n",
       "      <td>0.313976</td>\n",
       "      <td>0.971584</td>\n",
       "      <td>0.011728</td>\n",
       "      <td>2.809143</td>\n",
       "      <td>0.002141</td>\n",
       "      <td>0</td>\n",
       "      <td>None</td>\n",
       "      <td>lake</td>\n",
       "    </tr>\n",
       "    <tr>\n",
       "      <th>1</th>\n",
       "      <td>0.179775</td>\n",
       "      <td>0.942733</td>\n",
       "      <td>0.048939</td>\n",
       "      <td>3.918820</td>\n",
       "      <td>0.002972</td>\n",
       "      <td>1</td>\n",
       "      <td>None</td>\n",
       "      <td>lake</td>\n",
       "    </tr>\n",
       "    <tr>\n",
       "      <th>2</th>\n",
       "      <td>0.269375</td>\n",
       "      <td>0.951854</td>\n",
       "      <td>0.028855</td>\n",
       "      <td>4.365601</td>\n",
       "      <td>0.004556</td>\n",
       "      <td>2</td>\n",
       "      <td>None</td>\n",
       "      <td>lake</td>\n",
       "    </tr>\n",
       "    <tr>\n",
       "      <th>3</th>\n",
       "      <td>0.191324</td>\n",
       "      <td>0.956321</td>\n",
       "      <td>0.018438</td>\n",
       "      <td>3.757116</td>\n",
       "      <td>0.004910</td>\n",
       "      <td>3</td>\n",
       "      <td>None</td>\n",
       "      <td>lake</td>\n",
       "    </tr>\n",
       "    <tr>\n",
       "      <th>4</th>\n",
       "      <td>0.310569</td>\n",
       "      <td>0.965410</td>\n",
       "      <td>0.023589</td>\n",
       "      <td>3.796311</td>\n",
       "      <td>0.004523</td>\n",
       "      <td>4</td>\n",
       "      <td>None</td>\n",
       "      <td>lake</td>\n",
       "    </tr>\n",
       "    <tr>\n",
       "      <th>...</th>\n",
       "      <td>...</td>\n",
       "      <td>...</td>\n",
       "      <td>...</td>\n",
       "      <td>...</td>\n",
       "      <td>...</td>\n",
       "      <td>...</td>\n",
       "      <td>...</td>\n",
       "      <td>...</td>\n",
       "    </tr>\n",
       "    <tr>\n",
       "      <th>995</th>\n",
       "      <td>0.333441</td>\n",
       "      <td>0.963031</td>\n",
       "      <td>0.044761</td>\n",
       "      <td>3.665375</td>\n",
       "      <td>0.002761</td>\n",
       "      <td>995</td>\n",
       "      <td>None</td>\n",
       "      <td>lake</td>\n",
       "    </tr>\n",
       "    <tr>\n",
       "      <th>996</th>\n",
       "      <td>0.106109</td>\n",
       "      <td>0.943359</td>\n",
       "      <td>0.018337</td>\n",
       "      <td>4.184702</td>\n",
       "      <td>0.002012</td>\n",
       "      <td>996</td>\n",
       "      <td>None</td>\n",
       "      <td>lake</td>\n",
       "    </tr>\n",
       "    <tr>\n",
       "      <th>997</th>\n",
       "      <td>0.115793</td>\n",
       "      <td>0.943208</td>\n",
       "      <td>0.038070</td>\n",
       "      <td>3.103588</td>\n",
       "      <td>0.004756</td>\n",
       "      <td>997</td>\n",
       "      <td>None</td>\n",
       "      <td>lake</td>\n",
       "    </tr>\n",
       "    <tr>\n",
       "      <th>998</th>\n",
       "      <td>0.208391</td>\n",
       "      <td>0.961869</td>\n",
       "      <td>0.043259</td>\n",
       "      <td>3.746851</td>\n",
       "      <td>0.003386</td>\n",
       "      <td>998</td>\n",
       "      <td>None</td>\n",
       "      <td>lake</td>\n",
       "    </tr>\n",
       "    <tr>\n",
       "      <th>999</th>\n",
       "      <td>0.189979</td>\n",
       "      <td>0.989254</td>\n",
       "      <td>0.043537</td>\n",
       "      <td>3.707997</td>\n",
       "      <td>0.001321</td>\n",
       "      <td>999</td>\n",
       "      <td>None</td>\n",
       "      <td>lake</td>\n",
       "    </tr>\n",
       "  </tbody>\n",
       "</table>\n",
       "<p>1000 rows × 8 columns</p>\n",
       "</div>"
      ]
     },
     "execution_count": 3,
     "metadata": {},
     "output_type": "execute_result"
    }
   ],
   "execution_count": 3
  },
  {
   "metadata": {
    "ExecuteTime": {
     "end_time": "2024-05-06T13:09:21.767258Z",
     "start_time": "2024-05-06T13:09:09.496717Z"
    }
   },
   "cell_type": "code",
   "source": [
    "from ema_workbench.analysis import plotting, plotting_util\n",
    "import matplotlib.pyplot as plt \n",
    "\n",
    "for outcome in outcomes.keys():\n",
    "    plotting.lines(experiments, outcomes, outcomes_to_show=outcome,\n",
    "                   density=plotting_util.Density.HIST)\n",
    "plt.show()"
   ],
   "outputs": [
    {
     "ename": "KeyError",
     "evalue": "'max_P'",
     "output_type": "error",
     "traceback": [
      "\u001B[1;31m---------------------------------------------------------------------------\u001B[0m",
      "\u001B[1;31mKeyError\u001B[0m                                  Traceback (most recent call last)",
      "Cell \u001B[1;32mIn[4], line 5\u001B[0m\n\u001B[0;32m      2\u001B[0m \u001B[38;5;28;01mimport\u001B[39;00m \u001B[38;5;21;01mmatplotlib\u001B[39;00m\u001B[38;5;21;01m.\u001B[39;00m\u001B[38;5;21;01mpyplot\u001B[39;00m \u001B[38;5;28;01mas\u001B[39;00m \u001B[38;5;21;01mplt\u001B[39;00m \n\u001B[0;32m      4\u001B[0m \u001B[38;5;28;01mfor\u001B[39;00m outcome \u001B[38;5;129;01min\u001B[39;00m outcomes\u001B[38;5;241m.\u001B[39mkeys():\n\u001B[1;32m----> 5\u001B[0m     plotting\u001B[38;5;241m.\u001B[39mlines(experiments, outcomes, outcomes_to_show\u001B[38;5;241m=\u001B[39moutcome,\n\u001B[0;32m      6\u001B[0m                    density\u001B[38;5;241m=\u001B[39mplotting_util\u001B[38;5;241m.\u001B[39mDensity\u001B[38;5;241m.\u001B[39mHIST)\n\u001B[0;32m      7\u001B[0m plt\u001B[38;5;241m.\u001B[39mshow()\n",
      "File \u001B[1;32m~\\anaconda3\\Lib\\site-packages\\ema_workbench\\analysis\\plotting.py:367\u001B[0m, in \u001B[0;36mlines\u001B[1;34m(experiments, outcomes, outcomes_to_show, group_by, grouping_specifiers, density, legend, titles, ylabels, experiments_to_show, show_envelope, log)\u001B[0m\n\u001B[0;32m    365\u001B[0m     group_by_lines(outcomes, outcome_to_plot, time, density, ax, ax_d, grouping_labels, log)\n\u001B[0;32m    366\u001B[0m \u001B[38;5;28;01melse\u001B[39;00m:\n\u001B[1;32m--> 367\u001B[0m     simple_lines(outcomes, outcome_to_plot, time, density, ax, ax_d, log)\n\u001B[0;32m    368\u001B[0m ax\u001B[38;5;241m.\u001B[39mset_xlabel(TIME_LABEL)\n\u001B[0;32m    369\u001B[0m do_ylabels(ax, ylabels, outcome_to_plot)\n",
      "File \u001B[1;32m~\\anaconda3\\Lib\\site-packages\\ema_workbench\\analysis\\plotting.py:563\u001B[0m, in \u001B[0;36msimple_lines\u001B[1;34m(outcomes, outcome_to_plot, time, density, ax, ax_d, log)\u001B[0m\n\u001B[0;32m    547\u001B[0m \u001B[38;5;28;01mdef\u001B[39;00m \u001B[38;5;21msimple_lines\u001B[39m(outcomes, outcome_to_plot, time, density, ax, ax_d, log):\n\u001B[0;32m    548\u001B[0m \u001B[38;5;250m    \u001B[39m\u001B[38;5;124;03m\"\"\"\u001B[39;00m\n\u001B[0;32m    549\u001B[0m \n\u001B[0;32m    550\u001B[0m \u001B[38;5;124;03m    Helper function responsible for generating a simple lines plot.\u001B[39;00m\n\u001B[1;32m   (...)\u001B[0m\n\u001B[0;32m    561\u001B[0m \n\u001B[0;32m    562\u001B[0m \u001B[38;5;124;03m    \"\"\"\u001B[39;00m\n\u001B[1;32m--> 563\u001B[0m     value \u001B[38;5;241m=\u001B[39m outcomes[outcome_to_plot]\n\u001B[0;32m    564\u001B[0m     ax\u001B[38;5;241m.\u001B[39mplot(time\u001B[38;5;241m.\u001B[39mT, value\u001B[38;5;241m.\u001B[39mT)\n\u001B[0;32m    565\u001B[0m     \u001B[38;5;28;01mif\u001B[39;00m density:\n",
      "\u001B[1;31mKeyError\u001B[0m: 'max_P'"
     ]
    },
    {
     "data": {
      "text/plain": [
       "<Figure size 640x480 with 2 Axes>"
      ],
      "image/png": "[encoded data removed]"
     },
     "metadata": {},
     "output_type": "display_data"
    }
   ],
   "execution_count": 4
  },
  {
   "cell_type": "markdown",
   "metadata": {},
   "source": [
    "4. If you have not used parallelization in the foregoing, try to adapt your code to use parallelization. The workbench comes with two evaluators for parallelization. The `MultiProcessingingEvaluator` and the `IpyparallelEvaluator`. When can you use each? Adapt your code from above and sue the `MultiProcessingingEvaluator`. Use the `time` or `timeit` library to check how much faster the computation for 1000 scenarios completes.\n",
    "\n",
    "#### A note on parallelization in Jupyter notebooks\n",
    "Using multiprocessing within a Jupyter notebook is tricky. On Linux it will work in general just fine. On a Mac it depends on the version of macOS and the version of Python. If you are on the latest version of macOS in combination with Python 3.8, it might work but no guarantees. On older versions of Python it should work fine. On Windows it is always a problem.\n",
    "\n",
    "The underlying explanation is quite technical. It has to do with how your operating system creates the additional python processes. On Windows, and the latest version of macOS in combination with Python 3.8. A completely new Python process is spawned. This new process does **not** inherit what is defined in memory of the parent process. The new child process will try to replicate what is in memory of the parent process by executing many of the import statements that have also been executed within the python process. Thus, if you define a model in the main process, it is not guaranteed to be known in the child processes. This is in particular true if you define the model within a jupyter notebook. Then the child processes will **never** know this function. Within jupyter notebooks, therefore, the best practice is to define your model within a `.py` file and import this `.py` file into the notebook. Now, each of the child processes will also execute this import statement and thus know the function.\n"
   ]
  },
  {
   "cell_type": "code",
   "metadata": {
    "ExecuteTime": {
     "end_time": "2024-05-06T13:09:21.780812Z",
     "start_time": "2024-05-06T13:09:21.779815Z"
    }
   },
   "source": [],
   "outputs": [],
   "execution_count": null
  },
  {
   "cell_type": "markdown",
   "source": [
    "#### Conclusion\n",
    "..."
   ],
   "metadata": {
    "collapsed": false
   }
  }
 ],
 "metadata": {
  "anaconda-cloud": {},
  "kernelspec": {
   "display_name": "Python 3",
   "language": "python",
   "name": "python3"
  },
  "language_info": {
   "codemirror_mode": {
    "name": "ipython",
    "version": 3
   },
   "file_extension": ".py",
   "mimetype": "text/x-python",
   "name": "python",
   "nbconvert_exporter": "python",
   "pygments_lexer": "ipython3",
   "version": "3.8.5"
  },
  "latex_envs": {
   "LaTeX_envs_menu_present": true,
   "autocomplete": true,
   "bibliofile": "biblio.bib",
   "cite_by": "apalike",
   "current_citInitial": 1,
   "eqLabelWithNumbers": true,
   "eqNumInitial": 1,
   "hotkeys": {
    "equation": "Ctrl-E",
    "itemize": "Ctrl-I"
   },
   "labels_anchors": false,
   "latex_user_defs": false,
   "report_style_numbering": false,
   "user_envs_cfg": false
  }
 },
 "nbformat": 4,
 "nbformat_minor": 4
}
