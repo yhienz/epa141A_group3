{
 "cells": [
  {
   "cell_type": "markdown",
   "source": [
    "## 1. Tutorial: Introduction to the SIR Model and the Workbench\n",
    "Learn the basics of the SIR model, connect it to the workbench, run simulations, and visualize the results to understand the impact of uncertain parameters.\n",
    "\n",
    "### Overview of this notebook\n",
    "- Introduction to the SIR model:\n",
    "  - Learn the basic principles of the SIR model for disease spread.\n",
    "  - Understand the three groups in the model and the role of parameters β and γ.\n",
    "- Connecting the SIR model with the workbench:\n",
    "  - Learn how to connect a Python-based model to the workbench.\n",
    "  - Understand how to specify uncertain parameters and outcomes of interest.\n",
    "- Running the model with the workbench:\n",
    "  - Learn how to run the connected model using the workbench's evaluator and perform_experiments method.\n",
    "  - Explore the concept of scenarios and the default sampling method used by the workbench.\n",
    "- Visualizing the results:\n",
    "  - Get introduced to visualization tools provided by the workbench for time series data.\n",
    "  - Investigate the effects of uncertain parameters on the outcomes and gain insights from the visualizations."
   ],
   "metadata": {
    "collapsed": false
   }
  },
  {
   "cell_type": "markdown",
   "metadata": {},
   "source": [
    "### SIR model\n",
    "A very basic model for the spread of a dissease is the Succeptible, Infected, Recovered (SIR) model. This model splits a population into three groups.\n",
    "\n",
    "1. $S(t)$ - the part of the population that is succeptible but not yet infected with the disease\n",
    "2. $I(t)$ - the part of the population that is infected with the disease\n",
    "3. $R(t)$ - the part of the population that has recovered from the disease. \n",
    "\n",
    "The SIR model uses a system of ODE's to describe how these three groups change over time. In it's most simple form, the model uses only the contact ration $\\beta$ and the mean recovery rate $\\gamma$ for this.\n",
    "\n",
    "Below is a python implementation of this simple model, taken from https://scipython.com/book/chapter-8-scipy/additional-examples/the-sir-epidemic-model/. \n"
   ]
  },
  {
   "cell_type": "code",
   "source": [
    "import numpy as np\n",
    "import matplotlib.pyplot as plt\n",
    "import seaborn as sns\n",
    "\n",
    "from scipy.integrate import odeint"
   ],
   "metadata": {
    "collapsed": false,
    "ExecuteTime": {
     "end_time": "2024-04-25T13:59:58.201793Z",
     "start_time": "2024-04-25T13:59:57.753726Z"
    }
   },
   "execution_count": 2,
   "outputs": []
  },
  {
   "cell_type": "code",
   "metadata": {
    "ExecuteTime": {
     "end_time": "2024-04-25T14:00:04.450316Z",
     "start_time": "2024-04-25T14:00:04.413570Z"
    }
   },
   "source": [
    "# The SIR model differential equations.\n",
    "def deriv(y, t, N, beta, gamma):\n",
    "    S, I, R = y\n",
    "    dSdt = -beta * S * I / N\n",
    "    dIdt = beta * S * I / N - gamma * I\n",
    "    dRdt = gamma * I\n",
    "    return dSdt, dIdt, dRdt\n",
    "\n",
    "def SIR_model(beta=0.2, gamma=0.1, I0=1, R0=0, \n",
    "              N=1000, t=np.linspace(0, 160, 160)):\n",
    "    '''\n",
    "    \n",
    "    Parameters\n",
    "    ----------\n",
    "    beta : float\n",
    "           contact rate\n",
    "    gamma : float\n",
    "            recovery rate\n",
    "    I0 : int\n",
    "         initial value infected\n",
    "    R0 : int\n",
    "         initial value recovered\n",
    "    N : int\n",
    "        population size\n",
    "    t : ndarray\n",
    "        points in time\n",
    "    \n",
    "    '''\n",
    "    S0 = N - I0 - R0\n",
    "    \n",
    "    # Initial conditions vector\n",
    "    y0 = S0, I0, R0\n",
    "    # Integrate the SIR equations over the time grid, t.\n",
    "    ret = odeint(deriv, y0, t, args=(N, beta, gamma))\n",
    "    S, I, R = ret.T\n",
    "    \n",
    "    return {'S':S, 'I':I, 'R':R}"
   ],
   "execution_count": 4,
   "outputs": []
  },
  {
   "cell_type": "markdown",
   "metadata": {},
   "source": [
    "### Connecting the SIR model with the workbench\n",
    "\n",
    "Let's connect this simple model to the workbench. We make the following assumptions\n",
    "1. $\\beta$ and $\\gamma$ are uncertain. We assume that $\\beta$ is somewhere between 0.05 and 0.3, while $\\gamma$ is somewhere between 0.01, and 0.15.\n",
    "2. The outcomes of interest are $S(t)$, $I(t)$, and $R(t)$ over time.\n",
    "\n",
    "To connect the model to the workbench, we need to do at least 3 things:\n",
    "1. **Instantiate a model class**; the workbench comes with a variety of model classes for making it easy to connect with existing simulation packages such as Vensim, PySD, Simio, or Netlogo. Since we have a model implemented in Python, we can use the most basic Model class.\n",
    "2. **Specify the uncertain parameters** (and/or decision levers); Note below how the name of the parameters matched the name of the keyword arguments of the SIR_model function. The workbench makes a distinction between RealParameters, IntegerParameters, BinaryParameters, and CategoricalParameters. For this example, our parameters $\\beta$ and $\\gamma$ have a continuous range so we use RealParameters \n",
    "3. **Specify the outcomes of interest**; the workbench makes a distinction between TimeSeriesOutcomes and ScalarOutcomes. $S$, $I$, and $R$ are time series, so we use TimeSeriesOutcomes"
   ]
  },
  {
   "cell_type": "code",
   "metadata": {
    "ExecuteTime": {
     "end_time": "2024-04-25T14:03:13.662882Z",
     "start_time": "2024-04-25T14:03:13.632509Z"
    }
   },
   "source": [
    "from ema_workbench import Model, RealParameter, TimeSeriesOutcome\n",
    "\n",
    "model = Model('SIR', function=SIR_model)\n",
    "\n",
    "model.uncertainties = [RealParameter('beta', 0.05, 0.3),\n",
    "                       RealParameter('gamma', 0.01, 0.15)]\n",
    "\n",
    "model.outcomes = [TimeSeriesOutcome('S'),\n",
    "                  TimeSeriesOutcome('I'),\n",
    "                  TimeSeriesOutcome('R')]"
   ],
   "execution_count": 6,
   "outputs": []
  },
  {
   "cell_type": "markdown",
   "metadata": {},
   "source": [
    "The code above is a minimum working example of how to connect a model, the SIR_model function in this case, to the ema workbech. Even very large and complex cases will mimic this structure. \n",
    "\n",
    "### Running the model with the workbench\n",
    "\n",
    "The next step is to run the model. For this we use an evaluator and the perform_experiments method. The workbench by default will use a latin hypercupe sampler to generate points in the parameter space defined by the uncertainties and/or levers. The uncertainties jointly span the uncertainty space. The levers (not used in this example) span the lever space. A point in uncertainty space is a scenario. A point in lever space is a policy. The combination of a scenario and a policy (where either might be None) is an experiment. \n",
    "\n",
    "A few remarks on this\n",
    "1. The workbench assumes uniform distributions. During the class it will be explained in more detail why we make this assumption and what consequences follow from this.\n",
    "2. The workbench comes with a wide range of alternative samplers, some of which we will use later in the course\n",
    "3. The workbench offers support for taking advantage of the fact that many modern computers have multiple cores. See assingment 2 for this week for more on this. For now, we use a SequentialEvaluator\n",
    "4. The workbench treats sampling in the uncertainty space and the lever space separately. It will always execute a full factorial over the combination of the lever space and the uncertainty space.\n",
    "\n",
    "Let's run the model for 100 scenarios."
   ]
  },
  {
   "cell_type": "code",
   "execution_count": 5,
   "metadata": {
    "ExecuteTime": {
     "start_time": "2023-04-07T11:06:23.494096Z",
     "end_time": "2023-04-07T11:06:23.622168Z"
    }
   },
   "source": [
    "from ema_workbench import SequentialEvaluator\n",
    "\n",
    "with SequentialEvaluator(model) as evaluator:\n",
    "    experiments, outcomes = evaluator.perform_experiments(scenarios=100)"
   ],
   "outputs": []
  },
  {
   "cell_type": "code",
   "source": [
    "experiments"
   ],
   "metadata": {
    "collapsed": false,
    "ExecuteTime": {
     "end_time": "2024-04-25T14:06:36.584905Z",
     "start_time": "2024-04-25T14:06:36.551644Z"
    }
   },
   "execution_count": 12,
   "outputs": []
  },
  {
   "cell_type": "markdown",
   "metadata": {},
   "source": [
    "### Visualizing the results\n",
    "\n",
    "Now that we have run the model 100 times, we can visualize the results. The workbench comes with a range of analysis functions including some convenience functions for visualizing time series data. For now, we use the function `ema_workbench.analysis.plotting.lines`. If you want to get a sense of what other analyses are available, please read the online documentation at https://emaworkbench.readthedocs.io. Over the coming weeks, we will systematically go through many of the analyses that are available."
   ]
  },
  {
   "cell_type": "code",
   "source": [
    "from ema_workbench.analysis import plotting, plotting_util\n",
    "\n",
    "for outcome in outcomes.keys():\n",
    "    plotting.lines(experiments, outcomes, outcomes_to_show=outcome,\n",
    "                   density=plotting_util.Density.HIST)\n",
    "plt.show()"
   ],
   "metadata": {
    "collapsed": false,
    "ExecuteTime": {
     "end_time": "2024-04-25T14:06:51.604379Z",
     "start_time": "2024-04-25T14:06:42.503339Z"
    }
   },
   "execution_count": 13,
   "outputs": []
  },
  {
   "cell_type": "markdown",
   "source": [
    "In each plot on the left for all hunderd runs the susceptible, infected, and recovered population are plotted. On the right of each plot, a histogram of these values is shown."
   ],
   "metadata": {
    "collapsed": false
   }
  },
  {
   "cell_type": "markdown",
   "metadata": {},
   "source": [
    "#### Effect uncertainty on outbreak\n",
    "A key element in exploratory modeling is to try to understand how points in the uncertainty space map relate to outcomes or types of outcomes. Since in this example, we only have 2 uncertain parameters, basic visual inspection can already give a fair bit of insight. Let's try to answer the following question: how do $\\gamma$ and $\\beta$ affect the severity and timing of the outbreak? To answer this we need to do the following:\n",
    "1. get the maximum value over time for $I$ for each scenario (use np.max)\n",
    "2. Establish the point in time of this maximum (use np.argmax)\n",
    "3. visualize how 1 and 2 are affected by $\\beta$ and $\\gamma$ **jointly** (use scatter plots with max I, and the point in time as color)\n",
    "4. How are timing and the maximum related to each other?\n"
   ]
  },
  {
   "cell_type": "code",
   "source": [
    "# Calculate the maximum value of I\n",
    "I = outcomes['I']\n",
    "maxI = np.max(I, axis=1)\n",
    "\n",
    "# Calculate the timing of the maximum value of I\n",
    "timing = np.argmax(I, axis=1)"
   ],
   "metadata": {
    "collapsed": false,
    "ExecuteTime": {
     "end_time": "2024-04-25T14:17:52.324186Z",
     "start_time": "2024-04-25T14:17:52.186715Z"
    }
   },
   "execution_count": 14,
   "outputs": []
  },
  {
   "cell_type": "code",
   "source": [
    "def plot_scatter(labels=False, beta_is_gamma_line=False):\n",
    "    # Plot the relationship between beta and gamma, using max I and timing as color\n",
    "    fig, ax = plt.subplots(1,2, figsize=(12,6))\n",
    "\n",
    "    for i, hue in enumerate([maxI, timing]):\n",
    "        sc = ax[i].scatter(experiments.beta, experiments.gamma, c=hue, cmap='viridis')\n",
    "        cb = plt.colorbar(sc)\n",
    "        ax[i].set_title(f\"Relationship between beta, gamma and {['max. I', 'timing of max I'][i]}\")\n",
    "        ax[i].set_xlabel('Beta (contact rate)')\n",
    "        ax[i].set_ylabel('Gamma (recovery rate)')\n",
    "        cb.set_label(['max. infections', 'time step of max. I.'][i])\n",
    "\n",
    "        # Add labels with the hue value\n",
    "        if labels:\n",
    "            for j, (beta, gamma) in enumerate(zip(experiments.beta, experiments.gamma)):\n",
    "                ax[i].text(beta, gamma, f\"{hue[j]:.0f}\", fontsize=8)\n",
    "\n",
    "        # To the second plot, add a line with beta = gamma\n",
    "        if i == 1 and beta_is_gamma_line:\n",
    "            ax[i].plot(np.linspace(0.05,0.15), np.linspace(0.05,0.15), color='red')\n",
    "    plt.show()\n",
    "\n",
    "plot_scatter()"
   ],
   "metadata": {
    "collapsed": false,
    "ExecuteTime": {
     "end_time": "2024-04-25T14:18:22.491455Z",
     "start_time": "2024-04-25T14:18:17.523735Z"
    }
   },
   "execution_count": 15,
   "outputs": []
  },
  {
   "cell_type": "markdown",
   "source": [
    "Notable on the left plot is that a higher beta value and a lower gamma value are associated with a higher maximum value of I. This is intuitive, since a higher beta values means more contact between individuals, and a lower gamma value means that individuals are less likely to recover.\n",
    "\n",
    "On the right plot, there is more interesting behaviour. With a low contact rate and high recovery rate, the highest number of infected people is at the first time step. Only the initially infected person is infected, and infects no other persons. After that, as the contact rate increases and recovery rate decreases, the time of the maximum value of I shifts from the last time step (meaning likely no peak is reached during the simulation) to shorter and shorter time steps.\n",
    "\n",
    "This becomes even clearer if we add labels with the numbers, and a red line with beta = gamma to the second plot. If the recovery rate is higher than the infection rate, the disease will likely die out.\n",
    "\n"
   ],
   "metadata": {
    "collapsed": false
   }
  },
  {
   "cell_type": "code",
   "execution_count": 41,
   "source": [
    "plot_scatter(labels=True, beta_is_gamma_line=True)"
   ],
   "metadata": {
    "collapsed": false,
    "ExecuteTime": {
     "start_time": "2023-04-07T12:24:53.803648Z",
     "end_time": "2023-04-07T12:24:54.198012Z"
    }
   },
   "outputs": []
  },
  {
   "cell_type": "markdown",
   "source": [
    "Finally, if we want to see how the timing and the maximum value of I are related to each other, we can use a scatter plot with the timing on the x-axis and the maximum value of I on the y-axis."
   ],
   "metadata": {
    "collapsed": false
   }
  },
  {
   "cell_type": "code",
   "execution_count": 48,
   "metadata": {
    "ExecuteTime": {
     "start_time": "2023-04-07T12:31:26.026549Z",
     "end_time": "2023-04-07T12:31:26.136366Z"
    }
   },
   "source": [
    "fig, ax = plt.subplots(figsize=(6,6))\n",
    "\n",
    "sc = ax.scatter(timing, maxI)\n",
    "ax.set_title('Timing and severity of outbreak')\n",
    "ax.set_xlabel('Point in time')\n",
    "ax.set_ylabel('Max. I (infected)')\n",
    "plt.show()"
   ],
   "outputs": []
  },
  {
   "cell_type": "markdown",
   "source": [
    "Notably, there is a negative correlation between the timing of the outbreak and the number infected. A slow outbreak with a late peak has a low number of infected people, while a fast outbreak with an early peak has a high number of infected people. This is intuitive, since a slow outbreak has more time to spread, and a fast outbreak has less time to spread."
   ],
   "metadata": {
    "collapsed": false
   }
  },
  {
   "cell_type": "markdown",
   "source": [
    "### Conclusion\n",
    "This shows an example of how to use the workbench to explore a simple model, and how to use the workbench to visualize and interpret the results.\n",
    "\n",
    "Assignment 2 and 3 will introduce two other models, which you will be able to explore yourself using the workbench.\n",
    "\n",
    "The [EMAworkbench documentation](https://emaworkbench.readthedocs.io/en/latest/) and [code itself](https://github.com/quaquel/EMAworkbench) provide a lot of information on how to use the workbench, as well as a lot of [examples](https://github.com/quaquel/EMAworkbench/tree/master/ema_workbench/examples)."
   ],
   "metadata": {
    "collapsed": false
   }
  }
 ],
 "metadata": {
  "kernelspec": {
   "display_name": "Python 3",
   "language": "python",
   "name": "python3"
  },
  "language_info": {
   "codemirror_mode": {
    "name": "ipython",
    "version": 3
   },
   "file_extension": ".py",
   "mimetype": "text/x-python",
   "name": "python",
   "nbconvert_exporter": "python",
   "pygments_lexer": "ipython3",
   "version": "3.7.6"
  }
 },
 "nbformat": 4,
 "nbformat_minor": 4
}
